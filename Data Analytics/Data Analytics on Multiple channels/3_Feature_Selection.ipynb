{
  "nbformat": 4,
  "nbformat_minor": 0,
  "metadata": {
    "colab": {
      "provenance": []
    },
    "kernelspec": {
      "name": "python3",
      "display_name": "Python 3"
    },
    "language_info": {
      "name": "python"
    }
  },
  "cells": [
    {
      "cell_type": "markdown",
      "source": [
        "# **Feature Selection** involves adding tag count, duration in Seconds, published weekday and year of a video."
      ],
      "metadata": {
        "id": "STyuCrdiiG1e"
      }
    },
    {
      "cell_type": "code",
      "execution_count": null,
      "metadata": {
        "id": "wRqUjeiLUWsi"
      },
      "outputs": [],
      "source": [
        "import pandas as pd"
      ]
    },
    {
      "cell_type": "code",
      "source": [
        "# Mount Google Drive\n",
        "from google.colab import drive\n",
        "drive.mount('/content/drive',force_remount=True)\n",
        "\n",
        "# Define file path of CSV file in Google Drive\n",
        "file_path = \"/content/drive/MyDrive/video_df.csv\""
      ],
      "metadata": {
        "colab": {
          "base_uri": "https://localhost:8080/"
        },
        "id": "ULyZigWcVmgM",
        "outputId": "eaad6fa2-afcf-4bce-957a-169cc3d165f3"
      },
      "execution_count": null,
      "outputs": [
        {
          "output_type": "stream",
          "name": "stdout",
          "text": [
            "Mounted at /content/drive\n"
          ]
        }
      ]
    },
    {
      "cell_type": "code",
      "source": [
        "# Load CSV file into a pandas dataframe\n",
        "df = pd.read_csv(file_path)\n",
        "\n",
        "# Print first few rows of the dataframe\n",
        "df.head()"
      ],
      "metadata": {
        "colab": {
          "base_uri": "https://localhost:8080/",
          "height": 206
        },
        "id": "XrNhsiHDW7n4",
        "outputId": "d425d3c6-ad68-4637-d36c-99bac93d6b4a"
      },
      "execution_count": null,
      "outputs": [
        {
          "output_type": "execute_result",
          "data": {
            "text/plain": [
              "   channelTitle                                              title tags  \\\n",
              "0  Aditya Music  Hello Alludu Full Songs Jukebox | Suman, Rambh...  NaN   \n",
              "1  Aditya Music  Ammayi Kosam Full Songs Jukebox | Vineeth, Mee...  NaN   \n",
              "2  Aditya Music  Ammo Okato Thareeku Full Songs Jukebox | Srika...  NaN   \n",
              "3  Aditya Music  Interview With Priya Hegde And Kiran Raj | Nuv...  NaN   \n",
              "4  Aditya Music  Manusutho Preminchi Full Video Song | Samudram...  NaN   \n",
              "\n",
              "            publishedAt  viewCount  likeCount  commentCount  duration  \n",
              "0  2023-02-21T17:30:05Z      139.0        1.0           0.0  PT20M55S  \n",
              "1  2023-02-21T17:00:38Z      458.0        2.0           0.0  PT26M56S  \n",
              "2  2023-02-21T16:30:13Z      534.0        3.0           0.0  PT26M58S  \n",
              "3  2023-02-21T13:30:08Z     1364.0       14.0           0.0  PT26M52S  \n",
              "4  2023-02-21T13:00:16Z     1930.0       32.0           6.0   PT3M32S  "
            ],
            "text/html": [
              "\n",
              "  <div id=\"df-9c43b018-e149-4f1c-a7e5-e1bab2c1593c\">\n",
              "    <div class=\"colab-df-container\">\n",
              "      <div>\n",
              "<style scoped>\n",
              "    .dataframe tbody tr th:only-of-type {\n",
              "        vertical-align: middle;\n",
              "    }\n",
              "\n",
              "    .dataframe tbody tr th {\n",
              "        vertical-align: top;\n",
              "    }\n",
              "\n",
              "    .dataframe thead th {\n",
              "        text-align: right;\n",
              "    }\n",
              "</style>\n",
              "<table border=\"1\" class=\"dataframe\">\n",
              "  <thead>\n",
              "    <tr style=\"text-align: right;\">\n",
              "      <th></th>\n",
              "      <th>channelTitle</th>\n",
              "      <th>title</th>\n",
              "      <th>tags</th>\n",
              "      <th>publishedAt</th>\n",
              "      <th>viewCount</th>\n",
              "      <th>likeCount</th>\n",
              "      <th>commentCount</th>\n",
              "      <th>duration</th>\n",
              "    </tr>\n",
              "  </thead>\n",
              "  <tbody>\n",
              "    <tr>\n",
              "      <th>0</th>\n",
              "      <td>Aditya Music</td>\n",
              "      <td>Hello Alludu Full Songs Jukebox | Suman, Rambh...</td>\n",
              "      <td>NaN</td>\n",
              "      <td>2023-02-21T17:30:05Z</td>\n",
              "      <td>139.0</td>\n",
              "      <td>1.0</td>\n",
              "      <td>0.0</td>\n",
              "      <td>PT20M55S</td>\n",
              "    </tr>\n",
              "    <tr>\n",
              "      <th>1</th>\n",
              "      <td>Aditya Music</td>\n",
              "      <td>Ammayi Kosam Full Songs Jukebox | Vineeth, Mee...</td>\n",
              "      <td>NaN</td>\n",
              "      <td>2023-02-21T17:00:38Z</td>\n",
              "      <td>458.0</td>\n",
              "      <td>2.0</td>\n",
              "      <td>0.0</td>\n",
              "      <td>PT26M56S</td>\n",
              "    </tr>\n",
              "    <tr>\n",
              "      <th>2</th>\n",
              "      <td>Aditya Music</td>\n",
              "      <td>Ammo Okato Thareeku Full Songs Jukebox | Srika...</td>\n",
              "      <td>NaN</td>\n",
              "      <td>2023-02-21T16:30:13Z</td>\n",
              "      <td>534.0</td>\n",
              "      <td>3.0</td>\n",
              "      <td>0.0</td>\n",
              "      <td>PT26M58S</td>\n",
              "    </tr>\n",
              "    <tr>\n",
              "      <th>3</th>\n",
              "      <td>Aditya Music</td>\n",
              "      <td>Interview With Priya Hegde And Kiran Raj | Nuv...</td>\n",
              "      <td>NaN</td>\n",
              "      <td>2023-02-21T13:30:08Z</td>\n",
              "      <td>1364.0</td>\n",
              "      <td>14.0</td>\n",
              "      <td>0.0</td>\n",
              "      <td>PT26M52S</td>\n",
              "    </tr>\n",
              "    <tr>\n",
              "      <th>4</th>\n",
              "      <td>Aditya Music</td>\n",
              "      <td>Manusutho Preminchi Full Video Song | Samudram...</td>\n",
              "      <td>NaN</td>\n",
              "      <td>2023-02-21T13:00:16Z</td>\n",
              "      <td>1930.0</td>\n",
              "      <td>32.0</td>\n",
              "      <td>6.0</td>\n",
              "      <td>PT3M32S</td>\n",
              "    </tr>\n",
              "  </tbody>\n",
              "</table>\n",
              "</div>\n",
              "      <button class=\"colab-df-convert\" onclick=\"convertToInteractive('df-9c43b018-e149-4f1c-a7e5-e1bab2c1593c')\"\n",
              "              title=\"Convert this dataframe to an interactive table.\"\n",
              "              style=\"display:none;\">\n",
              "        \n",
              "  <svg xmlns=\"http://www.w3.org/2000/svg\" height=\"24px\"viewBox=\"0 0 24 24\"\n",
              "       width=\"24px\">\n",
              "    <path d=\"M0 0h24v24H0V0z\" fill=\"none\"/>\n",
              "    <path d=\"M18.56 5.44l.94 2.06.94-2.06 2.06-.94-2.06-.94-.94-2.06-.94 2.06-2.06.94zm-11 1L8.5 8.5l.94-2.06 2.06-.94-2.06-.94L8.5 2.5l-.94 2.06-2.06.94zm10 10l.94 2.06.94-2.06 2.06-.94-2.06-.94-.94-2.06-.94 2.06-2.06.94z\"/><path d=\"M17.41 7.96l-1.37-1.37c-.4-.4-.92-.59-1.43-.59-.52 0-1.04.2-1.43.59L10.3 9.45l-7.72 7.72c-.78.78-.78 2.05 0 2.83L4 21.41c.39.39.9.59 1.41.59.51 0 1.02-.2 1.41-.59l7.78-7.78 2.81-2.81c.8-.78.8-2.07 0-2.86zM5.41 20L4 18.59l7.72-7.72 1.47 1.35L5.41 20z\"/>\n",
              "  </svg>\n",
              "      </button>\n",
              "      \n",
              "  <style>\n",
              "    .colab-df-container {\n",
              "      display:flex;\n",
              "      flex-wrap:wrap;\n",
              "      gap: 12px;\n",
              "    }\n",
              "\n",
              "    .colab-df-convert {\n",
              "      background-color: #E8F0FE;\n",
              "      border: none;\n",
              "      border-radius: 50%;\n",
              "      cursor: pointer;\n",
              "      display: none;\n",
              "      fill: #1967D2;\n",
              "      height: 32px;\n",
              "      padding: 0 0 0 0;\n",
              "      width: 32px;\n",
              "    }\n",
              "\n",
              "    .colab-df-convert:hover {\n",
              "      background-color: #E2EBFA;\n",
              "      box-shadow: 0px 1px 2px rgba(60, 64, 67, 0.3), 0px 1px 3px 1px rgba(60, 64, 67, 0.15);\n",
              "      fill: #174EA6;\n",
              "    }\n",
              "\n",
              "    [theme=dark] .colab-df-convert {\n",
              "      background-color: #3B4455;\n",
              "      fill: #D2E3FC;\n",
              "    }\n",
              "\n",
              "    [theme=dark] .colab-df-convert:hover {\n",
              "      background-color: #434B5C;\n",
              "      box-shadow: 0px 1px 3px 1px rgba(0, 0, 0, 0.15);\n",
              "      filter: drop-shadow(0px 1px 2px rgba(0, 0, 0, 0.3));\n",
              "      fill: #FFFFFF;\n",
              "    }\n",
              "  </style>\n",
              "\n",
              "      <script>\n",
              "        const buttonEl =\n",
              "          document.querySelector('#df-9c43b018-e149-4f1c-a7e5-e1bab2c1593c button.colab-df-convert');\n",
              "        buttonEl.style.display =\n",
              "          google.colab.kernel.accessAllowed ? 'block' : 'none';\n",
              "\n",
              "        async function convertToInteractive(key) {\n",
              "          const element = document.querySelector('#df-9c43b018-e149-4f1c-a7e5-e1bab2c1593c');\n",
              "          const dataTable =\n",
              "            await google.colab.kernel.invokeFunction('convertToInteractive',\n",
              "                                                     [key], {});\n",
              "          if (!dataTable) return;\n",
              "\n",
              "          const docLinkHtml = 'Like what you see? Visit the ' +\n",
              "            '<a target=\"_blank\" href=https://colab.research.google.com/notebooks/data_table.ipynb>data table notebook</a>'\n",
              "            + ' to learn more about interactive tables.';\n",
              "          element.innerHTML = '';\n",
              "          dataTable['output_type'] = 'display_data';\n",
              "          await google.colab.output.renderOutput(dataTable, element);\n",
              "          const docLink = document.createElement('div');\n",
              "          docLink.innerHTML = docLinkHtml;\n",
              "          element.appendChild(docLink);\n",
              "        }\n",
              "      </script>\n",
              "    </div>\n",
              "  </div>\n",
              "  "
            ]
          },
          "metadata": {},
          "execution_count": 16
        }
      ]
    },
    {
      "cell_type": "code",
      "source": [
        "df[['viewCount', 'likeCount', 'commentCount']] = df[['viewCount', 'likeCount', 'commentCount']].astype(int)"
      ],
      "metadata": {
        "id": "swnXXM3ds2cD"
      },
      "execution_count": null,
      "outputs": []
    },
    {
      "cell_type": "code",
      "source": [
        "df.dtypes"
      ],
      "metadata": {
        "colab": {
          "base_uri": "https://localhost:8080/"
        },
        "id": "-mnJ1EgcrLsL",
        "outputId": "c2054507-a8aa-4b51-bc1e-eefea67f7dec"
      },
      "execution_count": null,
      "outputs": [
        {
          "output_type": "execute_result",
          "data": {
            "text/plain": [
              "channelTitle    object\n",
              "title           object\n",
              "tags            object\n",
              "publishedAt     object\n",
              "viewCount        int64\n",
              "likeCount        int64\n",
              "commentCount     int64\n",
              "duration        object\n",
              "dtype: object"
            ]
          },
          "metadata": {},
          "execution_count": 21
        }
      ]
    },
    {
      "cell_type": "code",
      "source": [
        "df.head()"
      ],
      "metadata": {
        "colab": {
          "base_uri": "https://localhost:8080/",
          "height": 206
        },
        "id": "WLKspcj2s-od",
        "outputId": "3890d056-a042-442b-efc8-cabdc0f829a8"
      },
      "execution_count": null,
      "outputs": [
        {
          "output_type": "execute_result",
          "data": {
            "text/plain": [
              "   channelTitle                                              title tags  \\\n",
              "0  Aditya Music  Hello Alludu Full Songs Jukebox | Suman, Rambh...  NaN   \n",
              "1  Aditya Music  Ammayi Kosam Full Songs Jukebox | Vineeth, Mee...  NaN   \n",
              "2  Aditya Music  Ammo Okato Thareeku Full Songs Jukebox | Srika...  NaN   \n",
              "3  Aditya Music  Interview With Priya Hegde And Kiran Raj | Nuv...  NaN   \n",
              "4  Aditya Music  Manusutho Preminchi Full Video Song | Samudram...  NaN   \n",
              "\n",
              "            publishedAt  viewCount  likeCount  commentCount  duration  \n",
              "0  2023-02-21T17:30:05Z        139          1             0  PT20M55S  \n",
              "1  2023-02-21T17:00:38Z        458          2             0  PT26M56S  \n",
              "2  2023-02-21T16:30:13Z        534          3             0  PT26M58S  \n",
              "3  2023-02-21T13:30:08Z       1364         14             0  PT26M52S  \n",
              "4  2023-02-21T13:00:16Z       1930         32             6   PT3M32S  "
            ],
            "text/html": [
              "\n",
              "  <div id=\"df-8ed25c12-d4d9-4161-820a-594caf957b51\">\n",
              "    <div class=\"colab-df-container\">\n",
              "      <div>\n",
              "<style scoped>\n",
              "    .dataframe tbody tr th:only-of-type {\n",
              "        vertical-align: middle;\n",
              "    }\n",
              "\n",
              "    .dataframe tbody tr th {\n",
              "        vertical-align: top;\n",
              "    }\n",
              "\n",
              "    .dataframe thead th {\n",
              "        text-align: right;\n",
              "    }\n",
              "</style>\n",
              "<table border=\"1\" class=\"dataframe\">\n",
              "  <thead>\n",
              "    <tr style=\"text-align: right;\">\n",
              "      <th></th>\n",
              "      <th>channelTitle</th>\n",
              "      <th>title</th>\n",
              "      <th>tags</th>\n",
              "      <th>publishedAt</th>\n",
              "      <th>viewCount</th>\n",
              "      <th>likeCount</th>\n",
              "      <th>commentCount</th>\n",
              "      <th>duration</th>\n",
              "    </tr>\n",
              "  </thead>\n",
              "  <tbody>\n",
              "    <tr>\n",
              "      <th>0</th>\n",
              "      <td>Aditya Music</td>\n",
              "      <td>Hello Alludu Full Songs Jukebox | Suman, Rambh...</td>\n",
              "      <td>NaN</td>\n",
              "      <td>2023-02-21T17:30:05Z</td>\n",
              "      <td>139</td>\n",
              "      <td>1</td>\n",
              "      <td>0</td>\n",
              "      <td>PT20M55S</td>\n",
              "    </tr>\n",
              "    <tr>\n",
              "      <th>1</th>\n",
              "      <td>Aditya Music</td>\n",
              "      <td>Ammayi Kosam Full Songs Jukebox | Vineeth, Mee...</td>\n",
              "      <td>NaN</td>\n",
              "      <td>2023-02-21T17:00:38Z</td>\n",
              "      <td>458</td>\n",
              "      <td>2</td>\n",
              "      <td>0</td>\n",
              "      <td>PT26M56S</td>\n",
              "    </tr>\n",
              "    <tr>\n",
              "      <th>2</th>\n",
              "      <td>Aditya Music</td>\n",
              "      <td>Ammo Okato Thareeku Full Songs Jukebox | Srika...</td>\n",
              "      <td>NaN</td>\n",
              "      <td>2023-02-21T16:30:13Z</td>\n",
              "      <td>534</td>\n",
              "      <td>3</td>\n",
              "      <td>0</td>\n",
              "      <td>PT26M58S</td>\n",
              "    </tr>\n",
              "    <tr>\n",
              "      <th>3</th>\n",
              "      <td>Aditya Music</td>\n",
              "      <td>Interview With Priya Hegde And Kiran Raj | Nuv...</td>\n",
              "      <td>NaN</td>\n",
              "      <td>2023-02-21T13:30:08Z</td>\n",
              "      <td>1364</td>\n",
              "      <td>14</td>\n",
              "      <td>0</td>\n",
              "      <td>PT26M52S</td>\n",
              "    </tr>\n",
              "    <tr>\n",
              "      <th>4</th>\n",
              "      <td>Aditya Music</td>\n",
              "      <td>Manusutho Preminchi Full Video Song | Samudram...</td>\n",
              "      <td>NaN</td>\n",
              "      <td>2023-02-21T13:00:16Z</td>\n",
              "      <td>1930</td>\n",
              "      <td>32</td>\n",
              "      <td>6</td>\n",
              "      <td>PT3M32S</td>\n",
              "    </tr>\n",
              "  </tbody>\n",
              "</table>\n",
              "</div>\n",
              "      <button class=\"colab-df-convert\" onclick=\"convertToInteractive('df-8ed25c12-d4d9-4161-820a-594caf957b51')\"\n",
              "              title=\"Convert this dataframe to an interactive table.\"\n",
              "              style=\"display:none;\">\n",
              "        \n",
              "  <svg xmlns=\"http://www.w3.org/2000/svg\" height=\"24px\"viewBox=\"0 0 24 24\"\n",
              "       width=\"24px\">\n",
              "    <path d=\"M0 0h24v24H0V0z\" fill=\"none\"/>\n",
              "    <path d=\"M18.56 5.44l.94 2.06.94-2.06 2.06-.94-2.06-.94-.94-2.06-.94 2.06-2.06.94zm-11 1L8.5 8.5l.94-2.06 2.06-.94-2.06-.94L8.5 2.5l-.94 2.06-2.06.94zm10 10l.94 2.06.94-2.06 2.06-.94-2.06-.94-.94-2.06-.94 2.06-2.06.94z\"/><path d=\"M17.41 7.96l-1.37-1.37c-.4-.4-.92-.59-1.43-.59-.52 0-1.04.2-1.43.59L10.3 9.45l-7.72 7.72c-.78.78-.78 2.05 0 2.83L4 21.41c.39.39.9.59 1.41.59.51 0 1.02-.2 1.41-.59l7.78-7.78 2.81-2.81c.8-.78.8-2.07 0-2.86zM5.41 20L4 18.59l7.72-7.72 1.47 1.35L5.41 20z\"/>\n",
              "  </svg>\n",
              "      </button>\n",
              "      \n",
              "  <style>\n",
              "    .colab-df-container {\n",
              "      display:flex;\n",
              "      flex-wrap:wrap;\n",
              "      gap: 12px;\n",
              "    }\n",
              "\n",
              "    .colab-df-convert {\n",
              "      background-color: #E8F0FE;\n",
              "      border: none;\n",
              "      border-radius: 50%;\n",
              "      cursor: pointer;\n",
              "      display: none;\n",
              "      fill: #1967D2;\n",
              "      height: 32px;\n",
              "      padding: 0 0 0 0;\n",
              "      width: 32px;\n",
              "    }\n",
              "\n",
              "    .colab-df-convert:hover {\n",
              "      background-color: #E2EBFA;\n",
              "      box-shadow: 0px 1px 2px rgba(60, 64, 67, 0.3), 0px 1px 3px 1px rgba(60, 64, 67, 0.15);\n",
              "      fill: #174EA6;\n",
              "    }\n",
              "\n",
              "    [theme=dark] .colab-df-convert {\n",
              "      background-color: #3B4455;\n",
              "      fill: #D2E3FC;\n",
              "    }\n",
              "\n",
              "    [theme=dark] .colab-df-convert:hover {\n",
              "      background-color: #434B5C;\n",
              "      box-shadow: 0px 1px 3px 1px rgba(0, 0, 0, 0.15);\n",
              "      filter: drop-shadow(0px 1px 2px rgba(0, 0, 0, 0.3));\n",
              "      fill: #FFFFFF;\n",
              "    }\n",
              "  </style>\n",
              "\n",
              "      <script>\n",
              "        const buttonEl =\n",
              "          document.querySelector('#df-8ed25c12-d4d9-4161-820a-594caf957b51 button.colab-df-convert');\n",
              "        buttonEl.style.display =\n",
              "          google.colab.kernel.accessAllowed ? 'block' : 'none';\n",
              "\n",
              "        async function convertToInteractive(key) {\n",
              "          const element = document.querySelector('#df-8ed25c12-d4d9-4161-820a-594caf957b51');\n",
              "          const dataTable =\n",
              "            await google.colab.kernel.invokeFunction('convertToInteractive',\n",
              "                                                     [key], {});\n",
              "          if (!dataTable) return;\n",
              "\n",
              "          const docLinkHtml = 'Like what you see? Visit the ' +\n",
              "            '<a target=\"_blank\" href=https://colab.research.google.com/notebooks/data_table.ipynb>data table notebook</a>'\n",
              "            + ' to learn more about interactive tables.';\n",
              "          element.innerHTML = '';\n",
              "          dataTable['output_type'] = 'display_data';\n",
              "          await google.colab.output.renderOutput(dataTable, element);\n",
              "          const docLink = document.createElement('div');\n",
              "          docLink.innerHTML = docLinkHtml;\n",
              "          element.appendChild(docLink);\n",
              "        }\n",
              "      </script>\n",
              "    </div>\n",
              "  </div>\n",
              "  "
            ]
          },
          "metadata": {},
          "execution_count": 22
        }
      ]
    },
    {
      "cell_type": "code",
      "source": [
        "df['channelTitle'].unique()"
      ],
      "metadata": {
        "colab": {
          "base_uri": "https://localhost:8080/"
        },
        "id": "7YVQkRT4WCCZ",
        "outputId": "754c3187-6ba8-437c-c038-c2e4e18701ee"
      },
      "execution_count": null,
      "outputs": [
        {
          "output_type": "execute_result",
          "data": {
            "text/plain": [
              "array(['Aditya Music', 'SonyMusicSouthVEVO', 'T-Series', 'Saregama Music',\n",
              "       'Zee Music Company'], dtype=object)"
            ]
          },
          "metadata": {},
          "execution_count": 18
        }
      ]
    },
    {
      "cell_type": "code",
      "source": [
        "df['tags'].isnull().sum()"
      ],
      "metadata": {
        "colab": {
          "base_uri": "https://localhost:8080/"
        },
        "id": "kNABbxaSWIze",
        "outputId": "8de7af7b-ad71-4c51-a747-4fabd9e74200"
      },
      "execution_count": null,
      "outputs": [
        {
          "output_type": "execute_result",
          "data": {
            "text/plain": [
              "1198"
            ]
          },
          "metadata": {},
          "execution_count": 6
        }
      ]
    },
    {
      "cell_type": "code",
      "source": [
        "df['tags'][123]"
      ],
      "metadata": {
        "colab": {
          "base_uri": "https://localhost:8080/",
          "height": 90
        },
        "id": "is3LKHZ0uBWt",
        "outputId": "7afa6c0f-2940-4e43-e685-812bd6f47e12"
      },
      "execution_count": null,
      "outputs": [
        {
          "output_type": "execute_result",
          "data": {
            "text/plain": [
              "\"['bheemadevarapally branch', 'bheemadevarapally branch movie teaser', 'bheemadevarapally movie teaser', 'bheemadevarapally teaser', 'bheemadevarapally branchi new teaser', 'bheemadevarapally branchi songs', 'anji valguman', 'ramesh cheppala', 'bheemadevarapally offical teaser', 'latest movie teasers telugu', 'aditya music', 'bheemadevarapally branch teaser', 'new teasers telugu', 'bhimadevarapally branch teaser', 'bhimadevrapalli branch teaser', 'bimadevrapalli branch teaser', 'trending teaser bhimadevarapally']\""
            ],
            "application/vnd.google.colaboratory.intrinsic+json": {
              "type": "string"
            }
          },
          "metadata": {},
          "execution_count": 26
        }
      ]
    },
    {
      "cell_type": "code",
      "source": [
        "max(df.tagcount)"
      ],
      "metadata": {
        "colab": {
          "base_uri": "https://localhost:8080/"
        },
        "id": "UYNlhl6svLym",
        "outputId": "f55638ec-6aa6-4616-cc4a-b3c3a13bf817"
      },
      "execution_count": null,
      "outputs": [
        {
          "output_type": "execute_result",
          "data": {
            "text/plain": [
              "12"
            ]
          },
          "metadata": {},
          "execution_count": 41
        }
      ]
    },
    {
      "cell_type": "code",
      "source": [
        "#Adding Tag count\n",
        "df['tagcount'] = df['tags'].apply(lambda x: 0 if pd.isna(x) else len(x.split(\"|\")))"
      ],
      "metadata": {
        "id": "-O9pnO45qi98"
      },
      "execution_count": null,
      "outputs": []
    },
    {
      "cell_type": "code",
      "source": [
        "!pip install isodate"
      ],
      "metadata": {
        "colab": {
          "base_uri": "https://localhost:8080/"
        },
        "id": "mrxCjoAavten",
        "outputId": "56afba4a-a19a-4dad-f455-0fe33223e974"
      },
      "execution_count": null,
      "outputs": [
        {
          "output_type": "stream",
          "name": "stdout",
          "text": [
            "Looking in indexes: https://pypi.org/simple, https://us-python.pkg.dev/colab-wheels/public/simple/\n",
            "Collecting isodate\n",
            "  Downloading isodate-0.6.1-py2.py3-none-any.whl (41 kB)\n",
            "\u001b[2K     \u001b[90m━━━━━━━━━━━━━━━━━━━━━━━━━━━━━━━━━━━━━━━━\u001b[0m \u001b[32m41.7/41.7 KB\u001b[0m \u001b[31m1.8 MB/s\u001b[0m eta \u001b[36m0:00:00\u001b[0m\n",
            "\u001b[?25hRequirement already satisfied: six in /usr/local/lib/python3.8/dist-packages (from isodate) (1.15.0)\n",
            "Installing collected packages: isodate\n",
            "Successfully installed isodate-0.6.1\n"
          ]
        }
      ]
    },
    {
      "cell_type": "code",
      "source": [
        "#Duration into Duration in seconds\n",
        "from isodate import parse_duration\n",
        "\n",
        "df['durationSecs']= df['duration'].apply(lambda x: parse_duration(x))\n",
        "df['durationSecs']=df['durationSecs'].astype('timedelta64[s]')"
      ],
      "metadata": {
        "id": "7tUTOnJNv0c-"
      },
      "execution_count": null,
      "outputs": []
    },
    {
      "cell_type": "code",
      "source": [
        "df[['durationSecs','duration']]"
      ],
      "metadata": {
        "colab": {
          "base_uri": "https://localhost:8080/",
          "height": 423
        },
        "id": "xh9nFnyDv4d2",
        "outputId": "659cb1e6-dff7-4b43-e93d-752d28f3455f"
      },
      "execution_count": null,
      "outputs": [
        {
          "output_type": "execute_result",
          "data": {
            "text/plain": [
              "       durationSecs  duration\n",
              "0            1255.0  PT20M55S\n",
              "1            1616.0  PT26M56S\n",
              "2            1618.0  PT26M58S\n",
              "3            1612.0  PT26M52S\n",
              "4             212.0   PT3M32S\n",
              "...             ...       ...\n",
              "58181         210.0   PT3M30S\n",
              "58182         260.0   PT4M20S\n",
              "58183         333.0   PT5M33S\n",
              "58184         255.0   PT4M15S\n",
              "58185         138.0   PT2M18S\n",
              "\n",
              "[58186 rows x 2 columns]"
            ],
            "text/html": [
              "\n",
              "  <div id=\"df-93417d96-05c2-49f6-b875-a1755de7e2a2\">\n",
              "    <div class=\"colab-df-container\">\n",
              "      <div>\n",
              "<style scoped>\n",
              "    .dataframe tbody tr th:only-of-type {\n",
              "        vertical-align: middle;\n",
              "    }\n",
              "\n",
              "    .dataframe tbody tr th {\n",
              "        vertical-align: top;\n",
              "    }\n",
              "\n",
              "    .dataframe thead th {\n",
              "        text-align: right;\n",
              "    }\n",
              "</style>\n",
              "<table border=\"1\" class=\"dataframe\">\n",
              "  <thead>\n",
              "    <tr style=\"text-align: right;\">\n",
              "      <th></th>\n",
              "      <th>durationSecs</th>\n",
              "      <th>duration</th>\n",
              "    </tr>\n",
              "  </thead>\n",
              "  <tbody>\n",
              "    <tr>\n",
              "      <th>0</th>\n",
              "      <td>1255.0</td>\n",
              "      <td>PT20M55S</td>\n",
              "    </tr>\n",
              "    <tr>\n",
              "      <th>1</th>\n",
              "      <td>1616.0</td>\n",
              "      <td>PT26M56S</td>\n",
              "    </tr>\n",
              "    <tr>\n",
              "      <th>2</th>\n",
              "      <td>1618.0</td>\n",
              "      <td>PT26M58S</td>\n",
              "    </tr>\n",
              "    <tr>\n",
              "      <th>3</th>\n",
              "      <td>1612.0</td>\n",
              "      <td>PT26M52S</td>\n",
              "    </tr>\n",
              "    <tr>\n",
              "      <th>4</th>\n",
              "      <td>212.0</td>\n",
              "      <td>PT3M32S</td>\n",
              "    </tr>\n",
              "    <tr>\n",
              "      <th>...</th>\n",
              "      <td>...</td>\n",
              "      <td>...</td>\n",
              "    </tr>\n",
              "    <tr>\n",
              "      <th>58181</th>\n",
              "      <td>210.0</td>\n",
              "      <td>PT3M30S</td>\n",
              "    </tr>\n",
              "    <tr>\n",
              "      <th>58182</th>\n",
              "      <td>260.0</td>\n",
              "      <td>PT4M20S</td>\n",
              "    </tr>\n",
              "    <tr>\n",
              "      <th>58183</th>\n",
              "      <td>333.0</td>\n",
              "      <td>PT5M33S</td>\n",
              "    </tr>\n",
              "    <tr>\n",
              "      <th>58184</th>\n",
              "      <td>255.0</td>\n",
              "      <td>PT4M15S</td>\n",
              "    </tr>\n",
              "    <tr>\n",
              "      <th>58185</th>\n",
              "      <td>138.0</td>\n",
              "      <td>PT2M18S</td>\n",
              "    </tr>\n",
              "  </tbody>\n",
              "</table>\n",
              "<p>58186 rows × 2 columns</p>\n",
              "</div>\n",
              "      <button class=\"colab-df-convert\" onclick=\"convertToInteractive('df-93417d96-05c2-49f6-b875-a1755de7e2a2')\"\n",
              "              title=\"Convert this dataframe to an interactive table.\"\n",
              "              style=\"display:none;\">\n",
              "        \n",
              "  <svg xmlns=\"http://www.w3.org/2000/svg\" height=\"24px\"viewBox=\"0 0 24 24\"\n",
              "       width=\"24px\">\n",
              "    <path d=\"M0 0h24v24H0V0z\" fill=\"none\"/>\n",
              "    <path d=\"M18.56 5.44l.94 2.06.94-2.06 2.06-.94-2.06-.94-.94-2.06-.94 2.06-2.06.94zm-11 1L8.5 8.5l.94-2.06 2.06-.94-2.06-.94L8.5 2.5l-.94 2.06-2.06.94zm10 10l.94 2.06.94-2.06 2.06-.94-2.06-.94-.94-2.06-.94 2.06-2.06.94z\"/><path d=\"M17.41 7.96l-1.37-1.37c-.4-.4-.92-.59-1.43-.59-.52 0-1.04.2-1.43.59L10.3 9.45l-7.72 7.72c-.78.78-.78 2.05 0 2.83L4 21.41c.39.39.9.59 1.41.59.51 0 1.02-.2 1.41-.59l7.78-7.78 2.81-2.81c.8-.78.8-2.07 0-2.86zM5.41 20L4 18.59l7.72-7.72 1.47 1.35L5.41 20z\"/>\n",
              "  </svg>\n",
              "      </button>\n",
              "      \n",
              "  <style>\n",
              "    .colab-df-container {\n",
              "      display:flex;\n",
              "      flex-wrap:wrap;\n",
              "      gap: 12px;\n",
              "    }\n",
              "\n",
              "    .colab-df-convert {\n",
              "      background-color: #E8F0FE;\n",
              "      border: none;\n",
              "      border-radius: 50%;\n",
              "      cursor: pointer;\n",
              "      display: none;\n",
              "      fill: #1967D2;\n",
              "      height: 32px;\n",
              "      padding: 0 0 0 0;\n",
              "      width: 32px;\n",
              "    }\n",
              "\n",
              "    .colab-df-convert:hover {\n",
              "      background-color: #E2EBFA;\n",
              "      box-shadow: 0px 1px 2px rgba(60, 64, 67, 0.3), 0px 1px 3px 1px rgba(60, 64, 67, 0.15);\n",
              "      fill: #174EA6;\n",
              "    }\n",
              "\n",
              "    [theme=dark] .colab-df-convert {\n",
              "      background-color: #3B4455;\n",
              "      fill: #D2E3FC;\n",
              "    }\n",
              "\n",
              "    [theme=dark] .colab-df-convert:hover {\n",
              "      background-color: #434B5C;\n",
              "      box-shadow: 0px 1px 3px 1px rgba(0, 0, 0, 0.15);\n",
              "      filter: drop-shadow(0px 1px 2px rgba(0, 0, 0, 0.3));\n",
              "      fill: #FFFFFF;\n",
              "    }\n",
              "  </style>\n",
              "\n",
              "      <script>\n",
              "        const buttonEl =\n",
              "          document.querySelector('#df-93417d96-05c2-49f6-b875-a1755de7e2a2 button.colab-df-convert');\n",
              "        buttonEl.style.display =\n",
              "          google.colab.kernel.accessAllowed ? 'block' : 'none';\n",
              "\n",
              "        async function convertToInteractive(key) {\n",
              "          const element = document.querySelector('#df-93417d96-05c2-49f6-b875-a1755de7e2a2');\n",
              "          const dataTable =\n",
              "            await google.colab.kernel.invokeFunction('convertToInteractive',\n",
              "                                                     [key], {});\n",
              "          if (!dataTable) return;\n",
              "\n",
              "          const docLinkHtml = 'Like what you see? Visit the ' +\n",
              "            '<a target=\"_blank\" href=https://colab.research.google.com/notebooks/data_table.ipynb>data table notebook</a>'\n",
              "            + ' to learn more about interactive tables.';\n",
              "          element.innerHTML = '';\n",
              "          dataTable['output_type'] = 'display_data';\n",
              "          await google.colab.output.renderOutput(dataTable, element);\n",
              "          const docLink = document.createElement('div');\n",
              "          docLink.innerHTML = docLinkHtml;\n",
              "          element.appendChild(docLink);\n",
              "        }\n",
              "      </script>\n",
              "    </div>\n",
              "  </div>\n",
              "  "
            ]
          },
          "metadata": {},
          "execution_count": 46
        }
      ]
    },
    {
      "cell_type": "code",
      "source": [
        "#published Year\n",
        "from dateutil import parser\n",
        "# Extract year from publishedAt column and add to DataFrame\n",
        "df['publishYear'] = df['publishedAt'].apply(lambda x: x.strftime(\"%Y\"))"
      ],
      "metadata": {
        "id": "JjosNi3PwB7J"
      },
      "execution_count": null,
      "outputs": []
    },
    {
      "cell_type": "code",
      "source": [
        "df['publishDayName'] = df['publishedAt'].apply(lambda x: x.strftime(\"%A\"))"
      ],
      "metadata": {
        "id": "clWl_5RXwXGx"
      },
      "execution_count": null,
      "outputs": []
    },
    {
      "cell_type": "code",
      "source": [
        "df.head()"
      ],
      "metadata": {
        "colab": {
          "base_uri": "https://localhost:8080/",
          "height": 652
        },
        "id": "6RxpeYauwxt3",
        "outputId": "7bcc3b60-18dd-4174-8a17-b1a314b426d0"
      },
      "execution_count": null,
      "outputs": [
        {
          "output_type": "execute_result",
          "data": {
            "text/plain": [
              "   channelTitle                                              title tags  \\\n",
              "0  Aditya Music  Hello Alludu Full Songs Jukebox | Suman, Rambh...  NaN   \n",
              "1  Aditya Music  Ammayi Kosam Full Songs Jukebox | Vineeth, Mee...  NaN   \n",
              "2  Aditya Music  Ammo Okato Thareeku Full Songs Jukebox | Srika...  NaN   \n",
              "3  Aditya Music  Interview With Priya Hegde And Kiran Raj | Nuv...  NaN   \n",
              "4  Aditya Music  Manusutho Preminchi Full Video Song | Samudram...  NaN   \n",
              "\n",
              "                publishedAt  viewCount  likeCount  commentCount  duration  \\\n",
              "0 2023-02-21 17:30:05+00:00        139          1             0  PT20M55S   \n",
              "1 2023-02-21 17:00:38+00:00        458          2             0  PT26M56S   \n",
              "2 2023-02-21 16:30:13+00:00        534          3             0  PT26M58S   \n",
              "3 2023-02-21 13:30:08+00:00       1364         14             0  PT26M52S   \n",
              "4 2023-02-21 13:00:16+00:00       1930         32             6   PT3M32S   \n",
              "\n",
              "   tagcount publishDayName  durationSecs publishYear  \n",
              "0         0        Tuesday        1255.0        2023  \n",
              "1         0        Tuesday        1616.0        2023  \n",
              "2         0        Tuesday        1618.0        2023  \n",
              "3         0        Tuesday        1612.0        2023  \n",
              "4         0        Tuesday         212.0        2023  "
            ],
            "text/html": [
              "\n",
              "  <div id=\"df-b810924e-a460-4707-a030-9f483536ee60\">\n",
              "    <div class=\"colab-df-container\">\n",
              "      <div>\n",
              "<style scoped>\n",
              "    .dataframe tbody tr th:only-of-type {\n",
              "        vertical-align: middle;\n",
              "    }\n",
              "\n",
              "    .dataframe tbody tr th {\n",
              "        vertical-align: top;\n",
              "    }\n",
              "\n",
              "    .dataframe thead th {\n",
              "        text-align: right;\n",
              "    }\n",
              "</style>\n",
              "<table border=\"1\" class=\"dataframe\">\n",
              "  <thead>\n",
              "    <tr style=\"text-align: right;\">\n",
              "      <th></th>\n",
              "      <th>channelTitle</th>\n",
              "      <th>title</th>\n",
              "      <th>tags</th>\n",
              "      <th>publishedAt</th>\n",
              "      <th>viewCount</th>\n",
              "      <th>likeCount</th>\n",
              "      <th>commentCount</th>\n",
              "      <th>duration</th>\n",
              "      <th>tagcount</th>\n",
              "      <th>publishDayName</th>\n",
              "      <th>durationSecs</th>\n",
              "      <th>publishYear</th>\n",
              "    </tr>\n",
              "  </thead>\n",
              "  <tbody>\n",
              "    <tr>\n",
              "      <th>0</th>\n",
              "      <td>Aditya Music</td>\n",
              "      <td>Hello Alludu Full Songs Jukebox | Suman, Rambh...</td>\n",
              "      <td>NaN</td>\n",
              "      <td>2023-02-21 17:30:05+00:00</td>\n",
              "      <td>139</td>\n",
              "      <td>1</td>\n",
              "      <td>0</td>\n",
              "      <td>PT20M55S</td>\n",
              "      <td>0</td>\n",
              "      <td>Tuesday</td>\n",
              "      <td>1255.0</td>\n",
              "      <td>2023</td>\n",
              "    </tr>\n",
              "    <tr>\n",
              "      <th>1</th>\n",
              "      <td>Aditya Music</td>\n",
              "      <td>Ammayi Kosam Full Songs Jukebox | Vineeth, Mee...</td>\n",
              "      <td>NaN</td>\n",
              "      <td>2023-02-21 17:00:38+00:00</td>\n",
              "      <td>458</td>\n",
              "      <td>2</td>\n",
              "      <td>0</td>\n",
              "      <td>PT26M56S</td>\n",
              "      <td>0</td>\n",
              "      <td>Tuesday</td>\n",
              "      <td>1616.0</td>\n",
              "      <td>2023</td>\n",
              "    </tr>\n",
              "    <tr>\n",
              "      <th>2</th>\n",
              "      <td>Aditya Music</td>\n",
              "      <td>Ammo Okato Thareeku Full Songs Jukebox | Srika...</td>\n",
              "      <td>NaN</td>\n",
              "      <td>2023-02-21 16:30:13+00:00</td>\n",
              "      <td>534</td>\n",
              "      <td>3</td>\n",
              "      <td>0</td>\n",
              "      <td>PT26M58S</td>\n",
              "      <td>0</td>\n",
              "      <td>Tuesday</td>\n",
              "      <td>1618.0</td>\n",
              "      <td>2023</td>\n",
              "    </tr>\n",
              "    <tr>\n",
              "      <th>3</th>\n",
              "      <td>Aditya Music</td>\n",
              "      <td>Interview With Priya Hegde And Kiran Raj | Nuv...</td>\n",
              "      <td>NaN</td>\n",
              "      <td>2023-02-21 13:30:08+00:00</td>\n",
              "      <td>1364</td>\n",
              "      <td>14</td>\n",
              "      <td>0</td>\n",
              "      <td>PT26M52S</td>\n",
              "      <td>0</td>\n",
              "      <td>Tuesday</td>\n",
              "      <td>1612.0</td>\n",
              "      <td>2023</td>\n",
              "    </tr>\n",
              "    <tr>\n",
              "      <th>4</th>\n",
              "      <td>Aditya Music</td>\n",
              "      <td>Manusutho Preminchi Full Video Song | Samudram...</td>\n",
              "      <td>NaN</td>\n",
              "      <td>2023-02-21 13:00:16+00:00</td>\n",
              "      <td>1930</td>\n",
              "      <td>32</td>\n",
              "      <td>6</td>\n",
              "      <td>PT3M32S</td>\n",
              "      <td>0</td>\n",
              "      <td>Tuesday</td>\n",
              "      <td>212.0</td>\n",
              "      <td>2023</td>\n",
              "    </tr>\n",
              "  </tbody>\n",
              "</table>\n",
              "</div>\n",
              "      <button class=\"colab-df-convert\" onclick=\"convertToInteractive('df-b810924e-a460-4707-a030-9f483536ee60')\"\n",
              "              title=\"Convert this dataframe to an interactive table.\"\n",
              "              style=\"display:none;\">\n",
              "        \n",
              "  <svg xmlns=\"http://www.w3.org/2000/svg\" height=\"24px\"viewBox=\"0 0 24 24\"\n",
              "       width=\"24px\">\n",
              "    <path d=\"M0 0h24v24H0V0z\" fill=\"none\"/>\n",
              "    <path d=\"M18.56 5.44l.94 2.06.94-2.06 2.06-.94-2.06-.94-.94-2.06-.94 2.06-2.06.94zm-11 1L8.5 8.5l.94-2.06 2.06-.94-2.06-.94L8.5 2.5l-.94 2.06-2.06.94zm10 10l.94 2.06.94-2.06 2.06-.94-2.06-.94-.94-2.06-.94 2.06-2.06.94z\"/><path d=\"M17.41 7.96l-1.37-1.37c-.4-.4-.92-.59-1.43-.59-.52 0-1.04.2-1.43.59L10.3 9.45l-7.72 7.72c-.78.78-.78 2.05 0 2.83L4 21.41c.39.39.9.59 1.41.59.51 0 1.02-.2 1.41-.59l7.78-7.78 2.81-2.81c.8-.78.8-2.07 0-2.86zM5.41 20L4 18.59l7.72-7.72 1.47 1.35L5.41 20z\"/>\n",
              "  </svg>\n",
              "      </button>\n",
              "      \n",
              "  <style>\n",
              "    .colab-df-container {\n",
              "      display:flex;\n",
              "      flex-wrap:wrap;\n",
              "      gap: 12px;\n",
              "    }\n",
              "\n",
              "    .colab-df-convert {\n",
              "      background-color: #E8F0FE;\n",
              "      border: none;\n",
              "      border-radius: 50%;\n",
              "      cursor: pointer;\n",
              "      display: none;\n",
              "      fill: #1967D2;\n",
              "      height: 32px;\n",
              "      padding: 0 0 0 0;\n",
              "      width: 32px;\n",
              "    }\n",
              "\n",
              "    .colab-df-convert:hover {\n",
              "      background-color: #E2EBFA;\n",
              "      box-shadow: 0px 1px 2px rgba(60, 64, 67, 0.3), 0px 1px 3px 1px rgba(60, 64, 67, 0.15);\n",
              "      fill: #174EA6;\n",
              "    }\n",
              "\n",
              "    [theme=dark] .colab-df-convert {\n",
              "      background-color: #3B4455;\n",
              "      fill: #D2E3FC;\n",
              "    }\n",
              "\n",
              "    [theme=dark] .colab-df-convert:hover {\n",
              "      background-color: #434B5C;\n",
              "      box-shadow: 0px 1px 3px 1px rgba(0, 0, 0, 0.15);\n",
              "      filter: drop-shadow(0px 1px 2px rgba(0, 0, 0, 0.3));\n",
              "      fill: #FFFFFF;\n",
              "    }\n",
              "  </style>\n",
              "\n",
              "      <script>\n",
              "        const buttonEl =\n",
              "          document.querySelector('#df-b810924e-a460-4707-a030-9f483536ee60 button.colab-df-convert');\n",
              "        buttonEl.style.display =\n",
              "          google.colab.kernel.accessAllowed ? 'block' : 'none';\n",
              "\n",
              "        async function convertToInteractive(key) {\n",
              "          const element = document.querySelector('#df-b810924e-a460-4707-a030-9f483536ee60');\n",
              "          const dataTable =\n",
              "            await google.colab.kernel.invokeFunction('convertToInteractive',\n",
              "                                                     [key], {});\n",
              "          if (!dataTable) return;\n",
              "\n",
              "          const docLinkHtml = 'Like what you see? Visit the ' +\n",
              "            '<a target=\"_blank\" href=https://colab.research.google.com/notebooks/data_table.ipynb>data table notebook</a>'\n",
              "            + ' to learn more about interactive tables.';\n",
              "          element.innerHTML = '';\n",
              "          dataTable['output_type'] = 'display_data';\n",
              "          await google.colab.output.renderOutput(dataTable, element);\n",
              "          const docLink = document.createElement('div');\n",
              "          docLink.innerHTML = docLinkHtml;\n",
              "          element.appendChild(docLink);\n",
              "        }\n",
              "      </script>\n",
              "    </div>\n",
              "  </div>\n",
              "  "
            ]
          },
          "metadata": {},
          "execution_count": 58
        }
      ]
    },
    {
      "cell_type": "code",
      "source": [
        "df.columns"
      ],
      "metadata": {
        "colab": {
          "base_uri": "https://localhost:8080/"
        },
        "id": "kESMJ8KDw3yJ",
        "outputId": "75f133d1-506a-4a17-b0f1-eec0b311e2c6"
      },
      "execution_count": null,
      "outputs": [
        {
          "output_type": "execute_result",
          "data": {
            "text/plain": [
              "Index(['channelTitle', 'title', 'tags', 'publishedAt', 'viewCount',\n",
              "       'likeCount', 'commentCount', 'duration', 'tagcount', 'publishDayName',\n",
              "       'durationSecs', 'publishYear'],\n",
              "      dtype='object')"
            ]
          },
          "metadata": {},
          "execution_count": 59
        }
      ]
    },
    {
      "cell_type": "code",
      "source": [
        "final_df= df.drop(['tags','publishedAt','duration'],axis=1)"
      ],
      "metadata": {
        "id": "B5txbiZSxdPO"
      },
      "execution_count": null,
      "outputs": []
    },
    {
      "cell_type": "code",
      "source": [
        "final_df.head()"
      ],
      "metadata": {
        "colab": {
          "base_uri": "https://localhost:8080/",
          "height": 337
        },
        "id": "nd_8Nj9Ux3nJ",
        "outputId": "90defd19-0656-40fe-d706-04a49f70855f"
      },
      "execution_count": null,
      "outputs": [
        {
          "output_type": "execute_result",
          "data": {
            "text/plain": [
              "   channelTitle                                              title  viewCount  \\\n",
              "0  Aditya Music  Hello Alludu Full Songs Jukebox | Suman, Rambh...        139   \n",
              "1  Aditya Music  Ammayi Kosam Full Songs Jukebox | Vineeth, Mee...        458   \n",
              "2  Aditya Music  Ammo Okato Thareeku Full Songs Jukebox | Srika...        534   \n",
              "3  Aditya Music  Interview With Priya Hegde And Kiran Raj | Nuv...       1364   \n",
              "4  Aditya Music  Manusutho Preminchi Full Video Song | Samudram...       1930   \n",
              "\n",
              "   likeCount  commentCount  tagcount publishDayName  durationSecs publishYear  \n",
              "0          1             0         0        Tuesday        1255.0        2023  \n",
              "1          2             0         0        Tuesday        1616.0        2023  \n",
              "2          3             0         0        Tuesday        1618.0        2023  \n",
              "3         14             0         0        Tuesday        1612.0        2023  \n",
              "4         32             6         0        Tuesday         212.0        2023  "
            ],
            "text/html": [
              "\n",
              "  <div id=\"df-d1166bb5-7634-4c7c-9206-7e5b8efee8e3\">\n",
              "    <div class=\"colab-df-container\">\n",
              "      <div>\n",
              "<style scoped>\n",
              "    .dataframe tbody tr th:only-of-type {\n",
              "        vertical-align: middle;\n",
              "    }\n",
              "\n",
              "    .dataframe tbody tr th {\n",
              "        vertical-align: top;\n",
              "    }\n",
              "\n",
              "    .dataframe thead th {\n",
              "        text-align: right;\n",
              "    }\n",
              "</style>\n",
              "<table border=\"1\" class=\"dataframe\">\n",
              "  <thead>\n",
              "    <tr style=\"text-align: right;\">\n",
              "      <th></th>\n",
              "      <th>channelTitle</th>\n",
              "      <th>title</th>\n",
              "      <th>viewCount</th>\n",
              "      <th>likeCount</th>\n",
              "      <th>commentCount</th>\n",
              "      <th>tagcount</th>\n",
              "      <th>publishDayName</th>\n",
              "      <th>durationSecs</th>\n",
              "      <th>publishYear</th>\n",
              "    </tr>\n",
              "  </thead>\n",
              "  <tbody>\n",
              "    <tr>\n",
              "      <th>0</th>\n",
              "      <td>Aditya Music</td>\n",
              "      <td>Hello Alludu Full Songs Jukebox | Suman, Rambh...</td>\n",
              "      <td>139</td>\n",
              "      <td>1</td>\n",
              "      <td>0</td>\n",
              "      <td>0</td>\n",
              "      <td>Tuesday</td>\n",
              "      <td>1255.0</td>\n",
              "      <td>2023</td>\n",
              "    </tr>\n",
              "    <tr>\n",
              "      <th>1</th>\n",
              "      <td>Aditya Music</td>\n",
              "      <td>Ammayi Kosam Full Songs Jukebox | Vineeth, Mee...</td>\n",
              "      <td>458</td>\n",
              "      <td>2</td>\n",
              "      <td>0</td>\n",
              "      <td>0</td>\n",
              "      <td>Tuesday</td>\n",
              "      <td>1616.0</td>\n",
              "      <td>2023</td>\n",
              "    </tr>\n",
              "    <tr>\n",
              "      <th>2</th>\n",
              "      <td>Aditya Music</td>\n",
              "      <td>Ammo Okato Thareeku Full Songs Jukebox | Srika...</td>\n",
              "      <td>534</td>\n",
              "      <td>3</td>\n",
              "      <td>0</td>\n",
              "      <td>0</td>\n",
              "      <td>Tuesday</td>\n",
              "      <td>1618.0</td>\n",
              "      <td>2023</td>\n",
              "    </tr>\n",
              "    <tr>\n",
              "      <th>3</th>\n",
              "      <td>Aditya Music</td>\n",
              "      <td>Interview With Priya Hegde And Kiran Raj | Nuv...</td>\n",
              "      <td>1364</td>\n",
              "      <td>14</td>\n",
              "      <td>0</td>\n",
              "      <td>0</td>\n",
              "      <td>Tuesday</td>\n",
              "      <td>1612.0</td>\n",
              "      <td>2023</td>\n",
              "    </tr>\n",
              "    <tr>\n",
              "      <th>4</th>\n",
              "      <td>Aditya Music</td>\n",
              "      <td>Manusutho Preminchi Full Video Song | Samudram...</td>\n",
              "      <td>1930</td>\n",
              "      <td>32</td>\n",
              "      <td>6</td>\n",
              "      <td>0</td>\n",
              "      <td>Tuesday</td>\n",
              "      <td>212.0</td>\n",
              "      <td>2023</td>\n",
              "    </tr>\n",
              "  </tbody>\n",
              "</table>\n",
              "</div>\n",
              "      <button class=\"colab-df-convert\" onclick=\"convertToInteractive('df-d1166bb5-7634-4c7c-9206-7e5b8efee8e3')\"\n",
              "              title=\"Convert this dataframe to an interactive table.\"\n",
              "              style=\"display:none;\">\n",
              "        \n",
              "  <svg xmlns=\"http://www.w3.org/2000/svg\" height=\"24px\"viewBox=\"0 0 24 24\"\n",
              "       width=\"24px\">\n",
              "    <path d=\"M0 0h24v24H0V0z\" fill=\"none\"/>\n",
              "    <path d=\"M18.56 5.44l.94 2.06.94-2.06 2.06-.94-2.06-.94-.94-2.06-.94 2.06-2.06.94zm-11 1L8.5 8.5l.94-2.06 2.06-.94-2.06-.94L8.5 2.5l-.94 2.06-2.06.94zm10 10l.94 2.06.94-2.06 2.06-.94-2.06-.94-.94-2.06-.94 2.06-2.06.94z\"/><path d=\"M17.41 7.96l-1.37-1.37c-.4-.4-.92-.59-1.43-.59-.52 0-1.04.2-1.43.59L10.3 9.45l-7.72 7.72c-.78.78-.78 2.05 0 2.83L4 21.41c.39.39.9.59 1.41.59.51 0 1.02-.2 1.41-.59l7.78-7.78 2.81-2.81c.8-.78.8-2.07 0-2.86zM5.41 20L4 18.59l7.72-7.72 1.47 1.35L5.41 20z\"/>\n",
              "  </svg>\n",
              "      </button>\n",
              "      \n",
              "  <style>\n",
              "    .colab-df-container {\n",
              "      display:flex;\n",
              "      flex-wrap:wrap;\n",
              "      gap: 12px;\n",
              "    }\n",
              "\n",
              "    .colab-df-convert {\n",
              "      background-color: #E8F0FE;\n",
              "      border: none;\n",
              "      border-radius: 50%;\n",
              "      cursor: pointer;\n",
              "      display: none;\n",
              "      fill: #1967D2;\n",
              "      height: 32px;\n",
              "      padding: 0 0 0 0;\n",
              "      width: 32px;\n",
              "    }\n",
              "\n",
              "    .colab-df-convert:hover {\n",
              "      background-color: #E2EBFA;\n",
              "      box-shadow: 0px 1px 2px rgba(60, 64, 67, 0.3), 0px 1px 3px 1px rgba(60, 64, 67, 0.15);\n",
              "      fill: #174EA6;\n",
              "    }\n",
              "\n",
              "    [theme=dark] .colab-df-convert {\n",
              "      background-color: #3B4455;\n",
              "      fill: #D2E3FC;\n",
              "    }\n",
              "\n",
              "    [theme=dark] .colab-df-convert:hover {\n",
              "      background-color: #434B5C;\n",
              "      box-shadow: 0px 1px 3px 1px rgba(0, 0, 0, 0.15);\n",
              "      filter: drop-shadow(0px 1px 2px rgba(0, 0, 0, 0.3));\n",
              "      fill: #FFFFFF;\n",
              "    }\n",
              "  </style>\n",
              "\n",
              "      <script>\n",
              "        const buttonEl =\n",
              "          document.querySelector('#df-d1166bb5-7634-4c7c-9206-7e5b8efee8e3 button.colab-df-convert');\n",
              "        buttonEl.style.display =\n",
              "          google.colab.kernel.accessAllowed ? 'block' : 'none';\n",
              "\n",
              "        async function convertToInteractive(key) {\n",
              "          const element = document.querySelector('#df-d1166bb5-7634-4c7c-9206-7e5b8efee8e3');\n",
              "          const dataTable =\n",
              "            await google.colab.kernel.invokeFunction('convertToInteractive',\n",
              "                                                     [key], {});\n",
              "          if (!dataTable) return;\n",
              "\n",
              "          const docLinkHtml = 'Like what you see? Visit the ' +\n",
              "            '<a target=\"_blank\" href=https://colab.research.google.com/notebooks/data_table.ipynb>data table notebook</a>'\n",
              "            + ' to learn more about interactive tables.';\n",
              "          element.innerHTML = '';\n",
              "          dataTable['output_type'] = 'display_data';\n",
              "          await google.colab.output.renderOutput(dataTable, element);\n",
              "          const docLink = document.createElement('div');\n",
              "          docLink.innerHTML = docLinkHtml;\n",
              "          element.appendChild(docLink);\n",
              "        }\n",
              "      </script>\n",
              "    </div>\n",
              "  </div>\n",
              "  "
            ]
          },
          "metadata": {},
          "execution_count": 62
        }
      ]
    },
    {
      "cell_type": "code",
      "source": [
        "final_df.shape"
      ],
      "metadata": {
        "id": "43HrtykhzfL6",
        "outputId": "54c6d9ef-e2b8-473d-dc28-3d529b601ed6",
        "colab": {
          "base_uri": "https://localhost:8080/"
        }
      },
      "execution_count": null,
      "outputs": [
        {
          "output_type": "execute_result",
          "data": {
            "text/plain": [
              "(58186, 9)"
            ]
          },
          "metadata": {},
          "execution_count": 73
        }
      ]
    },
    {
      "cell_type": "code",
      "source": [
        "final_df.to_csv('Dataset_for_Analysis.csv',index=False, header= True)"
      ],
      "metadata": {
        "id": "GJRrQH0uyA1E"
      },
      "execution_count": null,
      "outputs": []
    }
  ]
}