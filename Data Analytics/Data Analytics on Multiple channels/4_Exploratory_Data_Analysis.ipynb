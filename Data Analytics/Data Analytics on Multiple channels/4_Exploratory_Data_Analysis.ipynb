{
  "nbformat": 4,
  "nbformat_minor": 0,
  "metadata": {
    "colab": {
      "provenance": []
    },
    "kernelspec": {
      "name": "python3",
      "display_name": "Python 3"
    },
    "language_info": {
      "name": "python"
    }
  },
  "cells": [
    {
      "cell_type": "markdown",
      "source": [
        "#**EDA** involves visualization and Analysis of videos uploaded by the channel as well as involves metrics like Best/Worst, Long/Short and Schedule on Weeks and Years."
      ],
      "metadata": {
        "id": "OZekb_k4jMUn"
      }
    },
    {
      "cell_type": "code",
      "source": [
        "import pandas as pd\n",
        "import seaborn as sns\n",
        "import matplotlib.pyplot as plt"
      ],
      "metadata": {
        "id": "_9NDuvn02d1R"
      },
      "execution_count": null,
      "outputs": []
    },
    {
      "cell_type": "code",
      "execution_count": null,
      "metadata": {
        "colab": {
          "base_uri": "https://localhost:8080/"
        },
        "id": "lrQWfeyG1VPS",
        "outputId": "55f1cdb2-ca77-452c-8120-3c2b3a992a2d"
      },
      "outputs": [
        {
          "output_type": "stream",
          "name": "stdout",
          "text": [
            "Mounted at /content/drive\n"
          ]
        }
      ],
      "source": [
        "from google.colab import drive\n",
        "drive.mount('/content/drive',force_remount=True)\n",
        "file_path = \"/content/drive/MyDrive/Dataset_for_Analysis.csv\""
      ]
    },
    {
      "cell_type": "code",
      "source": [
        "df= pd.read_csv(file_path)\n",
        "df.head()"
      ],
      "metadata": {
        "colab": {
          "base_uri": "https://localhost:8080/",
          "height": 337
        },
        "id": "S2RgRuXC2dE7",
        "outputId": "1cf23ff0-211a-4803-ff5d-09342811b814"
      },
      "execution_count": null,
      "outputs": [
        {
          "output_type": "execute_result",
          "data": {
            "text/plain": [
              "   channelTitle                                              title  viewCount  \\\n",
              "0  Aditya Music  Hello Alludu Full Songs Jukebox | Suman, Rambh...        139   \n",
              "1  Aditya Music  Ammayi Kosam Full Songs Jukebox | Vineeth, Mee...        458   \n",
              "2  Aditya Music  Ammo Okato Thareeku Full Songs Jukebox | Srika...        534   \n",
              "3  Aditya Music  Interview With Priya Hegde And Kiran Raj | Nuv...       1364   \n",
              "4  Aditya Music  Manusutho Preminchi Full Video Song | Samudram...       1930   \n",
              "\n",
              "   likeCount  commentCount  tagcount publishDayName  durationSecs  publishYear  \n",
              "0          1             0         0        Tuesday        1255.0         2023  \n",
              "1          2             0         0        Tuesday        1616.0         2023  \n",
              "2          3             0         0        Tuesday        1618.0         2023  \n",
              "3         14             0         0        Tuesday        1612.0         2023  \n",
              "4         32             6         0        Tuesday         212.0         2023  "
            ],
            "text/html": [
              "\n",
              "  <div id=\"df-09ee4e04-3934-4d08-a38c-7bbf5e8a2bf0\">\n",
              "    <div class=\"colab-df-container\">\n",
              "      <div>\n",
              "<style scoped>\n",
              "    .dataframe tbody tr th:only-of-type {\n",
              "        vertical-align: middle;\n",
              "    }\n",
              "\n",
              "    .dataframe tbody tr th {\n",
              "        vertical-align: top;\n",
              "    }\n",
              "\n",
              "    .dataframe thead th {\n",
              "        text-align: right;\n",
              "    }\n",
              "</style>\n",
              "<table border=\"1\" class=\"dataframe\">\n",
              "  <thead>\n",
              "    <tr style=\"text-align: right;\">\n",
              "      <th></th>\n",
              "      <th>channelTitle</th>\n",
              "      <th>title</th>\n",
              "      <th>viewCount</th>\n",
              "      <th>likeCount</th>\n",
              "      <th>commentCount</th>\n",
              "      <th>tagcount</th>\n",
              "      <th>publishDayName</th>\n",
              "      <th>durationSecs</th>\n",
              "      <th>publishYear</th>\n",
              "    </tr>\n",
              "  </thead>\n",
              "  <tbody>\n",
              "    <tr>\n",
              "      <th>0</th>\n",
              "      <td>Aditya Music</td>\n",
              "      <td>Hello Alludu Full Songs Jukebox | Suman, Rambh...</td>\n",
              "      <td>139</td>\n",
              "      <td>1</td>\n",
              "      <td>0</td>\n",
              "      <td>0</td>\n",
              "      <td>Tuesday</td>\n",
              "      <td>1255.0</td>\n",
              "      <td>2023</td>\n",
              "    </tr>\n",
              "    <tr>\n",
              "      <th>1</th>\n",
              "      <td>Aditya Music</td>\n",
              "      <td>Ammayi Kosam Full Songs Jukebox | Vineeth, Mee...</td>\n",
              "      <td>458</td>\n",
              "      <td>2</td>\n",
              "      <td>0</td>\n",
              "      <td>0</td>\n",
              "      <td>Tuesday</td>\n",
              "      <td>1616.0</td>\n",
              "      <td>2023</td>\n",
              "    </tr>\n",
              "    <tr>\n",
              "      <th>2</th>\n",
              "      <td>Aditya Music</td>\n",
              "      <td>Ammo Okato Thareeku Full Songs Jukebox | Srika...</td>\n",
              "      <td>534</td>\n",
              "      <td>3</td>\n",
              "      <td>0</td>\n",
              "      <td>0</td>\n",
              "      <td>Tuesday</td>\n",
              "      <td>1618.0</td>\n",
              "      <td>2023</td>\n",
              "    </tr>\n",
              "    <tr>\n",
              "      <th>3</th>\n",
              "      <td>Aditya Music</td>\n",
              "      <td>Interview With Priya Hegde And Kiran Raj | Nuv...</td>\n",
              "      <td>1364</td>\n",
              "      <td>14</td>\n",
              "      <td>0</td>\n",
              "      <td>0</td>\n",
              "      <td>Tuesday</td>\n",
              "      <td>1612.0</td>\n",
              "      <td>2023</td>\n",
              "    </tr>\n",
              "    <tr>\n",
              "      <th>4</th>\n",
              "      <td>Aditya Music</td>\n",
              "      <td>Manusutho Preminchi Full Video Song | Samudram...</td>\n",
              "      <td>1930</td>\n",
              "      <td>32</td>\n",
              "      <td>6</td>\n",
              "      <td>0</td>\n",
              "      <td>Tuesday</td>\n",
              "      <td>212.0</td>\n",
              "      <td>2023</td>\n",
              "    </tr>\n",
              "  </tbody>\n",
              "</table>\n",
              "</div>\n",
              "      <button class=\"colab-df-convert\" onclick=\"convertToInteractive('df-09ee4e04-3934-4d08-a38c-7bbf5e8a2bf0')\"\n",
              "              title=\"Convert this dataframe to an interactive table.\"\n",
              "              style=\"display:none;\">\n",
              "        \n",
              "  <svg xmlns=\"http://www.w3.org/2000/svg\" height=\"24px\"viewBox=\"0 0 24 24\"\n",
              "       width=\"24px\">\n",
              "    <path d=\"M0 0h24v24H0V0z\" fill=\"none\"/>\n",
              "    <path d=\"M18.56 5.44l.94 2.06.94-2.06 2.06-.94-2.06-.94-.94-2.06-.94 2.06-2.06.94zm-11 1L8.5 8.5l.94-2.06 2.06-.94-2.06-.94L8.5 2.5l-.94 2.06-2.06.94zm10 10l.94 2.06.94-2.06 2.06-.94-2.06-.94-.94-2.06-.94 2.06-2.06.94z\"/><path d=\"M17.41 7.96l-1.37-1.37c-.4-.4-.92-.59-1.43-.59-.52 0-1.04.2-1.43.59L10.3 9.45l-7.72 7.72c-.78.78-.78 2.05 0 2.83L4 21.41c.39.39.9.59 1.41.59.51 0 1.02-.2 1.41-.59l7.78-7.78 2.81-2.81c.8-.78.8-2.07 0-2.86zM5.41 20L4 18.59l7.72-7.72 1.47 1.35L5.41 20z\"/>\n",
              "  </svg>\n",
              "      </button>\n",
              "      \n",
              "  <style>\n",
              "    .colab-df-container {\n",
              "      display:flex;\n",
              "      flex-wrap:wrap;\n",
              "      gap: 12px;\n",
              "    }\n",
              "\n",
              "    .colab-df-convert {\n",
              "      background-color: #E8F0FE;\n",
              "      border: none;\n",
              "      border-radius: 50%;\n",
              "      cursor: pointer;\n",
              "      display: none;\n",
              "      fill: #1967D2;\n",
              "      height: 32px;\n",
              "      padding: 0 0 0 0;\n",
              "      width: 32px;\n",
              "    }\n",
              "\n",
              "    .colab-df-convert:hover {\n",
              "      background-color: #E2EBFA;\n",
              "      box-shadow: 0px 1px 2px rgba(60, 64, 67, 0.3), 0px 1px 3px 1px rgba(60, 64, 67, 0.15);\n",
              "      fill: #174EA6;\n",
              "    }\n",
              "\n",
              "    [theme=dark] .colab-df-convert {\n",
              "      background-color: #3B4455;\n",
              "      fill: #D2E3FC;\n",
              "    }\n",
              "\n",
              "    [theme=dark] .colab-df-convert:hover {\n",
              "      background-color: #434B5C;\n",
              "      box-shadow: 0px 1px 3px 1px rgba(0, 0, 0, 0.15);\n",
              "      filter: drop-shadow(0px 1px 2px rgba(0, 0, 0, 0.3));\n",
              "      fill: #FFFFFF;\n",
              "    }\n",
              "  </style>\n",
              "\n",
              "      <script>\n",
              "        const buttonEl =\n",
              "          document.querySelector('#df-09ee4e04-3934-4d08-a38c-7bbf5e8a2bf0 button.colab-df-convert');\n",
              "        buttonEl.style.display =\n",
              "          google.colab.kernel.accessAllowed ? 'block' : 'none';\n",
              "\n",
              "        async function convertToInteractive(key) {\n",
              "          const element = document.querySelector('#df-09ee4e04-3934-4d08-a38c-7bbf5e8a2bf0');\n",
              "          const dataTable =\n",
              "            await google.colab.kernel.invokeFunction('convertToInteractive',\n",
              "                                                     [key], {});\n",
              "          if (!dataTable) return;\n",
              "\n",
              "          const docLinkHtml = 'Like what you see? Visit the ' +\n",
              "            '<a target=\"_blank\" href=https://colab.research.google.com/notebooks/data_table.ipynb>data table notebook</a>'\n",
              "            + ' to learn more about interactive tables.';\n",
              "          element.innerHTML = '';\n",
              "          dataTable['output_type'] = 'display_data';\n",
              "          await google.colab.output.renderOutput(dataTable, element);\n",
              "          const docLink = document.createElement('div');\n",
              "          docLink.innerHTML = docLinkHtml;\n",
              "          element.appendChild(docLink);\n",
              "        }\n",
              "      </script>\n",
              "    </div>\n",
              "  </div>\n",
              "  "
            ]
          },
          "metadata": {},
          "execution_count": 3
        }
      ]
    },
    {
      "cell_type": "markdown",
      "source": [
        "# Best Performing Videos"
      ],
      "metadata": {
        "id": "h5qP1Kv4uWP2"
      }
    },
    {
      "cell_type": "markdown",
      "source": [
        "* Among all the Dataset"
      ],
      "metadata": {
        "id": "MI9HwraH02ed"
      }
    },
    {
      "cell_type": "code",
      "source": [
        "# sort the DataFrame by the 'viewCount' column in descending order and get the top 10 rows\n",
        "top10_df = df.sort_values('viewCount', ascending=False).head(5)\n",
        "\n",
        "# print the top 10 rows\n",
        "top10_df[['channelTitle','viewCount']]"
      ],
      "metadata": {
        "colab": {
          "base_uri": "https://localhost:8080/",
          "height": 206
        },
        "id": "Lj_ijQnjvU8V",
        "outputId": "6c2aab4d-ebbd-4e45-ac6e-caf8f2cacbe6"
      },
      "execution_count": null,
      "outputs": [
        {
          "output_type": "execute_result",
          "data": {
            "text/plain": [
              "            channelTitle   viewCount\n",
              "30970           T-Series  1490814665\n",
              "28665           T-Series  1292553032\n",
              "56882  Zee Music Company  1266832416\n",
              "31934           T-Series  1230860931\n",
              "31344           T-Series  1205972272"
            ],
            "text/html": [
              "\n",
              "  <div id=\"df-d16b00b7-818e-478a-92a8-b6733fc39104\">\n",
              "    <div class=\"colab-df-container\">\n",
              "      <div>\n",
              "<style scoped>\n",
              "    .dataframe tbody tr th:only-of-type {\n",
              "        vertical-align: middle;\n",
              "    }\n",
              "\n",
              "    .dataframe tbody tr th {\n",
              "        vertical-align: top;\n",
              "    }\n",
              "\n",
              "    .dataframe thead th {\n",
              "        text-align: right;\n",
              "    }\n",
              "</style>\n",
              "<table border=\"1\" class=\"dataframe\">\n",
              "  <thead>\n",
              "    <tr style=\"text-align: right;\">\n",
              "      <th></th>\n",
              "      <th>channelTitle</th>\n",
              "      <th>viewCount</th>\n",
              "    </tr>\n",
              "  </thead>\n",
              "  <tbody>\n",
              "    <tr>\n",
              "      <th>30970</th>\n",
              "      <td>T-Series</td>\n",
              "      <td>1490814665</td>\n",
              "    </tr>\n",
              "    <tr>\n",
              "      <th>28665</th>\n",
              "      <td>T-Series</td>\n",
              "      <td>1292553032</td>\n",
              "    </tr>\n",
              "    <tr>\n",
              "      <th>56882</th>\n",
              "      <td>Zee Music Company</td>\n",
              "      <td>1266832416</td>\n",
              "    </tr>\n",
              "    <tr>\n",
              "      <th>31934</th>\n",
              "      <td>T-Series</td>\n",
              "      <td>1230860931</td>\n",
              "    </tr>\n",
              "    <tr>\n",
              "      <th>31344</th>\n",
              "      <td>T-Series</td>\n",
              "      <td>1205972272</td>\n",
              "    </tr>\n",
              "  </tbody>\n",
              "</table>\n",
              "</div>\n",
              "      <button class=\"colab-df-convert\" onclick=\"convertToInteractive('df-d16b00b7-818e-478a-92a8-b6733fc39104')\"\n",
              "              title=\"Convert this dataframe to an interactive table.\"\n",
              "              style=\"display:none;\">\n",
              "        \n",
              "  <svg xmlns=\"http://www.w3.org/2000/svg\" height=\"24px\"viewBox=\"0 0 24 24\"\n",
              "       width=\"24px\">\n",
              "    <path d=\"M0 0h24v24H0V0z\" fill=\"none\"/>\n",
              "    <path d=\"M18.56 5.44l.94 2.06.94-2.06 2.06-.94-2.06-.94-.94-2.06-.94 2.06-2.06.94zm-11 1L8.5 8.5l.94-2.06 2.06-.94-2.06-.94L8.5 2.5l-.94 2.06-2.06.94zm10 10l.94 2.06.94-2.06 2.06-.94-2.06-.94-.94-2.06-.94 2.06-2.06.94z\"/><path d=\"M17.41 7.96l-1.37-1.37c-.4-.4-.92-.59-1.43-.59-.52 0-1.04.2-1.43.59L10.3 9.45l-7.72 7.72c-.78.78-.78 2.05 0 2.83L4 21.41c.39.39.9.59 1.41.59.51 0 1.02-.2 1.41-.59l7.78-7.78 2.81-2.81c.8-.78.8-2.07 0-2.86zM5.41 20L4 18.59l7.72-7.72 1.47 1.35L5.41 20z\"/>\n",
              "  </svg>\n",
              "      </button>\n",
              "      \n",
              "  <style>\n",
              "    .colab-df-container {\n",
              "      display:flex;\n",
              "      flex-wrap:wrap;\n",
              "      gap: 12px;\n",
              "    }\n",
              "\n",
              "    .colab-df-convert {\n",
              "      background-color: #E8F0FE;\n",
              "      border: none;\n",
              "      border-radius: 50%;\n",
              "      cursor: pointer;\n",
              "      display: none;\n",
              "      fill: #1967D2;\n",
              "      height: 32px;\n",
              "      padding: 0 0 0 0;\n",
              "      width: 32px;\n",
              "    }\n",
              "\n",
              "    .colab-df-convert:hover {\n",
              "      background-color: #E2EBFA;\n",
              "      box-shadow: 0px 1px 2px rgba(60, 64, 67, 0.3), 0px 1px 3px 1px rgba(60, 64, 67, 0.15);\n",
              "      fill: #174EA6;\n",
              "    }\n",
              "\n",
              "    [theme=dark] .colab-df-convert {\n",
              "      background-color: #3B4455;\n",
              "      fill: #D2E3FC;\n",
              "    }\n",
              "\n",
              "    [theme=dark] .colab-df-convert:hover {\n",
              "      background-color: #434B5C;\n",
              "      box-shadow: 0px 1px 3px 1px rgba(0, 0, 0, 0.15);\n",
              "      filter: drop-shadow(0px 1px 2px rgba(0, 0, 0, 0.3));\n",
              "      fill: #FFFFFF;\n",
              "    }\n",
              "  </style>\n",
              "\n",
              "      <script>\n",
              "        const buttonEl =\n",
              "          document.querySelector('#df-d16b00b7-818e-478a-92a8-b6733fc39104 button.colab-df-convert');\n",
              "        buttonEl.style.display =\n",
              "          google.colab.kernel.accessAllowed ? 'block' : 'none';\n",
              "\n",
              "        async function convertToInteractive(key) {\n",
              "          const element = document.querySelector('#df-d16b00b7-818e-478a-92a8-b6733fc39104');\n",
              "          const dataTable =\n",
              "            await google.colab.kernel.invokeFunction('convertToInteractive',\n",
              "                                                     [key], {});\n",
              "          if (!dataTable) return;\n",
              "\n",
              "          const docLinkHtml = 'Like what you see? Visit the ' +\n",
              "            '<a target=\"_blank\" href=https://colab.research.google.com/notebooks/data_table.ipynb>data table notebook</a>'\n",
              "            + ' to learn more about interactive tables.';\n",
              "          element.innerHTML = '';\n",
              "          dataTable['output_type'] = 'display_data';\n",
              "          await google.colab.output.renderOutput(dataTable, element);\n",
              "          const docLink = document.createElement('div');\n",
              "          docLink.innerHTML = docLinkHtml;\n",
              "          element.appendChild(docLink);\n",
              "        }\n",
              "      </script>\n",
              "    </div>\n",
              "  </div>\n",
              "  "
            ]
          },
          "metadata": {},
          "execution_count": 4
        }
      ]
    },
    {
      "cell_type": "code",
      "source": [
        "plt.figure(figsize=(10,5))\n",
        "ax= sns.barplot(x='title',y='viewCount',data= df.sort_values('viewCount',ascending=False)[0:6])\n",
        "plot = ax.set_xticklabels(ax.get_xticklabels(), rotation=90)\n",
        "for p in ax.patches:\n",
        "  ax.annotate(str(p.get_height()), (p.get_x()*1.005, p.get_height()*1.005))\n",
        "\n",
        "plt.show()"
      ],
      "metadata": {
        "id": "Ghe_DBI43FX7",
        "colab": {
          "base_uri": "https://localhost:8080/",
          "height": 856
        },
        "outputId": "e1867eae-cba1-46b1-8376-d7c7560136ce"
      },
      "execution_count": null,
      "outputs": [
        {
          "output_type": "display_data",
          "data": {
            "text/plain": [
              "<Figure size 720x360 with 1 Axes>"
            ],
            "image/png": "[encoded data removed]"
          },
          "metadata": {
            "needs_background": "light"
          }
        }
      ]
    },
    {
      "cell_type": "markdown",
      "source": [
        "* Best video viewCounts among Channels"
      ],
      "metadata": {
        "id": "a8YFa1p-0-Q7"
      }
    },
    {
      "cell_type": "code",
      "source": [
        "idx = df.groupby('channelTitle')['viewCount'].transform(max) == df['viewCount']\n",
        "channel_best = df[idx][['channelTitle', 'title', 'viewCount']]\n",
        "channel_best"
      ],
      "metadata": {
        "id": "LiKLGQ5_ts9t",
        "colab": {
          "base_uri": "https://localhost:8080/",
          "height": 206
        },
        "outputId": "b8c82111-8823-4676-bfa1-f36664e753a7"
      },
      "execution_count": null,
      "outputs": [
        {
          "output_type": "execute_result",
          "data": {
            "text/plain": [
              "             channelTitle                                              title  \\\n",
              "4801         Aditya Music  #AlaVaikunthapurramuloo - ButtaBomma Full Vide...   \n",
              "23274  SonyMusicSouthVEVO  Maari - Don’u Don’u Don’u Video | Dhanush, Kaj...   \n",
              "30970            T-Series  Vaaste Song: Dhvani Bhanushali, Tanishk Bagchi...   \n",
              "45794      Saregama Music  Badshah - Paani Paani | Jacqueline Fernandez |...   \n",
              "56882   Zee Music Company  Mile Ho Tum - Reprise Version | Neha Kakkar | ...   \n",
              "\n",
              "        viewCount  \n",
              "4801    818928586  \n",
              "23274   205060067  \n",
              "30970  1490814665  \n",
              "45794   787627291  \n",
              "56882  1266832416  "
            ],
            "text/html": [
              "\n",
              "  <div id=\"df-b8d5e09c-1b55-445a-89a6-7a685e99506f\">\n",
              "    <div class=\"colab-df-container\">\n",
              "      <div>\n",
              "<style scoped>\n",
              "    .dataframe tbody tr th:only-of-type {\n",
              "        vertical-align: middle;\n",
              "    }\n",
              "\n",
              "    .dataframe tbody tr th {\n",
              "        vertical-align: top;\n",
              "    }\n",
              "\n",
              "    .dataframe thead th {\n",
              "        text-align: right;\n",
              "    }\n",
              "</style>\n",
              "<table border=\"1\" class=\"dataframe\">\n",
              "  <thead>\n",
              "    <tr style=\"text-align: right;\">\n",
              "      <th></th>\n",
              "      <th>channelTitle</th>\n",
              "      <th>title</th>\n",
              "      <th>viewCount</th>\n",
              "    </tr>\n",
              "  </thead>\n",
              "  <tbody>\n",
              "    <tr>\n",
              "      <th>4801</th>\n",
              "      <td>Aditya Music</td>\n",
              "      <td>#AlaVaikunthapurramuloo - ButtaBomma Full Vide...</td>\n",
              "      <td>818928586</td>\n",
              "    </tr>\n",
              "    <tr>\n",
              "      <th>23274</th>\n",
              "      <td>SonyMusicSouthVEVO</td>\n",
              "      <td>Maari - Don’u Don’u Don’u Video | Dhanush, Kaj...</td>\n",
              "      <td>205060067</td>\n",
              "    </tr>\n",
              "    <tr>\n",
              "      <th>30970</th>\n",
              "      <td>T-Series</td>\n",
              "      <td>Vaaste Song: Dhvani Bhanushali, Tanishk Bagchi...</td>\n",
              "      <td>1490814665</td>\n",
              "    </tr>\n",
              "    <tr>\n",
              "      <th>45794</th>\n",
              "      <td>Saregama Music</td>\n",
              "      <td>Badshah - Paani Paani | Jacqueline Fernandez |...</td>\n",
              "      <td>787627291</td>\n",
              "    </tr>\n",
              "    <tr>\n",
              "      <th>56882</th>\n",
              "      <td>Zee Music Company</td>\n",
              "      <td>Mile Ho Tum - Reprise Version | Neha Kakkar | ...</td>\n",
              "      <td>1266832416</td>\n",
              "    </tr>\n",
              "  </tbody>\n",
              "</table>\n",
              "</div>\n",
              "      <button class=\"colab-df-convert\" onclick=\"convertToInteractive('df-b8d5e09c-1b55-445a-89a6-7a685e99506f')\"\n",
              "              title=\"Convert this dataframe to an interactive table.\"\n",
              "              style=\"display:none;\">\n",
              "        \n",
              "  <svg xmlns=\"http://www.w3.org/2000/svg\" height=\"24px\"viewBox=\"0 0 24 24\"\n",
              "       width=\"24px\">\n",
              "    <path d=\"M0 0h24v24H0V0z\" fill=\"none\"/>\n",
              "    <path d=\"M18.56 5.44l.94 2.06.94-2.06 2.06-.94-2.06-.94-.94-2.06-.94 2.06-2.06.94zm-11 1L8.5 8.5l.94-2.06 2.06-.94-2.06-.94L8.5 2.5l-.94 2.06-2.06.94zm10 10l.94 2.06.94-2.06 2.06-.94-2.06-.94-.94-2.06-.94 2.06-2.06.94z\"/><path d=\"M17.41 7.96l-1.37-1.37c-.4-.4-.92-.59-1.43-.59-.52 0-1.04.2-1.43.59L10.3 9.45l-7.72 7.72c-.78.78-.78 2.05 0 2.83L4 21.41c.39.39.9.59 1.41.59.51 0 1.02-.2 1.41-.59l7.78-7.78 2.81-2.81c.8-.78.8-2.07 0-2.86zM5.41 20L4 18.59l7.72-7.72 1.47 1.35L5.41 20z\"/>\n",
              "  </svg>\n",
              "      </button>\n",
              "      \n",
              "  <style>\n",
              "    .colab-df-container {\n",
              "      display:flex;\n",
              "      flex-wrap:wrap;\n",
              "      gap: 12px;\n",
              "    }\n",
              "\n",
              "    .colab-df-convert {\n",
              "      background-color: #E8F0FE;\n",
              "      border: none;\n",
              "      border-radius: 50%;\n",
              "      cursor: pointer;\n",
              "      display: none;\n",
              "      fill: #1967D2;\n",
              "      height: 32px;\n",
              "      padding: 0 0 0 0;\n",
              "      width: 32px;\n",
              "    }\n",
              "\n",
              "    .colab-df-convert:hover {\n",
              "      background-color: #E2EBFA;\n",
              "      box-shadow: 0px 1px 2px rgba(60, 64, 67, 0.3), 0px 1px 3px 1px rgba(60, 64, 67, 0.15);\n",
              "      fill: #174EA6;\n",
              "    }\n",
              "\n",
              "    [theme=dark] .colab-df-convert {\n",
              "      background-color: #3B4455;\n",
              "      fill: #D2E3FC;\n",
              "    }\n",
              "\n",
              "    [theme=dark] .colab-df-convert:hover {\n",
              "      background-color: #434B5C;\n",
              "      box-shadow: 0px 1px 3px 1px rgba(0, 0, 0, 0.15);\n",
              "      filter: drop-shadow(0px 1px 2px rgba(0, 0, 0, 0.3));\n",
              "      fill: #FFFFFF;\n",
              "    }\n",
              "  </style>\n",
              "\n",
              "      <script>\n",
              "        const buttonEl =\n",
              "          document.querySelector('#df-b8d5e09c-1b55-445a-89a6-7a685e99506f button.colab-df-convert');\n",
              "        buttonEl.style.display =\n",
              "          google.colab.kernel.accessAllowed ? 'block' : 'none';\n",
              "\n",
              "        async function convertToInteractive(key) {\n",
              "          const element = document.querySelector('#df-b8d5e09c-1b55-445a-89a6-7a685e99506f');\n",
              "          const dataTable =\n",
              "            await google.colab.kernel.invokeFunction('convertToInteractive',\n",
              "                                                     [key], {});\n",
              "          if (!dataTable) return;\n",
              "\n",
              "          const docLinkHtml = 'Like what you see? Visit the ' +\n",
              "            '<a target=\"_blank\" href=https://colab.research.google.com/notebooks/data_table.ipynb>data table notebook</a>'\n",
              "            + ' to learn more about interactive tables.';\n",
              "          element.innerHTML = '';\n",
              "          dataTable['output_type'] = 'display_data';\n",
              "          await google.colab.output.renderOutput(dataTable, element);\n",
              "          const docLink = document.createElement('div');\n",
              "          docLink.innerHTML = docLinkHtml;\n",
              "          element.appendChild(docLink);\n",
              "        }\n",
              "      </script>\n",
              "    </div>\n",
              "  </div>\n",
              "  "
            ]
          },
          "metadata": {},
          "execution_count": 6
        }
      ]
    },
    {
      "cell_type": "code",
      "source": [
        "plt.figure(figsize=(10, 5))\n",
        "ax = sns.barplot(x='channelTitle', y='viewCount', data=channel_best)\n",
        "ax.set(xlabel='Channel Title', ylabel='Max Views Count', title='Max Views Count by Channel Title')\n",
        "plot = ax.set_xticklabels(ax.get_xticklabels(), rotation=90)\n",
        "for p in ax.patches:\n",
        "  ax.annotate(str(p.get_height()), (p.get_x()*1.005, p.get_height()*1.005))\n",
        "\n",
        "plt.show()"
      ],
      "metadata": {
        "colab": {
          "base_uri": "https://localhost:8080/",
          "height": 449
        },
        "id": "S0IlqIXv1TYm",
        "outputId": "3dd6f402-9e5f-479b-bee7-f91e218a787d"
      },
      "execution_count": null,
      "outputs": [
        {
          "output_type": "display_data",
          "data": {
            "text/plain": [
              "<Figure size 720x360 with 1 Axes>"
            ],
            "image/png": "[encoded data removed]"
          },
          "metadata": {
            "needs_background": "light"
          }
        }
      ]
    },
    {
      "cell_type": "markdown",
      "source": [
        "# Worst Performing Videos"
      ],
      "metadata": {
        "id": "kh9TkNkFzWqY"
      }
    },
    {
      "cell_type": "code",
      "source": [
        "df[df.viewCount==0]"
      ],
      "metadata": {
        "id": "FGcdyJB33Iyd",
        "colab": {
          "base_uri": "https://localhost:8080/",
          "height": 869
        },
        "outputId": "20b5792f-c39d-4afe-bacf-2b0271a5d668"
      },
      "execution_count": null,
      "outputs": [
        {
          "output_type": "execute_result",
          "data": {
            "text/plain": [
              "             channelTitle                                              title  \\\n",
              "19395  SonyMusicSouthVEVO  Aniyan Bava Chettan Bava - Mizhineerin Kaayal ...   \n",
              "19614  SonyMusicSouthVEVO  Shenbagamae Shenbagamae - Thaen Pazhani Aandav...   \n",
              "19781  SonyMusicSouthVEVO  Enna Petha Raasa - Sondham Ondrai (Male) Lyric...   \n",
              "19962  SonyMusicSouthVEVO  Poove Poochooda Vaa - Poove Poochooduva Female...   \n",
              "20293  SonyMusicSouthVEVO  Siraiyil Sila Raagangal - Kadhulukku Lyric | M...   \n",
              "20368  SonyMusicSouthVEVO  4 The People - Annakkili Lyric | Jassie Gift |...   \n",
              "20390  SonyMusicSouthVEVO  Niram - Mizhiyariyaathe Lyric | Vidyasagar | K...   \n",
              "20586  SonyMusicSouthVEVO  Valimai (Kannada) - Enno Kore Na Video | Ajith...   \n",
              "21696  SonyMusicSouthVEVO                     SonyMusicSouthVEVO Live Stream   \n",
              "32503            T-Series                                       Millind Gaba   \n",
              "32504            T-Series                          Millind Gaba Live With Us   \n",
              "33733            T-Series  LIVE: Hindi Medium Trailer Launch at Twitter B...   \n",
              "33734            T-Series  LIVE: Hindi Medium Trailer Launch at Twitter B...   \n",
              "33791            T-Series               LIVE: Gulaabi 2.0 Song Launch | Noor   \n",
              "33793            T-Series               LIVE: Gulaabi 2.0 Song Launch | Noor   \n",
              "33808            T-Series                                       Naam Shabana   \n",
              "33812            T-Series  LIVE: Siddharth Slathia | TSeries Acoustics So...   \n",
              "\n",
              "       viewCount  likeCount  commentCount  tagcount publishDayName  \\\n",
              "19395          0          0             0         1       Thursday   \n",
              "19614          0          0             0         1      Wednesday   \n",
              "19781          0          0             0         1         Friday   \n",
              "19962          0          0             0         1         Friday   \n",
              "20293          0          0             0         1      Wednesday   \n",
              "20368          0          0             0         1         Monday   \n",
              "20390          0          0             0         1       Saturday   \n",
              "20586          0          9             0         1        Tuesday   \n",
              "21696          0          0             0         0       Saturday   \n",
              "32503          0        210             0         1      Wednesday   \n",
              "32504          0        121             0         1      Wednesday   \n",
              "33733          0         27             0         0       Thursday   \n",
              "33734          0         17             0         0       Thursday   \n",
              "33791          0         41             0         0      Wednesday   \n",
              "33793          0         73             0         0      Wednesday   \n",
              "33808          0         31             0         0         Sunday   \n",
              "33812          0         66             0         0       Thursday   \n",
              "\n",
              "       durationSecs  publishYear  \n",
              "19395         303.0         2023  \n",
              "19614         278.0         2023  \n",
              "19781         277.0         2023  \n",
              "19962         282.0         2022  \n",
              "20293         288.0         2022  \n",
              "20368         257.0         2022  \n",
              "20390         349.0         2022  \n",
              "20586         185.0         2022  \n",
              "21696           0.0         2017  \n",
              "32503           0.0         2018  \n",
              "32504           0.0         2018  \n",
              "33733           0.0         2017  \n",
              "33734           0.0         2017  \n",
              "33791           0.0         2017  \n",
              "33793           0.0         2017  \n",
              "33808           0.0         2017  \n",
              "33812           0.0         2017  "
            ],
            "text/html": [
              "\n",
              "  <div id=\"df-24d60f7f-e250-4af1-9526-ca3966100385\">\n",
              "    <div class=\"colab-df-container\">\n",
              "      <div>\n",
              "<style scoped>\n",
              "    .dataframe tbody tr th:only-of-type {\n",
              "        vertical-align: middle;\n",
              "    }\n",
              "\n",
              "    .dataframe tbody tr th {\n",
              "        vertical-align: top;\n",
              "    }\n",
              "\n",
              "    .dataframe thead th {\n",
              "        text-align: right;\n",
              "    }\n",
              "</style>\n",
              "<table border=\"1\" class=\"dataframe\">\n",
              "  <thead>\n",
              "    <tr style=\"text-align: right;\">\n",
              "      <th></th>\n",
              "      <th>channelTitle</th>\n",
              "      <th>title</th>\n",
              "      <th>viewCount</th>\n",
              "      <th>likeCount</th>\n",
              "      <th>commentCount</th>\n",
              "      <th>tagcount</th>\n",
              "      <th>publishDayName</th>\n",
              "      <th>durationSecs</th>\n",
              "      <th>publishYear</th>\n",
              "    </tr>\n",
              "  </thead>\n",
              "  <tbody>\n",
              "    <tr>\n",
              "      <th>19395</th>\n",
              "      <td>SonyMusicSouthVEVO</td>\n",
              "      <td>Aniyan Bava Chettan Bava - Mizhineerin Kaayal ...</td>\n",
              "      <td>0</td>\n",
              "      <td>0</td>\n",
              "      <td>0</td>\n",
              "      <td>1</td>\n",
              "      <td>Thursday</td>\n",
              "      <td>303.0</td>\n",
              "      <td>2023</td>\n",
              "    </tr>\n",
              "    <tr>\n",
              "      <th>19614</th>\n",
              "      <td>SonyMusicSouthVEVO</td>\n",
              "      <td>Shenbagamae Shenbagamae - Thaen Pazhani Aandav...</td>\n",
              "      <td>0</td>\n",
              "      <td>0</td>\n",
              "      <td>0</td>\n",
              "      <td>1</td>\n",
              "      <td>Wednesday</td>\n",
              "      <td>278.0</td>\n",
              "      <td>2023</td>\n",
              "    </tr>\n",
              "    <tr>\n",
              "      <th>19781</th>\n",
              "      <td>SonyMusicSouthVEVO</td>\n",
              "      <td>Enna Petha Raasa - Sondham Ondrai (Male) Lyric...</td>\n",
              "      <td>0</td>\n",
              "      <td>0</td>\n",
              "      <td>0</td>\n",
              "      <td>1</td>\n",
              "      <td>Friday</td>\n",
              "      <td>277.0</td>\n",
              "      <td>2023</td>\n",
              "    </tr>\n",
              "    <tr>\n",
              "      <th>19962</th>\n",
              "      <td>SonyMusicSouthVEVO</td>\n",
              "      <td>Poove Poochooda Vaa - Poove Poochooduva Female...</td>\n",
              "      <td>0</td>\n",
              "      <td>0</td>\n",
              "      <td>0</td>\n",
              "      <td>1</td>\n",
              "      <td>Friday</td>\n",
              "      <td>282.0</td>\n",
              "      <td>2022</td>\n",
              "    </tr>\n",
              "    <tr>\n",
              "      <th>20293</th>\n",
              "      <td>SonyMusicSouthVEVO</td>\n",
              "      <td>Siraiyil Sila Raagangal - Kadhulukku Lyric | M...</td>\n",
              "      <td>0</td>\n",
              "      <td>0</td>\n",
              "      <td>0</td>\n",
              "      <td>1</td>\n",
              "      <td>Wednesday</td>\n",
              "      <td>288.0</td>\n",
              "      <td>2022</td>\n",
              "    </tr>\n",
              "    <tr>\n",
              "      <th>20368</th>\n",
              "      <td>SonyMusicSouthVEVO</td>\n",
              "      <td>4 The People - Annakkili Lyric | Jassie Gift |...</td>\n",
              "      <td>0</td>\n",
              "      <td>0</td>\n",
              "      <td>0</td>\n",
              "      <td>1</td>\n",
              "      <td>Monday</td>\n",
              "      <td>257.0</td>\n",
              "      <td>2022</td>\n",
              "    </tr>\n",
              "    <tr>\n",
              "      <th>20390</th>\n",
              "      <td>SonyMusicSouthVEVO</td>\n",
              "      <td>Niram - Mizhiyariyaathe Lyric | Vidyasagar | K...</td>\n",
              "      <td>0</td>\n",
              "      <td>0</td>\n",
              "      <td>0</td>\n",
              "      <td>1</td>\n",
              "      <td>Saturday</td>\n",
              "      <td>349.0</td>\n",
              "      <td>2022</td>\n",
              "    </tr>\n",
              "    <tr>\n",
              "      <th>20586</th>\n",
              "      <td>SonyMusicSouthVEVO</td>\n",
              "      <td>Valimai (Kannada) - Enno Kore Na Video | Ajith...</td>\n",
              "      <td>0</td>\n",
              "      <td>9</td>\n",
              "      <td>0</td>\n",
              "      <td>1</td>\n",
              "      <td>Tuesday</td>\n",
              "      <td>185.0</td>\n",
              "      <td>2022</td>\n",
              "    </tr>\n",
              "    <tr>\n",
              "      <th>21696</th>\n",
              "      <td>SonyMusicSouthVEVO</td>\n",
              "      <td>SonyMusicSouthVEVO Live Stream</td>\n",
              "      <td>0</td>\n",
              "      <td>0</td>\n",
              "      <td>0</td>\n",
              "      <td>0</td>\n",
              "      <td>Saturday</td>\n",
              "      <td>0.0</td>\n",
              "      <td>2017</td>\n",
              "    </tr>\n",
              "    <tr>\n",
              "      <th>32503</th>\n",
              "      <td>T-Series</td>\n",
              "      <td>Millind Gaba</td>\n",
              "      <td>0</td>\n",
              "      <td>210</td>\n",
              "      <td>0</td>\n",
              "      <td>1</td>\n",
              "      <td>Wednesday</td>\n",
              "      <td>0.0</td>\n",
              "      <td>2018</td>\n",
              "    </tr>\n",
              "    <tr>\n",
              "      <th>32504</th>\n",
              "      <td>T-Series</td>\n",
              "      <td>Millind Gaba Live With Us</td>\n",
              "      <td>0</td>\n",
              "      <td>121</td>\n",
              "      <td>0</td>\n",
              "      <td>1</td>\n",
              "      <td>Wednesday</td>\n",
              "      <td>0.0</td>\n",
              "      <td>2018</td>\n",
              "    </tr>\n",
              "    <tr>\n",
              "      <th>33733</th>\n",
              "      <td>T-Series</td>\n",
              "      <td>LIVE: Hindi Medium Trailer Launch at Twitter B...</td>\n",
              "      <td>0</td>\n",
              "      <td>27</td>\n",
              "      <td>0</td>\n",
              "      <td>0</td>\n",
              "      <td>Thursday</td>\n",
              "      <td>0.0</td>\n",
              "      <td>2017</td>\n",
              "    </tr>\n",
              "    <tr>\n",
              "      <th>33734</th>\n",
              "      <td>T-Series</td>\n",
              "      <td>LIVE: Hindi Medium Trailer Launch at Twitter B...</td>\n",
              "      <td>0</td>\n",
              "      <td>17</td>\n",
              "      <td>0</td>\n",
              "      <td>0</td>\n",
              "      <td>Thursday</td>\n",
              "      <td>0.0</td>\n",
              "      <td>2017</td>\n",
              "    </tr>\n",
              "    <tr>\n",
              "      <th>33791</th>\n",
              "      <td>T-Series</td>\n",
              "      <td>LIVE: Gulaabi 2.0 Song Launch | Noor</td>\n",
              "      <td>0</td>\n",
              "      <td>41</td>\n",
              "      <td>0</td>\n",
              "      <td>0</td>\n",
              "      <td>Wednesday</td>\n",
              "      <td>0.0</td>\n",
              "      <td>2017</td>\n",
              "    </tr>\n",
              "    <tr>\n",
              "      <th>33793</th>\n",
              "      <td>T-Series</td>\n",
              "      <td>LIVE: Gulaabi 2.0 Song Launch | Noor</td>\n",
              "      <td>0</td>\n",
              "      <td>73</td>\n",
              "      <td>0</td>\n",
              "      <td>0</td>\n",
              "      <td>Wednesday</td>\n",
              "      <td>0.0</td>\n",
              "      <td>2017</td>\n",
              "    </tr>\n",
              "    <tr>\n",
              "      <th>33808</th>\n",
              "      <td>T-Series</td>\n",
              "      <td>Naam Shabana</td>\n",
              "      <td>0</td>\n",
              "      <td>31</td>\n",
              "      <td>0</td>\n",
              "      <td>0</td>\n",
              "      <td>Sunday</td>\n",
              "      <td>0.0</td>\n",
              "      <td>2017</td>\n",
              "    </tr>\n",
              "    <tr>\n",
              "      <th>33812</th>\n",
              "      <td>T-Series</td>\n",
              "      <td>LIVE: Siddharth Slathia | TSeries Acoustics So...</td>\n",
              "      <td>0</td>\n",
              "      <td>66</td>\n",
              "      <td>0</td>\n",
              "      <td>0</td>\n",
              "      <td>Thursday</td>\n",
              "      <td>0.0</td>\n",
              "      <td>2017</td>\n",
              "    </tr>\n",
              "  </tbody>\n",
              "</table>\n",
              "</div>\n",
              "      <button class=\"colab-df-convert\" onclick=\"convertToInteractive('df-24d60f7f-e250-4af1-9526-ca3966100385')\"\n",
              "              title=\"Convert this dataframe to an interactive table.\"\n",
              "              style=\"display:none;\">\n",
              "        \n",
              "  <svg xmlns=\"http://www.w3.org/2000/svg\" height=\"24px\"viewBox=\"0 0 24 24\"\n",
              "       width=\"24px\">\n",
              "    <path d=\"M0 0h24v24H0V0z\" fill=\"none\"/>\n",
              "    <path d=\"M18.56 5.44l.94 2.06.94-2.06 2.06-.94-2.06-.94-.94-2.06-.94 2.06-2.06.94zm-11 1L8.5 8.5l.94-2.06 2.06-.94-2.06-.94L8.5 2.5l-.94 2.06-2.06.94zm10 10l.94 2.06.94-2.06 2.06-.94-2.06-.94-.94-2.06-.94 2.06-2.06.94z\"/><path d=\"M17.41 7.96l-1.37-1.37c-.4-.4-.92-.59-1.43-.59-.52 0-1.04.2-1.43.59L10.3 9.45l-7.72 7.72c-.78.78-.78 2.05 0 2.83L4 21.41c.39.39.9.59 1.41.59.51 0 1.02-.2 1.41-.59l7.78-7.78 2.81-2.81c.8-.78.8-2.07 0-2.86zM5.41 20L4 18.59l7.72-7.72 1.47 1.35L5.41 20z\"/>\n",
              "  </svg>\n",
              "      </button>\n",
              "      \n",
              "  <style>\n",
              "    .colab-df-container {\n",
              "      display:flex;\n",
              "      flex-wrap:wrap;\n",
              "      gap: 12px;\n",
              "    }\n",
              "\n",
              "    .colab-df-convert {\n",
              "      background-color: #E8F0FE;\n",
              "      border: none;\n",
              "      border-radius: 50%;\n",
              "      cursor: pointer;\n",
              "      display: none;\n",
              "      fill: #1967D2;\n",
              "      height: 32px;\n",
              "      padding: 0 0 0 0;\n",
              "      width: 32px;\n",
              "    }\n",
              "\n",
              "    .colab-df-convert:hover {\n",
              "      background-color: #E2EBFA;\n",
              "      box-shadow: 0px 1px 2px rgba(60, 64, 67, 0.3), 0px 1px 3px 1px rgba(60, 64, 67, 0.15);\n",
              "      fill: #174EA6;\n",
              "    }\n",
              "\n",
              "    [theme=dark] .colab-df-convert {\n",
              "      background-color: #3B4455;\n",
              "      fill: #D2E3FC;\n",
              "    }\n",
              "\n",
              "    [theme=dark] .colab-df-convert:hover {\n",
              "      background-color: #434B5C;\n",
              "      box-shadow: 0px 1px 3px 1px rgba(0, 0, 0, 0.15);\n",
              "      filter: drop-shadow(0px 1px 2px rgba(0, 0, 0, 0.3));\n",
              "      fill: #FFFFFF;\n",
              "    }\n",
              "  </style>\n",
              "\n",
              "      <script>\n",
              "        const buttonEl =\n",
              "          document.querySelector('#df-24d60f7f-e250-4af1-9526-ca3966100385 button.colab-df-convert');\n",
              "        buttonEl.style.display =\n",
              "          google.colab.kernel.accessAllowed ? 'block' : 'none';\n",
              "\n",
              "        async function convertToInteractive(key) {\n",
              "          const element = document.querySelector('#df-24d60f7f-e250-4af1-9526-ca3966100385');\n",
              "          const dataTable =\n",
              "            await google.colab.kernel.invokeFunction('convertToInteractive',\n",
              "                                                     [key], {});\n",
              "          if (!dataTable) return;\n",
              "\n",
              "          const docLinkHtml = 'Like what you see? Visit the ' +\n",
              "            '<a target=\"_blank\" href=https://colab.research.google.com/notebooks/data_table.ipynb>data table notebook</a>'\n",
              "            + ' to learn more about interactive tables.';\n",
              "          element.innerHTML = '';\n",
              "          dataTable['output_type'] = 'display_data';\n",
              "          await google.colab.output.renderOutput(dataTable, element);\n",
              "          const docLink = document.createElement('div');\n",
              "          docLink.innerHTML = docLinkHtml;\n",
              "          element.appendChild(docLink);\n",
              "        }\n",
              "      </script>\n",
              "    </div>\n",
              "  </div>\n",
              "  "
            ]
          },
          "metadata": {},
          "execution_count": 8
        }
      ]
    },
    {
      "cell_type": "code",
      "source": [
        "df[(df['viewCount'] > 0) & (df['viewCount'] < 100)]"
      ],
      "metadata": {
        "colab": {
          "base_uri": "https://localhost:8080/",
          "height": 623
        },
        "id": "PvjmHcvX0YK9",
        "outputId": "5e3016a7-8fae-4882-c75c-c12372dc20e6"
      },
      "execution_count": null,
      "outputs": [
        {
          "output_type": "execute_result",
          "data": {
            "text/plain": [
              "             channelTitle                                              title  \\\n",
              "9897         Aditya Music                                           Radio 07   \n",
              "9923         Aditya Music              Valentins Day Funny Video #Justforfun   \n",
              "9935         Aditya Music    Evare -  Cover By Palli Bhai ♪♪  #premamcontest   \n",
              "9938         Aditya Music  Evare - Acoustic Cover By  Aravind ♪♪ #premamc...   \n",
              "9939         Aditya Music  Evare - Audio Cover By Hema Venkata Jaya Laksh...   \n",
              "...                   ...                                                ...   \n",
              "20502  SonyMusicSouthVEVO  Liger (Telugu) - Manchali Video | Vijay Devera...   \n",
              "24844            T-Series  BIBA (Song) Sachet Tandon, Danish | Giorgia An...   \n",
              "33869            T-Series                  Cheez Badi Launch Event | Machine   \n",
              "33991            T-Series  Divya Khosla Kumar & Palak Muchhal LIVE I Kabh...   \n",
              "43657      Saregama Music  Tere Naal | Anurag Halder | Aishwarya Sen | Ri...   \n",
              "\n",
              "       viewCount  likeCount  commentCount  tagcount publishDayName  \\\n",
              "9897          47          1             0         0         Monday   \n",
              "9923          30          0             0         1         Monday   \n",
              "9935          76          1             0         1         Monday   \n",
              "9938          41          0             0         1         Monday   \n",
              "9939          31          0             0         1         Monday   \n",
              "...          ...        ...           ...       ...            ...   \n",
              "20502          1          0             0         1      Wednesday   \n",
              "24844          5         98            18         1        Tuesday   \n",
              "33869          2         55             0         0         Monday   \n",
              "33991          1         36             0         0         Friday   \n",
              "43657          4         93             2         1        Tuesday   \n",
              "\n",
              "       durationSecs  publishYear  \n",
              "9897           30.0         2016  \n",
              "9923          133.0         2016  \n",
              "9935          208.0         2016  \n",
              "9938           92.0         2016  \n",
              "9939          199.0         2016  \n",
              "...             ...          ...  \n",
              "20502         133.0         2022  \n",
              "24844         174.0         2023  \n",
              "33869           0.0         2017  \n",
              "33991           0.0         2017  \n",
              "43657         333.0         2023  \n",
              "\n",
              "[131 rows x 9 columns]"
            ],
            "text/html": [
              "\n",
              "  <div id=\"df-7cd75b5a-711b-4c78-bb6c-50e936f969e3\">\n",
              "    <div class=\"colab-df-container\">\n",
              "      <div>\n",
              "<style scoped>\n",
              "    .dataframe tbody tr th:only-of-type {\n",
              "        vertical-align: middle;\n",
              "    }\n",
              "\n",
              "    .dataframe tbody tr th {\n",
              "        vertical-align: top;\n",
              "    }\n",
              "\n",
              "    .dataframe thead th {\n",
              "        text-align: right;\n",
              "    }\n",
              "</style>\n",
              "<table border=\"1\" class=\"dataframe\">\n",
              "  <thead>\n",
              "    <tr style=\"text-align: right;\">\n",
              "      <th></th>\n",
              "      <th>channelTitle</th>\n",
              "      <th>title</th>\n",
              "      <th>viewCount</th>\n",
              "      <th>likeCount</th>\n",
              "      <th>commentCount</th>\n",
              "      <th>tagcount</th>\n",
              "      <th>publishDayName</th>\n",
              "      <th>durationSecs</th>\n",
              "      <th>publishYear</th>\n",
              "    </tr>\n",
              "  </thead>\n",
              "  <tbody>\n",
              "    <tr>\n",
              "      <th>9897</th>\n",
              "      <td>Aditya Music</td>\n",
              "      <td>Radio 07</td>\n",
              "      <td>47</td>\n",
              "      <td>1</td>\n",
              "      <td>0</td>\n",
              "      <td>0</td>\n",
              "      <td>Monday</td>\n",
              "      <td>30.0</td>\n",
              "      <td>2016</td>\n",
              "    </tr>\n",
              "    <tr>\n",
              "      <th>9923</th>\n",
              "      <td>Aditya Music</td>\n",
              "      <td>Valentins Day Funny Video #Justforfun</td>\n",
              "      <td>30</td>\n",
              "      <td>0</td>\n",
              "      <td>0</td>\n",
              "      <td>1</td>\n",
              "      <td>Monday</td>\n",
              "      <td>133.0</td>\n",
              "      <td>2016</td>\n",
              "    </tr>\n",
              "    <tr>\n",
              "      <th>9935</th>\n",
              "      <td>Aditya Music</td>\n",
              "      <td>Evare -  Cover By Palli Bhai ♪♪  #premamcontest</td>\n",
              "      <td>76</td>\n",
              "      <td>1</td>\n",
              "      <td>0</td>\n",
              "      <td>1</td>\n",
              "      <td>Monday</td>\n",
              "      <td>208.0</td>\n",
              "      <td>2016</td>\n",
              "    </tr>\n",
              "    <tr>\n",
              "      <th>9938</th>\n",
              "      <td>Aditya Music</td>\n",
              "      <td>Evare - Acoustic Cover By  Aravind ♪♪ #premamc...</td>\n",
              "      <td>41</td>\n",
              "      <td>0</td>\n",
              "      <td>0</td>\n",
              "      <td>1</td>\n",
              "      <td>Monday</td>\n",
              "      <td>92.0</td>\n",
              "      <td>2016</td>\n",
              "    </tr>\n",
              "    <tr>\n",
              "      <th>9939</th>\n",
              "      <td>Aditya Music</td>\n",
              "      <td>Evare - Audio Cover By Hema Venkata Jaya Laksh...</td>\n",
              "      <td>31</td>\n",
              "      <td>0</td>\n",
              "      <td>0</td>\n",
              "      <td>1</td>\n",
              "      <td>Monday</td>\n",
              "      <td>199.0</td>\n",
              "      <td>2016</td>\n",
              "    </tr>\n",
              "    <tr>\n",
              "      <th>...</th>\n",
              "      <td>...</td>\n",
              "      <td>...</td>\n",
              "      <td>...</td>\n",
              "      <td>...</td>\n",
              "      <td>...</td>\n",
              "      <td>...</td>\n",
              "      <td>...</td>\n",
              "      <td>...</td>\n",
              "      <td>...</td>\n",
              "    </tr>\n",
              "    <tr>\n",
              "      <th>20502</th>\n",
              "      <td>SonyMusicSouthVEVO</td>\n",
              "      <td>Liger (Telugu) - Manchali Video | Vijay Devera...</td>\n",
              "      <td>1</td>\n",
              "      <td>0</td>\n",
              "      <td>0</td>\n",
              "      <td>1</td>\n",
              "      <td>Wednesday</td>\n",
              "      <td>133.0</td>\n",
              "      <td>2022</td>\n",
              "    </tr>\n",
              "    <tr>\n",
              "      <th>24844</th>\n",
              "      <td>T-Series</td>\n",
              "      <td>BIBA (Song) Sachet Tandon, Danish | Giorgia An...</td>\n",
              "      <td>5</td>\n",
              "      <td>98</td>\n",
              "      <td>18</td>\n",
              "      <td>1</td>\n",
              "      <td>Tuesday</td>\n",
              "      <td>174.0</td>\n",
              "      <td>2023</td>\n",
              "    </tr>\n",
              "    <tr>\n",
              "      <th>33869</th>\n",
              "      <td>T-Series</td>\n",
              "      <td>Cheez Badi Launch Event | Machine</td>\n",
              "      <td>2</td>\n",
              "      <td>55</td>\n",
              "      <td>0</td>\n",
              "      <td>0</td>\n",
              "      <td>Monday</td>\n",
              "      <td>0.0</td>\n",
              "      <td>2017</td>\n",
              "    </tr>\n",
              "    <tr>\n",
              "      <th>33991</th>\n",
              "      <td>T-Series</td>\n",
              "      <td>Divya Khosla Kumar &amp; Palak Muchhal LIVE I Kabh...</td>\n",
              "      <td>1</td>\n",
              "      <td>36</td>\n",
              "      <td>0</td>\n",
              "      <td>0</td>\n",
              "      <td>Friday</td>\n",
              "      <td>0.0</td>\n",
              "      <td>2017</td>\n",
              "    </tr>\n",
              "    <tr>\n",
              "      <th>43657</th>\n",
              "      <td>Saregama Music</td>\n",
              "      <td>Tere Naal | Anurag Halder | Aishwarya Sen | Ri...</td>\n",
              "      <td>4</td>\n",
              "      <td>93</td>\n",
              "      <td>2</td>\n",
              "      <td>1</td>\n",
              "      <td>Tuesday</td>\n",
              "      <td>333.0</td>\n",
              "      <td>2023</td>\n",
              "    </tr>\n",
              "  </tbody>\n",
              "</table>\n",
              "<p>131 rows × 9 columns</p>\n",
              "</div>\n",
              "      <button class=\"colab-df-convert\" onclick=\"convertToInteractive('df-7cd75b5a-711b-4c78-bb6c-50e936f969e3')\"\n",
              "              title=\"Convert this dataframe to an interactive table.\"\n",
              "              style=\"display:none;\">\n",
              "        \n",
              "  <svg xmlns=\"http://www.w3.org/2000/svg\" height=\"24px\"viewBox=\"0 0 24 24\"\n",
              "       width=\"24px\">\n",
              "    <path d=\"M0 0h24v24H0V0z\" fill=\"none\"/>\n",
              "    <path d=\"M18.56 5.44l.94 2.06.94-2.06 2.06-.94-2.06-.94-.94-2.06-.94 2.06-2.06.94zm-11 1L8.5 8.5l.94-2.06 2.06-.94-2.06-.94L8.5 2.5l-.94 2.06-2.06.94zm10 10l.94 2.06.94-2.06 2.06-.94-2.06-.94-.94-2.06-.94 2.06-2.06.94z\"/><path d=\"M17.41 7.96l-1.37-1.37c-.4-.4-.92-.59-1.43-.59-.52 0-1.04.2-1.43.59L10.3 9.45l-7.72 7.72c-.78.78-.78 2.05 0 2.83L4 21.41c.39.39.9.59 1.41.59.51 0 1.02-.2 1.41-.59l7.78-7.78 2.81-2.81c.8-.78.8-2.07 0-2.86zM5.41 20L4 18.59l7.72-7.72 1.47 1.35L5.41 20z\"/>\n",
              "  </svg>\n",
              "      </button>\n",
              "      \n",
              "  <style>\n",
              "    .colab-df-container {\n",
              "      display:flex;\n",
              "      flex-wrap:wrap;\n",
              "      gap: 12px;\n",
              "    }\n",
              "\n",
              "    .colab-df-convert {\n",
              "      background-color: #E8F0FE;\n",
              "      border: none;\n",
              "      border-radius: 50%;\n",
              "      cursor: pointer;\n",
              "      display: none;\n",
              "      fill: #1967D2;\n",
              "      height: 32px;\n",
              "      padding: 0 0 0 0;\n",
              "      width: 32px;\n",
              "    }\n",
              "\n",
              "    .colab-df-convert:hover {\n",
              "      background-color: #E2EBFA;\n",
              "      box-shadow: 0px 1px 2px rgba(60, 64, 67, 0.3), 0px 1px 3px 1px rgba(60, 64, 67, 0.15);\n",
              "      fill: #174EA6;\n",
              "    }\n",
              "\n",
              "    [theme=dark] .colab-df-convert {\n",
              "      background-color: #3B4455;\n",
              "      fill: #D2E3FC;\n",
              "    }\n",
              "\n",
              "    [theme=dark] .colab-df-convert:hover {\n",
              "      background-color: #434B5C;\n",
              "      box-shadow: 0px 1px 3px 1px rgba(0, 0, 0, 0.15);\n",
              "      filter: drop-shadow(0px 1px 2px rgba(0, 0, 0, 0.3));\n",
              "      fill: #FFFFFF;\n",
              "    }\n",
              "  </style>\n",
              "\n",
              "      <script>\n",
              "        const buttonEl =\n",
              "          document.querySelector('#df-7cd75b5a-711b-4c78-bb6c-50e936f969e3 button.colab-df-convert');\n",
              "        buttonEl.style.display =\n",
              "          google.colab.kernel.accessAllowed ? 'block' : 'none';\n",
              "\n",
              "        async function convertToInteractive(key) {\n",
              "          const element = document.querySelector('#df-7cd75b5a-711b-4c78-bb6c-50e936f969e3');\n",
              "          const dataTable =\n",
              "            await google.colab.kernel.invokeFunction('convertToInteractive',\n",
              "                                                     [key], {});\n",
              "          if (!dataTable) return;\n",
              "\n",
              "          const docLinkHtml = 'Like what you see? Visit the ' +\n",
              "            '<a target=\"_blank\" href=https://colab.research.google.com/notebooks/data_table.ipynb>data table notebook</a>'\n",
              "            + ' to learn more about interactive tables.';\n",
              "          element.innerHTML = '';\n",
              "          dataTable['output_type'] = 'display_data';\n",
              "          await google.colab.output.renderOutput(dataTable, element);\n",
              "          const docLink = document.createElement('div');\n",
              "          docLink.innerHTML = docLinkHtml;\n",
              "          element.appendChild(docLink);\n",
              "        }\n",
              "      </script>\n",
              "    </div>\n",
              "  </div>\n",
              "  "
            ]
          },
          "metadata": {},
          "execution_count": 9
        }
      ]
    },
    {
      "cell_type": "markdown",
      "source": [
        "* Bar Graph of Channels for Less viewcounts"
      ],
      "metadata": {
        "id": "wFjk9DqL5qc-"
      }
    },
    {
      "cell_type": "code",
      "source": [
        "views_total = df.groupby(['channelTitle'])['viewCount'].sum().reset_index()\n",
        "views_total"
      ],
      "metadata": {
        "colab": {
          "base_uri": "https://localhost:8080/",
          "height": 206
        },
        "id": "pMIOZ-4V7BSG",
        "outputId": "6d4b39bf-571d-46b9-f42e-fafca9a3a747"
      },
      "execution_count": null,
      "outputs": [
        {
          "output_type": "execute_result",
          "data": {
            "text/plain": [
              "         channelTitle     viewCount\n",
              "0        Aditya Music   23818900813\n",
              "1      Saregama Music   13873497951\n",
              "2  SonyMusicSouthVEVO   16764165589\n",
              "3            T-Series  215922530229\n",
              "4   Zee Music Company   54125968857"
            ],
            "text/html": [
              "\n",
              "  <div id=\"df-fe027568-620c-4f92-92f9-1811f5009cb1\">\n",
              "    <div class=\"colab-df-container\">\n",
              "      <div>\n",
              "<style scoped>\n",
              "    .dataframe tbody tr th:only-of-type {\n",
              "        vertical-align: middle;\n",
              "    }\n",
              "\n",
              "    .dataframe tbody tr th {\n",
              "        vertical-align: top;\n",
              "    }\n",
              "\n",
              "    .dataframe thead th {\n",
              "        text-align: right;\n",
              "    }\n",
              "</style>\n",
              "<table border=\"1\" class=\"dataframe\">\n",
              "  <thead>\n",
              "    <tr style=\"text-align: right;\">\n",
              "      <th></th>\n",
              "      <th>channelTitle</th>\n",
              "      <th>viewCount</th>\n",
              "    </tr>\n",
              "  </thead>\n",
              "  <tbody>\n",
              "    <tr>\n",
              "      <th>0</th>\n",
              "      <td>Aditya Music</td>\n",
              "      <td>23818900813</td>\n",
              "    </tr>\n",
              "    <tr>\n",
              "      <th>1</th>\n",
              "      <td>Saregama Music</td>\n",
              "      <td>13873497951</td>\n",
              "    </tr>\n",
              "    <tr>\n",
              "      <th>2</th>\n",
              "      <td>SonyMusicSouthVEVO</td>\n",
              "      <td>16764165589</td>\n",
              "    </tr>\n",
              "    <tr>\n",
              "      <th>3</th>\n",
              "      <td>T-Series</td>\n",
              "      <td>215922530229</td>\n",
              "    </tr>\n",
              "    <tr>\n",
              "      <th>4</th>\n",
              "      <td>Zee Music Company</td>\n",
              "      <td>54125968857</td>\n",
              "    </tr>\n",
              "  </tbody>\n",
              "</table>\n",
              "</div>\n",
              "      <button class=\"colab-df-convert\" onclick=\"convertToInteractive('df-fe027568-620c-4f92-92f9-1811f5009cb1')\"\n",
              "              title=\"Convert this dataframe to an interactive table.\"\n",
              "              style=\"display:none;\">\n",
              "        \n",
              "  <svg xmlns=\"http://www.w3.org/2000/svg\" height=\"24px\"viewBox=\"0 0 24 24\"\n",
              "       width=\"24px\">\n",
              "    <path d=\"M0 0h24v24H0V0z\" fill=\"none\"/>\n",
              "    <path d=\"M18.56 5.44l.94 2.06.94-2.06 2.06-.94-2.06-.94-.94-2.06-.94 2.06-2.06.94zm-11 1L8.5 8.5l.94-2.06 2.06-.94-2.06-.94L8.5 2.5l-.94 2.06-2.06.94zm10 10l.94 2.06.94-2.06 2.06-.94-2.06-.94-.94-2.06-.94 2.06-2.06.94z\"/><path d=\"M17.41 7.96l-1.37-1.37c-.4-.4-.92-.59-1.43-.59-.52 0-1.04.2-1.43.59L10.3 9.45l-7.72 7.72c-.78.78-.78 2.05 0 2.83L4 21.41c.39.39.9.59 1.41.59.51 0 1.02-.2 1.41-.59l7.78-7.78 2.81-2.81c.8-.78.8-2.07 0-2.86zM5.41 20L4 18.59l7.72-7.72 1.47 1.35L5.41 20z\"/>\n",
              "  </svg>\n",
              "      </button>\n",
              "      \n",
              "  <style>\n",
              "    .colab-df-container {\n",
              "      display:flex;\n",
              "      flex-wrap:wrap;\n",
              "      gap: 12px;\n",
              "    }\n",
              "\n",
              "    .colab-df-convert {\n",
              "      background-color: #E8F0FE;\n",
              "      border: none;\n",
              "      border-radius: 50%;\n",
              "      cursor: pointer;\n",
              "      display: none;\n",
              "      fill: #1967D2;\n",
              "      height: 32px;\n",
              "      padding: 0 0 0 0;\n",
              "      width: 32px;\n",
              "    }\n",
              "\n",
              "    .colab-df-convert:hover {\n",
              "      background-color: #E2EBFA;\n",
              "      box-shadow: 0px 1px 2px rgba(60, 64, 67, 0.3), 0px 1px 3px 1px rgba(60, 64, 67, 0.15);\n",
              "      fill: #174EA6;\n",
              "    }\n",
              "\n",
              "    [theme=dark] .colab-df-convert {\n",
              "      background-color: #3B4455;\n",
              "      fill: #D2E3FC;\n",
              "    }\n",
              "\n",
              "    [theme=dark] .colab-df-convert:hover {\n",
              "      background-color: #434B5C;\n",
              "      box-shadow: 0px 1px 3px 1px rgba(0, 0, 0, 0.15);\n",
              "      filter: drop-shadow(0px 1px 2px rgba(0, 0, 0, 0.3));\n",
              "      fill: #FFFFFF;\n",
              "    }\n",
              "  </style>\n",
              "\n",
              "      <script>\n",
              "        const buttonEl =\n",
              "          document.querySelector('#df-fe027568-620c-4f92-92f9-1811f5009cb1 button.colab-df-convert');\n",
              "        buttonEl.style.display =\n",
              "          google.colab.kernel.accessAllowed ? 'block' : 'none';\n",
              "\n",
              "        async function convertToInteractive(key) {\n",
              "          const element = document.querySelector('#df-fe027568-620c-4f92-92f9-1811f5009cb1');\n",
              "          const dataTable =\n",
              "            await google.colab.kernel.invokeFunction('convertToInteractive',\n",
              "                                                     [key], {});\n",
              "          if (!dataTable) return;\n",
              "\n",
              "          const docLinkHtml = 'Like what you see? Visit the ' +\n",
              "            '<a target=\"_blank\" href=https://colab.research.google.com/notebooks/data_table.ipynb>data table notebook</a>'\n",
              "            + ' to learn more about interactive tables.';\n",
              "          element.innerHTML = '';\n",
              "          dataTable['output_type'] = 'display_data';\n",
              "          await google.colab.output.renderOutput(dataTable, element);\n",
              "          const docLink = document.createElement('div');\n",
              "          docLink.innerHTML = docLinkHtml;\n",
              "          element.appendChild(docLink);\n",
              "        }\n",
              "      </script>\n",
              "    </div>\n",
              "  </div>\n",
              "  "
            ]
          },
          "metadata": {},
          "execution_count": 10
        }
      ]
    },
    {
      "cell_type": "code",
      "source": [
        "plt.figure(figsize=(10, 5))\n",
        "ax= sns.barplot(x='channelTitle',y='viewCount',data=views_total)\n",
        "plot = ax.set_xticklabels(ax.get_xticklabels(), rotation=90)\n",
        "\n",
        "for p in ax.patches:\n",
        "  ax.annotate(str(p.get_height()), (p.get_x()*1.005, p.get_height()*1.005))\n",
        "\n",
        "plt.show()"
      ],
      "metadata": {
        "colab": {
          "base_uri": "https://localhost:8080/",
          "height": 444
        },
        "id": "Stg9Os8P6DBu",
        "outputId": "4c3fe214-7473-42e2-ae8c-36758f08bb64"
      },
      "execution_count": null,
      "outputs": [
        {
          "output_type": "display_data",
          "data": {
            "text/plain": [
              "<Figure size 720x360 with 1 Axes>"
            ],
            "image/png": "[encoded data removed]"
          },
          "metadata": {
            "needs_background": "light"
          }
        }
      ]
    },
    {
      "cell_type": "markdown",
      "source": [
        "# Longest & Shortest Videos"
      ],
      "metadata": {
        "id": "xYChXuQsK16I"
      }
    },
    {
      "cell_type": "code",
      "source": [
        "df_new = df.groupby('channelTitle')['durationSecs'].agg(['max', 'min']).reset_index()\n",
        "df_new.columns = ['channelTitle', 'max_duration', 'min_duration']"
      ],
      "metadata": {
        "id": "GpnUBY9cM7ak"
      },
      "execution_count": null,
      "outputs": []
    },
    {
      "cell_type": "code",
      "source": [
        "df_new"
      ],
      "metadata": {
        "colab": {
          "base_uri": "https://localhost:8080/",
          "height": 206
        },
        "id": "Pb0J_0v3N-6K",
        "outputId": "2b704054-d543-46dd-a1e9-410598fe5c6f"
      },
      "execution_count": null,
      "outputs": [
        {
          "output_type": "execute_result",
          "data": {
            "text/plain": [
              "         channelTitle  max_duration  min_duration\n",
              "0        Aditya Music       15887.0           0.0\n",
              "1      Saregama Music       42901.0           7.0\n",
              "2  SonyMusicSouthVEVO        1488.0           0.0\n",
              "3            T-Series       32091.0           0.0\n",
              "4   Zee Music Company       22466.0           7.0"
            ],
            "text/html": [
              "\n",
              "  <div id=\"df-2b0c0823-6335-497f-a20c-4f1865137717\">\n",
              "    <div class=\"colab-df-container\">\n",
              "      <div>\n",
              "<style scoped>\n",
              "    .dataframe tbody tr th:only-of-type {\n",
              "        vertical-align: middle;\n",
              "    }\n",
              "\n",
              "    .dataframe tbody tr th {\n",
              "        vertical-align: top;\n",
              "    }\n",
              "\n",
              "    .dataframe thead th {\n",
              "        text-align: right;\n",
              "    }\n",
              "</style>\n",
              "<table border=\"1\" class=\"dataframe\">\n",
              "  <thead>\n",
              "    <tr style=\"text-align: right;\">\n",
              "      <th></th>\n",
              "      <th>channelTitle</th>\n",
              "      <th>max_duration</th>\n",
              "      <th>min_duration</th>\n",
              "    </tr>\n",
              "  </thead>\n",
              "  <tbody>\n",
              "    <tr>\n",
              "      <th>0</th>\n",
              "      <td>Aditya Music</td>\n",
              "      <td>15887.0</td>\n",
              "      <td>0.0</td>\n",
              "    </tr>\n",
              "    <tr>\n",
              "      <th>1</th>\n",
              "      <td>Saregama Music</td>\n",
              "      <td>42901.0</td>\n",
              "      <td>7.0</td>\n",
              "    </tr>\n",
              "    <tr>\n",
              "      <th>2</th>\n",
              "      <td>SonyMusicSouthVEVO</td>\n",
              "      <td>1488.0</td>\n",
              "      <td>0.0</td>\n",
              "    </tr>\n",
              "    <tr>\n",
              "      <th>3</th>\n",
              "      <td>T-Series</td>\n",
              "      <td>32091.0</td>\n",
              "      <td>0.0</td>\n",
              "    </tr>\n",
              "    <tr>\n",
              "      <th>4</th>\n",
              "      <td>Zee Music Company</td>\n",
              "      <td>22466.0</td>\n",
              "      <td>7.0</td>\n",
              "    </tr>\n",
              "  </tbody>\n",
              "</table>\n",
              "</div>\n",
              "      <button class=\"colab-df-convert\" onclick=\"convertToInteractive('df-2b0c0823-6335-497f-a20c-4f1865137717')\"\n",
              "              title=\"Convert this dataframe to an interactive table.\"\n",
              "              style=\"display:none;\">\n",
              "        \n",
              "  <svg xmlns=\"http://www.w3.org/2000/svg\" height=\"24px\"viewBox=\"0 0 24 24\"\n",
              "       width=\"24px\">\n",
              "    <path d=\"M0 0h24v24H0V0z\" fill=\"none\"/>\n",
              "    <path d=\"M18.56 5.44l.94 2.06.94-2.06 2.06-.94-2.06-.94-.94-2.06-.94 2.06-2.06.94zm-11 1L8.5 8.5l.94-2.06 2.06-.94-2.06-.94L8.5 2.5l-.94 2.06-2.06.94zm10 10l.94 2.06.94-2.06 2.06-.94-2.06-.94-.94-2.06-.94 2.06-2.06.94z\"/><path d=\"M17.41 7.96l-1.37-1.37c-.4-.4-.92-.59-1.43-.59-.52 0-1.04.2-1.43.59L10.3 9.45l-7.72 7.72c-.78.78-.78 2.05 0 2.83L4 21.41c.39.39.9.59 1.41.59.51 0 1.02-.2 1.41-.59l7.78-7.78 2.81-2.81c.8-.78.8-2.07 0-2.86zM5.41 20L4 18.59l7.72-7.72 1.47 1.35L5.41 20z\"/>\n",
              "  </svg>\n",
              "      </button>\n",
              "      \n",
              "  <style>\n",
              "    .colab-df-container {\n",
              "      display:flex;\n",
              "      flex-wrap:wrap;\n",
              "      gap: 12px;\n",
              "    }\n",
              "\n",
              "    .colab-df-convert {\n",
              "      background-color: #E8F0FE;\n",
              "      border: none;\n",
              "      border-radius: 50%;\n",
              "      cursor: pointer;\n",
              "      display: none;\n",
              "      fill: #1967D2;\n",
              "      height: 32px;\n",
              "      padding: 0 0 0 0;\n",
              "      width: 32px;\n",
              "    }\n",
              "\n",
              "    .colab-df-convert:hover {\n",
              "      background-color: #E2EBFA;\n",
              "      box-shadow: 0px 1px 2px rgba(60, 64, 67, 0.3), 0px 1px 3px 1px rgba(60, 64, 67, 0.15);\n",
              "      fill: #174EA6;\n",
              "    }\n",
              "\n",
              "    [theme=dark] .colab-df-convert {\n",
              "      background-color: #3B4455;\n",
              "      fill: #D2E3FC;\n",
              "    }\n",
              "\n",
              "    [theme=dark] .colab-df-convert:hover {\n",
              "      background-color: #434B5C;\n",
              "      box-shadow: 0px 1px 3px 1px rgba(0, 0, 0, 0.15);\n",
              "      filter: drop-shadow(0px 1px 2px rgba(0, 0, 0, 0.3));\n",
              "      fill: #FFFFFF;\n",
              "    }\n",
              "  </style>\n",
              "\n",
              "      <script>\n",
              "        const buttonEl =\n",
              "          document.querySelector('#df-2b0c0823-6335-497f-a20c-4f1865137717 button.colab-df-convert');\n",
              "        buttonEl.style.display =\n",
              "          google.colab.kernel.accessAllowed ? 'block' : 'none';\n",
              "\n",
              "        async function convertToInteractive(key) {\n",
              "          const element = document.querySelector('#df-2b0c0823-6335-497f-a20c-4f1865137717');\n",
              "          const dataTable =\n",
              "            await google.colab.kernel.invokeFunction('convertToInteractive',\n",
              "                                                     [key], {});\n",
              "          if (!dataTable) return;\n",
              "\n",
              "          const docLinkHtml = 'Like what you see? Visit the ' +\n",
              "            '<a target=\"_blank\" href=https://colab.research.google.com/notebooks/data_table.ipynb>data table notebook</a>'\n",
              "            + ' to learn more about interactive tables.';\n",
              "          element.innerHTML = '';\n",
              "          dataTable['output_type'] = 'display_data';\n",
              "          await google.colab.output.renderOutput(dataTable, element);\n",
              "          const docLink = document.createElement('div');\n",
              "          docLink.innerHTML = docLinkHtml;\n",
              "          element.appendChild(docLink);\n",
              "        }\n",
              "      </script>\n",
              "    </div>\n",
              "  </div>\n",
              "  "
            ]
          },
          "metadata": {},
          "execution_count": 14
        }
      ]
    },
    {
      "cell_type": "markdown",
      "source": [
        "* Video Duration"
      ],
      "metadata": {
        "id": "B-48sEvhKGto"
      }
    },
    {
      "cell_type": "code",
      "source": [
        "max_of_channel = df.groupby(['channelTitle'])['durationSecs'].max().reset_index()\n",
        "max_of_channel"
      ],
      "metadata": {
        "colab": {
          "base_uri": "https://localhost:8080/",
          "height": 206
        },
        "id": "ZpyxfkUXO3Nb",
        "outputId": "61f3f801-59c8-4f93-a27e-687d862715ed"
      },
      "execution_count": null,
      "outputs": [
        {
          "output_type": "execute_result",
          "data": {
            "text/plain": [
              "         channelTitle  durationSecs\n",
              "0        Aditya Music       15887.0\n",
              "1      Saregama Music       42901.0\n",
              "2  SonyMusicSouthVEVO        1488.0\n",
              "3            T-Series       32091.0\n",
              "4   Zee Music Company       22466.0"
            ],
            "text/html": [
              "\n",
              "  <div id=\"df-079e7262-7c8c-465f-be74-937ad5b2eab4\">\n",
              "    <div class=\"colab-df-container\">\n",
              "      <div>\n",
              "<style scoped>\n",
              "    .dataframe tbody tr th:only-of-type {\n",
              "        vertical-align: middle;\n",
              "    }\n",
              "\n",
              "    .dataframe tbody tr th {\n",
              "        vertical-align: top;\n",
              "    }\n",
              "\n",
              "    .dataframe thead th {\n",
              "        text-align: right;\n",
              "    }\n",
              "</style>\n",
              "<table border=\"1\" class=\"dataframe\">\n",
              "  <thead>\n",
              "    <tr style=\"text-align: right;\">\n",
              "      <th></th>\n",
              "      <th>channelTitle</th>\n",
              "      <th>durationSecs</th>\n",
              "    </tr>\n",
              "  </thead>\n",
              "  <tbody>\n",
              "    <tr>\n",
              "      <th>0</th>\n",
              "      <td>Aditya Music</td>\n",
              "      <td>15887.0</td>\n",
              "    </tr>\n",
              "    <tr>\n",
              "      <th>1</th>\n",
              "      <td>Saregama Music</td>\n",
              "      <td>42901.0</td>\n",
              "    </tr>\n",
              "    <tr>\n",
              "      <th>2</th>\n",
              "      <td>SonyMusicSouthVEVO</td>\n",
              "      <td>1488.0</td>\n",
              "    </tr>\n",
              "    <tr>\n",
              "      <th>3</th>\n",
              "      <td>T-Series</td>\n",
              "      <td>32091.0</td>\n",
              "    </tr>\n",
              "    <tr>\n",
              "      <th>4</th>\n",
              "      <td>Zee Music Company</td>\n",
              "      <td>22466.0</td>\n",
              "    </tr>\n",
              "  </tbody>\n",
              "</table>\n",
              "</div>\n",
              "      <button class=\"colab-df-convert\" onclick=\"convertToInteractive('df-079e7262-7c8c-465f-be74-937ad5b2eab4')\"\n",
              "              title=\"Convert this dataframe to an interactive table.\"\n",
              "              style=\"display:none;\">\n",
              "        \n",
              "  <svg xmlns=\"http://www.w3.org/2000/svg\" height=\"24px\"viewBox=\"0 0 24 24\"\n",
              "       width=\"24px\">\n",
              "    <path d=\"M0 0h24v24H0V0z\" fill=\"none\"/>\n",
              "    <path d=\"M18.56 5.44l.94 2.06.94-2.06 2.06-.94-2.06-.94-.94-2.06-.94 2.06-2.06.94zm-11 1L8.5 8.5l.94-2.06 2.06-.94-2.06-.94L8.5 2.5l-.94 2.06-2.06.94zm10 10l.94 2.06.94-2.06 2.06-.94-2.06-.94-.94-2.06-.94 2.06-2.06.94z\"/><path d=\"M17.41 7.96l-1.37-1.37c-.4-.4-.92-.59-1.43-.59-.52 0-1.04.2-1.43.59L10.3 9.45l-7.72 7.72c-.78.78-.78 2.05 0 2.83L4 21.41c.39.39.9.59 1.41.59.51 0 1.02-.2 1.41-.59l7.78-7.78 2.81-2.81c.8-.78.8-2.07 0-2.86zM5.41 20L4 18.59l7.72-7.72 1.47 1.35L5.41 20z\"/>\n",
              "  </svg>\n",
              "      </button>\n",
              "      \n",
              "  <style>\n",
              "    .colab-df-container {\n",
              "      display:flex;\n",
              "      flex-wrap:wrap;\n",
              "      gap: 12px;\n",
              "    }\n",
              "\n",
              "    .colab-df-convert {\n",
              "      background-color: #E8F0FE;\n",
              "      border: none;\n",
              "      border-radius: 50%;\n",
              "      cursor: pointer;\n",
              "      display: none;\n",
              "      fill: #1967D2;\n",
              "      height: 32px;\n",
              "      padding: 0 0 0 0;\n",
              "      width: 32px;\n",
              "    }\n",
              "\n",
              "    .colab-df-convert:hover {\n",
              "      background-color: #E2EBFA;\n",
              "      box-shadow: 0px 1px 2px rgba(60, 64, 67, 0.3), 0px 1px 3px 1px rgba(60, 64, 67, 0.15);\n",
              "      fill: #174EA6;\n",
              "    }\n",
              "\n",
              "    [theme=dark] .colab-df-convert {\n",
              "      background-color: #3B4455;\n",
              "      fill: #D2E3FC;\n",
              "    }\n",
              "\n",
              "    [theme=dark] .colab-df-convert:hover {\n",
              "      background-color: #434B5C;\n",
              "      box-shadow: 0px 1px 3px 1px rgba(0, 0, 0, 0.15);\n",
              "      filter: drop-shadow(0px 1px 2px rgba(0, 0, 0, 0.3));\n",
              "      fill: #FFFFFF;\n",
              "    }\n",
              "  </style>\n",
              "\n",
              "      <script>\n",
              "        const buttonEl =\n",
              "          document.querySelector('#df-079e7262-7c8c-465f-be74-937ad5b2eab4 button.colab-df-convert');\n",
              "        buttonEl.style.display =\n",
              "          google.colab.kernel.accessAllowed ? 'block' : 'none';\n",
              "\n",
              "        async function convertToInteractive(key) {\n",
              "          const element = document.querySelector('#df-079e7262-7c8c-465f-be74-937ad5b2eab4');\n",
              "          const dataTable =\n",
              "            await google.colab.kernel.invokeFunction('convertToInteractive',\n",
              "                                                     [key], {});\n",
              "          if (!dataTable) return;\n",
              "\n",
              "          const docLinkHtml = 'Like what you see? Visit the ' +\n",
              "            '<a target=\"_blank\" href=https://colab.research.google.com/notebooks/data_table.ipynb>data table notebook</a>'\n",
              "            + ' to learn more about interactive tables.';\n",
              "          element.innerHTML = '';\n",
              "          dataTable['output_type'] = 'display_data';\n",
              "          await google.colab.output.renderOutput(dataTable, element);\n",
              "          const docLink = document.createElement('div');\n",
              "          docLink.innerHTML = docLinkHtml;\n",
              "          element.appendChild(docLink);\n",
              "        }\n",
              "      </script>\n",
              "    </div>\n",
              "  </div>\n",
              "  "
            ]
          },
          "metadata": {},
          "execution_count": 15
        }
      ]
    },
    {
      "cell_type": "code",
      "source": [
        "ax= sns.barplot(x='channelTitle',y='durationSecs', data=max_of_channel)\n",
        "plot = ax.set_xticklabels(ax.get_xticklabels(), rotation=90)"
      ],
      "metadata": {
        "colab": {
          "base_uri": "https://localhost:8080/",
          "height": 379
        },
        "id": "z1M4dAkaGlNJ",
        "outputId": "cb305607-724b-4c0e-967b-2ea5033d9f3b"
      },
      "execution_count": null,
      "outputs": [
        {
          "output_type": "display_data",
          "data": {
            "text/plain": [
              "<Figure size 432x288 with 1 Axes>"
            ],
            "image/png": "[encoded data removed]"
          },
          "metadata": {
            "needs_background": "light"
          }
        }
      ]
    },
    {
      "cell_type": "markdown",
      "source": [
        "# Upload schedule in Weeks"
      ],
      "metadata": {
        "id": "iaA75V4vPcDp"
      }
    },
    {
      "cell_type": "markdown",
      "source": [
        "* Number of videos published on weekdays by all channels"
      ],
      "metadata": {
        "id": "Iy5OkGp-9JPm"
      }
    },
    {
      "cell_type": "code",
      "source": [
        "#Comparison between weekdays\n",
        "day_df = pd.DataFrame(df['publishDayName'].value_counts())\n",
        "weekdays = ['Monday', 'Tuesday', 'Wednesday', 'Thursday', 'Friday', 'Saturday', 'Sunday']\n",
        "day_df = day_df.reindex(weekdays)"
      ],
      "metadata": {
        "id": "1FcuoJqqKiI_"
      },
      "execution_count": null,
      "outputs": []
    },
    {
      "cell_type": "code",
      "source": [
        "fig, ax = plt.subplots(figsize=(10, 6))  # Increase the figure size\n",
        "ax = day_df.reset_index().plot.bar(x='index', y='publishDayName', rot=0, ax=ax)\n",
        "ax.set_xlabel('Day of the week')\n",
        "ax.set_ylabel('Number of videos')\n",
        "ax.set_title('Number of videos published by day of the week by all channels')\n",
        "\n",
        "for p in ax.patches:\n",
        "  ax.annotate(str(p.get_height()),(p.get_x()*1.005, p.get_height()*1.005))\n",
        "\n",
        "plt.show()"
      ],
      "metadata": {
        "colab": {
          "base_uri": "https://localhost:8080/",
          "height": 404
        },
        "id": "qy57r8yGzsHL",
        "outputId": "46b858d9-8934-42f7-c5ac-9f27819288c2"
      },
      "execution_count": null,
      "outputs": [
        {
          "output_type": "display_data",
          "data": {
            "text/plain": [
              "<Figure size 720x432 with 1 Axes>"
            ],
            "image/png": "[encoded data removed]"
          },
          "metadata": {
            "needs_background": "light"
          }
        }
      ]
    },
    {
      "cell_type": "markdown",
      "source": [
        "* Number of videos published by Saregamapa on each weekday"
      ],
      "metadata": {
        "id": "xNMSKyK1856V"
      }
    },
    {
      "cell_type": "code",
      "source": [
        "saregama_df = df[df['channelTitle'] == 'Saregama Music']\n",
        "\n",
        "# Count the number of videos published on each weekday\n",
        "weekdays = ['Monday', 'Tuesday', 'Wednesday', 'Thursday', 'Friday', 'Saturday', 'Sunday']\n",
        "weekday_counts = saregama_df['publishDayName'].value_counts()\n",
        "counts = weekday_counts.reindex(weekdays)\n",
        "counts"
      ],
      "metadata": {
        "colab": {
          "base_uri": "https://localhost:8080/"
        },
        "id": "8rjhU-t-7KQ7",
        "outputId": "8d211a26-d89f-4e8b-ad97-990ec8cb58ef"
      },
      "execution_count": null,
      "outputs": [
        {
          "output_type": "execute_result",
          "data": {
            "text/plain": [
              "Monday        967\n",
              "Tuesday      1041\n",
              "Wednesday    1135\n",
              "Thursday     1153\n",
              "Friday       1137\n",
              "Saturday      695\n",
              "Sunday        657\n",
              "Name: publishDayName, dtype: int64"
            ]
          },
          "metadata": {},
          "execution_count": 57
        }
      ]
    },
    {
      "cell_type": "code",
      "source": [
        "fig, ax = plt.subplots(figsize=(10, 6))\n",
        "ax = counts.plot(kind='bar', ax=ax)\n",
        "ax.set_xlabel('Day of the week')\n",
        "ax.set_ylabel('Number of videos')\n",
        "ax.set_title('Number of videos published by Saregama Music on each weekday')\n",
        "\n",
        "for p in ax.patches:\n",
        "    ax.annotate((p.get_height()), (p.get_x()*1.005, p.get_height()*1.005), fontsize=10)\n",
        "\n",
        "plt.show()"
      ],
      "metadata": {
        "colab": {
          "base_uri": "https://localhost:8080/",
          "height": 452
        },
        "id": "dzhUZe5Y11_W",
        "outputId": "0142cd91-971c-426e-c015-5404242ad866"
      },
      "execution_count": null,
      "outputs": [
        {
          "output_type": "display_data",
          "data": {
            "text/plain": [
              "<Figure size 720x432 with 1 Axes>"
            ],
            "image/png": "[encoded data removed]"
          },
          "metadata": {
            "needs_background": "light"
          }
        }
      ]
    },
    {
      "cell_type": "markdown",
      "source": [
        "* Number of Videos published by remaining channels on Weekdays"
      ],
      "metadata": {
        "id": "k_JvZJy09RtQ"
      }
    },
    {
      "cell_type": "code",
      "source": [
        "channels = ['Aditya Music', 'SonyMusicSouthVEVO', 'T-Series', 'Zee Music Company']\n",
        "fig, axs = plt.subplots(nrows=2, ncols=2, figsize=(12, 8))\n",
        "\n",
        "for i, channel in enumerate(channels):\n",
        "    row = i // 2  # Determine the row index of the subplot\n",
        "    col = i % 2   # Determine the column index of the subplot\n",
        "    ax = axs[row, col]  # Select the current subplot\n",
        "    \n",
        "    channel_df = df[df['channelTitle'] == channel]\n",
        "  \n",
        "    weekday_counts = channel_df['publishDayName'].value_counts()\n",
        "\n",
        "    weekdays = ['Monday', 'Tuesday', 'Wednesday', 'Thursday', 'Friday', 'Saturday', 'Sunday']\n",
        "    weekday_counts = weekday_counts.reindex(weekdays)\n",
        "    \n",
        "    ax.bar(weekday_counts.index, weekday_counts.values)\n",
        "    ax.set_title(channel)\n",
        "    ax.set_ylabel('Number of videos')\n",
        "\n",
        "    for p in ax.patches:\n",
        "      ax.annotate(str(p.get_height()), (p.get_x()*1.005, p.get_height()*1.005), fontsize=10)\n",
        "\n",
        "fig.suptitle('Number of videos published by each channel on each weekday')\n",
        "\n",
        "# Adjust the layout of the subplots to prevent overlapping labels\n",
        "fig.tight_layout()\n",
        "\n",
        "# Show the plot\n",
        "plt.show()"
      ],
      "metadata": {
        "colab": {
          "base_uri": "https://localhost:8080/",
          "height": 585
        },
        "id": "QJ-nZSpg94Rs",
        "outputId": "42196888-90ff-4d45-ff16-2952381e2c3f"
      },
      "execution_count": null,
      "outputs": [
        {
          "output_type": "display_data",
          "data": {
            "text/plain": [
              "<Figure size 864x576 with 4 Axes>"
            ],
            "image/png": "[encoded data removed]"
          },
          "metadata": {
            "needs_background": "light"
          }
        }
      ]
    },
    {
      "cell_type": "markdown",
      "source": [
        "# Upload schedule in Years"
      ],
      "metadata": {
        "id": "pmt5c1ZyCO1k"
      }
    },
    {
      "cell_type": "markdown",
      "source": [
        "* Number of video uploaded in each year by each channel"
      ],
      "metadata": {
        "id": "iQKGmS0cCVv6"
      }
    },
    {
      "cell_type": "code",
      "source": [
        "df['publishYear'].unique()"
      ],
      "metadata": {
        "colab": {
          "base_uri": "https://localhost:8080/"
        },
        "id": "lsl2jIisD7FG",
        "outputId": "f480dc93-e0b4-47c9-e57e-bed9d711b71c"
      },
      "execution_count": null,
      "outputs": [
        {
          "output_type": "execute_result",
          "data": {
            "text/plain": [
              "array([2023, 2022, 2021, 2020, 2019, 2018, 2017, 2016, 2015, 2014, 2013,\n",
              "       2012, 2011, 2010])"
            ]
          },
          "metadata": {},
          "execution_count": 81
        }
      ]
    },
    {
      "cell_type": "code",
      "source": [
        "years_df= pd.DataFrame(df['publishYear'].value_counts())\n",
        "years= [2023, 2022, 2021, 2020, 2019, 2018, 2017, 2016, 2015, 2014, 2013, 2012, 2011, 2010]\n",
        "y=years[::-1]\n",
        "years_df= years_df.reindex(y)\n",
        "years_df"
      ],
      "metadata": {
        "colab": {
          "base_uri": "https://localhost:8080/",
          "height": 488
        },
        "id": "caHYOjRkCVFc",
        "outputId": "b10e9fde-8fc0-4781-8487-addda07fce15"
      },
      "execution_count": null,
      "outputs": [
        {
          "output_type": "execute_result",
          "data": {
            "text/plain": [
              "      publishYear\n",
              "2010            1\n",
              "2011         4145\n",
              "2012          788\n",
              "2013         2297\n",
              "2014         5769\n",
              "2015         5604\n",
              "2016         5329\n",
              "2017         5946\n",
              "2018         4787\n",
              "2019         4968\n",
              "2020         3626\n",
              "2021         5042\n",
              "2022         7988\n",
              "2023         1896"
            ],
            "text/html": [
              "\n",
              "  <div id=\"df-0ea3e4d8-3335-4190-823a-bafa28458857\">\n",
              "    <div class=\"colab-df-container\">\n",
              "      <div>\n",
              "<style scoped>\n",
              "    .dataframe tbody tr th:only-of-type {\n",
              "        vertical-align: middle;\n",
              "    }\n",
              "\n",
              "    .dataframe tbody tr th {\n",
              "        vertical-align: top;\n",
              "    }\n",
              "\n",
              "    .dataframe thead th {\n",
              "        text-align: right;\n",
              "    }\n",
              "</style>\n",
              "<table border=\"1\" class=\"dataframe\">\n",
              "  <thead>\n",
              "    <tr style=\"text-align: right;\">\n",
              "      <th></th>\n",
              "      <th>publishYear</th>\n",
              "    </tr>\n",
              "  </thead>\n",
              "  <tbody>\n",
              "    <tr>\n",
              "      <th>2010</th>\n",
              "      <td>1</td>\n",
              "    </tr>\n",
              "    <tr>\n",
              "      <th>2011</th>\n",
              "      <td>4145</td>\n",
              "    </tr>\n",
              "    <tr>\n",
              "      <th>2012</th>\n",
              "      <td>788</td>\n",
              "    </tr>\n",
              "    <tr>\n",
              "      <th>2013</th>\n",
              "      <td>2297</td>\n",
              "    </tr>\n",
              "    <tr>\n",
              "      <th>2014</th>\n",
              "      <td>5769</td>\n",
              "    </tr>\n",
              "    <tr>\n",
              "      <th>2015</th>\n",
              "      <td>5604</td>\n",
              "    </tr>\n",
              "    <tr>\n",
              "      <th>2016</th>\n",
              "      <td>5329</td>\n",
              "    </tr>\n",
              "    <tr>\n",
              "      <th>2017</th>\n",
              "      <td>5946</td>\n",
              "    </tr>\n",
              "    <tr>\n",
              "      <th>2018</th>\n",
              "      <td>4787</td>\n",
              "    </tr>\n",
              "    <tr>\n",
              "      <th>2019</th>\n",
              "      <td>4968</td>\n",
              "    </tr>\n",
              "    <tr>\n",
              "      <th>2020</th>\n",
              "      <td>3626</td>\n",
              "    </tr>\n",
              "    <tr>\n",
              "      <th>2021</th>\n",
              "      <td>5042</td>\n",
              "    </tr>\n",
              "    <tr>\n",
              "      <th>2022</th>\n",
              "      <td>7988</td>\n",
              "    </tr>\n",
              "    <tr>\n",
              "      <th>2023</th>\n",
              "      <td>1896</td>\n",
              "    </tr>\n",
              "  </tbody>\n",
              "</table>\n",
              "</div>\n",
              "      <button class=\"colab-df-convert\" onclick=\"convertToInteractive('df-0ea3e4d8-3335-4190-823a-bafa28458857')\"\n",
              "              title=\"Convert this dataframe to an interactive table.\"\n",
              "              style=\"display:none;\">\n",
              "        \n",
              "  <svg xmlns=\"http://www.w3.org/2000/svg\" height=\"24px\"viewBox=\"0 0 24 24\"\n",
              "       width=\"24px\">\n",
              "    <path d=\"M0 0h24v24H0V0z\" fill=\"none\"/>\n",
              "    <path d=\"M18.56 5.44l.94 2.06.94-2.06 2.06-.94-2.06-.94-.94-2.06-.94 2.06-2.06.94zm-11 1L8.5 8.5l.94-2.06 2.06-.94-2.06-.94L8.5 2.5l-.94 2.06-2.06.94zm10 10l.94 2.06.94-2.06 2.06-.94-2.06-.94-.94-2.06-.94 2.06-2.06.94z\"/><path d=\"M17.41 7.96l-1.37-1.37c-.4-.4-.92-.59-1.43-.59-.52 0-1.04.2-1.43.59L10.3 9.45l-7.72 7.72c-.78.78-.78 2.05 0 2.83L4 21.41c.39.39.9.59 1.41.59.51 0 1.02-.2 1.41-.59l7.78-7.78 2.81-2.81c.8-.78.8-2.07 0-2.86zM5.41 20L4 18.59l7.72-7.72 1.47 1.35L5.41 20z\"/>\n",
              "  </svg>\n",
              "      </button>\n",
              "      \n",
              "  <style>\n",
              "    .colab-df-container {\n",
              "      display:flex;\n",
              "      flex-wrap:wrap;\n",
              "      gap: 12px;\n",
              "    }\n",
              "\n",
              "    .colab-df-convert {\n",
              "      background-color: #E8F0FE;\n",
              "      border: none;\n",
              "      border-radius: 50%;\n",
              "      cursor: pointer;\n",
              "      display: none;\n",
              "      fill: #1967D2;\n",
              "      height: 32px;\n",
              "      padding: 0 0 0 0;\n",
              "      width: 32px;\n",
              "    }\n",
              "\n",
              "    .colab-df-convert:hover {\n",
              "      background-color: #E2EBFA;\n",
              "      box-shadow: 0px 1px 2px rgba(60, 64, 67, 0.3), 0px 1px 3px 1px rgba(60, 64, 67, 0.15);\n",
              "      fill: #174EA6;\n",
              "    }\n",
              "\n",
              "    [theme=dark] .colab-df-convert {\n",
              "      background-color: #3B4455;\n",
              "      fill: #D2E3FC;\n",
              "    }\n",
              "\n",
              "    [theme=dark] .colab-df-convert:hover {\n",
              "      background-color: #434B5C;\n",
              "      box-shadow: 0px 1px 3px 1px rgba(0, 0, 0, 0.15);\n",
              "      filter: drop-shadow(0px 1px 2px rgba(0, 0, 0, 0.3));\n",
              "      fill: #FFFFFF;\n",
              "    }\n",
              "  </style>\n",
              "\n",
              "      <script>\n",
              "        const buttonEl =\n",
              "          document.querySelector('#df-0ea3e4d8-3335-4190-823a-bafa28458857 button.colab-df-convert');\n",
              "        buttonEl.style.display =\n",
              "          google.colab.kernel.accessAllowed ? 'block' : 'none';\n",
              "\n",
              "        async function convertToInteractive(key) {\n",
              "          const element = document.querySelector('#df-0ea3e4d8-3335-4190-823a-bafa28458857');\n",
              "          const dataTable =\n",
              "            await google.colab.kernel.invokeFunction('convertToInteractive',\n",
              "                                                     [key], {});\n",
              "          if (!dataTable) return;\n",
              "\n",
              "          const docLinkHtml = 'Like what you see? Visit the ' +\n",
              "            '<a target=\"_blank\" href=https://colab.research.google.com/notebooks/data_table.ipynb>data table notebook</a>'\n",
              "            + ' to learn more about interactive tables.';\n",
              "          element.innerHTML = '';\n",
              "          dataTable['output_type'] = 'display_data';\n",
              "          await google.colab.output.renderOutput(dataTable, element);\n",
              "          const docLink = document.createElement('div');\n",
              "          docLink.innerHTML = docLinkHtml;\n",
              "          element.appendChild(docLink);\n",
              "        }\n",
              "      </script>\n",
              "    </div>\n",
              "  </div>\n",
              "  "
            ]
          },
          "metadata": {},
          "execution_count": 94
        }
      ]
    },
    {
      "cell_type": "code",
      "source": [
        "fig, ax= plt.subplots(figsize=(10,6))\n",
        "ax= years_df.reset_index().plot.bar(x='index',y='publishYear',rot=0,ax=ax)\n",
        "ax.set_xlabel('Years')\n",
        "ax.set_ylabel('Number of videos')\n",
        "ax.set_title('Number of videos uploaded in each year by all channels')\n",
        "\n",
        "for p in ax.patches:\n",
        "  ax.annotate(str(p.get_height()),(p.get_x()*1.005,p.get_height()*1.005))\n",
        "\n",
        "plt.show()"
      ],
      "metadata": {
        "colab": {
          "base_uri": "https://localhost:8080/",
          "height": 404
        },
        "id": "xA0X5p7HCIg-",
        "outputId": "7fbd0b58-371d-4d6d-8d2b-0c5fafc65399"
      },
      "execution_count": null,
      "outputs": [
        {
          "output_type": "display_data",
          "data": {
            "text/plain": [
              "<Figure size 720x432 with 1 Axes>"
            ],
            "image/png": "[encoded data removed]"
          },
          "metadata": {
            "needs_background": "light"
          }
        }
      ]
    },
    {
      "cell_type": "markdown",
      "source": [
        "* Number of videos per year by Saregama Music"
      ],
      "metadata": {
        "id": "1zZlDdCyHXVY"
      }
    },
    {
      "cell_type": "code",
      "source": [
        "saregama_year= df[df['channelTitle']=='Saregama Music']\n",
        "years_count= saregama_year['publishYear'].value_counts()\n",
        "counts= years_count.reindex(y)\n",
        "counts"
      ],
      "metadata": {
        "colab": {
          "base_uri": "https://localhost:8080/"
        },
        "id": "MHc-CmjXGHxA",
        "outputId": "f645727a-61b8-480a-a73f-1100efcb72ac"
      },
      "execution_count": null,
      "outputs": [
        {
          "output_type": "execute_result",
          "data": {
            "text/plain": [
              "2010       NaN\n",
              "2011       NaN\n",
              "2012       NaN\n",
              "2013     166.0\n",
              "2014     293.0\n",
              "2015     157.0\n",
              "2016     199.0\n",
              "2017     921.0\n",
              "2018     470.0\n",
              "2019    1121.0\n",
              "2020     845.0\n",
              "2021     947.0\n",
              "2022    1442.0\n",
              "2023     224.0\n",
              "Name: publishYear, dtype: float64"
            ]
          },
          "metadata": {},
          "execution_count": 100
        }
      ]
    },
    {
      "cell_type": "code",
      "source": [
        "fig, ax= plt.subplots(figsize=(10,6))\n",
        "ax= counts.plot(kind='bar',ax=ax)\n",
        "ax.set_xlabel(\"Year\")\n",
        "ax.set_ylabel(\"Number of videos\")\n",
        "ax.set_title(\"Number of videos per year by Saregama Music\")\n",
        "\n",
        "for p in ax.patches:\n",
        "  ax.annotate(str(p.get_height()),(p.get_x()*1.005,p.get_height()*1.005))\n",
        "\n",
        "plt.show()"
      ],
      "metadata": {
        "colab": {
          "base_uri": "https://localhost:8080/",
          "height": 419
        },
        "id": "vC4vGW0tJouW",
        "outputId": "56baddfd-c795-4eb8-ced6-772481ec4960"
      },
      "execution_count": null,
      "outputs": [
        {
          "output_type": "display_data",
          "data": {
            "text/plain": [
              "<Figure size 720x432 with 1 Axes>"
            ],
            "image/png": "[encoded data removed]"
          },
          "metadata": {
            "needs_background": "light"
          }
        }
      ]
    },
    {
      "cell_type": "markdown",
      "source": [
        "* Number of videos uploaded by each channel per year"
      ],
      "metadata": {
        "id": "WsR4Yu02Kqc6"
      }
    },
    {
      "cell_type": "code",
      "source": [
        "channels = ['Aditya Music', 'SonyMusicSouthVEVO', 'T-Series', 'Zee Music Company']\n",
        "fig, axs = plt.subplots(nrows=2, ncols=2, figsize=(15,8))\n",
        "\n",
        "for i, channel in enumerate(channels):\n",
        "    row = i // 2  # Determine the row index of the subplot\n",
        "    col = i % 2   # Determine the column index of the subplot\n",
        "    ax = axs[row, col]  # Select the current subplot\n",
        "    \n",
        "    channel_df = df[df['channelTitle'] == channel]\n",
        "  \n",
        "    year_counts = channel_df['publishYear'].value_counts()\n",
        "\n",
        "    y= [2010, 2011, 2012, 2013, 2014, 2015, 2016, 2017, 2018, 2019, 2020, 2021, 2022, 2023]\n",
        "    counts = year_counts.reindex(y)\n",
        "    \n",
        "    ax.bar(counts.index, counts.values)\n",
        "    ax.set_title(channel)\n",
        "    ax.set_ylabel('Number of videos')\n",
        "\n",
        "fig.suptitle('Number of videos published by each channel on each weekday')\n",
        "\n",
        "# Adjust the layout of the subplots to prevent overlapping labels\n",
        "fig.tight_layout()\n",
        "\n",
        "# Show the plot\n",
        "plt.show()"
      ],
      "metadata": {
        "colab": {
          "base_uri": "https://localhost:8080/",
          "height": 585
        },
        "id": "J8bQOgv5Kfhq",
        "outputId": "5be47954-d0be-4dba-cb54-9574cf46502e"
      },
      "execution_count": null,
      "outputs": [
        {
          "output_type": "display_data",
          "data": {
            "text/plain": [
              "<Figure size 1080x576 with 4 Axes>"
            ],
            "image/png": "[encoded data removed]"
          },
          "metadata": {
            "needs_background": "light"
          }
        }
      ]
    },
    {
      "cell_type": "markdown",
      "source": [
        "# Distibutions"
      ],
      "metadata": {
        "id": "iNAyDupiQz9q"
      }
    },
    {
      "cell_type": "markdown",
      "source": [
        "* Views vs. likes & comments"
      ],
      "metadata": {
        "id": "_xcYZnT5Q7qd"
      }
    },
    {
      "cell_type": "code",
      "source": [
        "fig, ax= plt.subplots(1,2)\n",
        "sns.scatterplot(data=df, x='commentCount',y='viewCount',ax=ax[0])\n",
        "sns.scatterplot(data=df, x='likeCount',y='viewCount',ax=ax[1])"
      ],
      "metadata": {
        "id": "vojBFiKqM4Uz",
        "colab": {
          "base_uri": "https://localhost:8080/",
          "height": 307
        },
        "outputId": "d396fdca-b5f4-4860-8a33-000786f38bb3"
      },
      "execution_count": null,
      "outputs": [
        {
          "output_type": "execute_result",
          "data": {
            "text/plain": [
              "<AxesSubplot:xlabel='likeCount', ylabel='viewCount'>"
            ]
          },
          "metadata": {},
          "execution_count": 117
        },
        {
          "output_type": "display_data",
          "data": {
            "text/plain": [
              "<Figure size 432x288 with 2 Axes>"
            ],
            "image/png": "[encoded data removed]"
          },
          "metadata": {
            "needs_background": "light"
          }
        }
      ]
    },
    {
      "cell_type": "markdown",
      "source": [
        "No of tags vs views"
      ],
      "metadata": {
        "id": "71mSDL0pRHkV"
      }
    },
    {
      "cell_type": "code",
      "source": [
        "sns.scatterplot(data = df, x = \"tagcount\", y = \"viewCount\")"
      ],
      "metadata": {
        "colab": {
          "base_uri": "https://localhost:8080/",
          "height": 307
        },
        "id": "t_msOSsdQ-zZ",
        "outputId": "611937d9-ca4f-41e7-905c-6e35339b6362"
      },
      "execution_count": null,
      "outputs": [
        {
          "output_type": "execute_result",
          "data": {
            "text/plain": [
              "<AxesSubplot:xlabel='tagcount', ylabel='viewCount'>"
            ]
          },
          "metadata": {},
          "execution_count": 121
        },
        {
          "output_type": "display_data",
          "data": {
            "text/plain": [
              "<Figure size 432x288 with 1 Axes>"
            ],
            "image/png": "[encoded data removed]"
          },
          "metadata": {
            "needs_background": "light"
          }
        }
      ]
    },
    {
      "cell_type": "markdown",
      "source": [
        "#Observations"
      ],
      "metadata": {
        "id": "1mubEE9TZ73W"
      }
    },
    {
      "cell_type": "markdown",
      "source": [
        "1. While it's important to note that correlation doesn't necessarily imply causation, our analysis suggests that there is a positive relationship between the number of likes and comments a music video receives and the number of views it attracts on YouTube. Furthermore, likes appear to be a stronger indicator of viewer engagement than comments. Additionally, our findings indicate that the \"social proof\" phenomenon may be at play, as the number of likes on a video tends to increase as the number of views grows, potentially driving further engagement and viewership.\n",
        "\n",
        "2. Among first 5 best videos of all the channels, 4 of them are from \"T-Series\" channel.\n",
        "\n",
        "3. T-Series and Zee Music Company were the top 2 in maximum views count per individual channels.\n",
        "\n",
        "4. SonyMusic has the lowest weekly frequency of content uploads compared to the other channels.\n",
        "\n",
        "5. The number of videos uploaded by all channels in 2022 has significantly increased compared to other years, with a rise of 34%.\n",
        "\n",
        "6. Most videos have between 5 and 10 tags.\n",
        "\n",
        "7. Zee Music Company is increasing its total number of videos year by year.\n",
        "\n",
        "8. Despite the popularity of the music channels analyzed, a significant number of videos on these channels have not garnered any views or likes, indicated by a count of 0. This suggests that while certain videos on these channels are highly successful, others may struggle to attract engagement or visibility\n",
        "\n",
        "9. Videos are usually uploaded on Mondays and Fridays. Weekends and Sunday in particular is not a popular time for posting new videos.\n",
        "\n"
      ],
      "metadata": {
        "id": "okLbuI_2aAhB"
      }
    },
    {
      "cell_type": "markdown",
      "source": [
        "# Conclusion"
      ],
      "metadata": {
        "id": "AmZiBO7_Ypmz"
      }
    },
    {
      "cell_type": "markdown",
      "source": [
        "* In this project, I have explored the video data of the 5 most popular music channels and revealed many interesting findings on how our analysis of the popular music YouTube channels, including 'Aditya Music', 'SonyMusicSouthVEVO', 'T-Series', 'Saregama Music', and 'Zee Music Company', revealed that various video metrics, such as views count, duration, upload schedule, likes, comments, number of tags, and upload frequency, significantly impact the performance of music videos.\n",
        "* By visualizing and comparing the best and worst-performing videos, as well as examining the impact of upload schedules in weeks and years, we were able to identify key factors that influence video views.\n",
        "* The findings can inform content creators and marketers on the importance of optimizing these metrics to increase video performance and reach a wider audience on YouTube."
      ],
      "metadata": {
        "id": "fRD_GrWLYywX"
      }
    }
  ]
}