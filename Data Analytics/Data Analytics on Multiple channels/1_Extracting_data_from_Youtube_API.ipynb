{
  "nbformat": 4,
  "nbformat_minor": 0,
  "metadata": {
    "colab": {
      "provenance": [],
      "collapsed_sections": [
        "Hiy0dK0WcGr8"
      ]
    },
    "kernelspec": {
      "name": "python3",
      "display_name": "Python 3"
    },
    "language_info": {
      "name": "python"
    }
  },
  "cells": [
    {
      "cell_type": "markdown",
      "source": [
        "# Aim and Objective"
      ],
      "metadata": {
        "id": "Hiy0dK0WcGr8"
      }
    },
    {
      "cell_type": "markdown",
      "source": [
        "* Getting to know Youtube API and how to obtain video data.\n",
        "* Analyzing video data and verify different common \"myths\" about what makes a video do well on Youtube, for example:\n",
        "* Does the number of likes and comments matter for a video to get more views?\n",
        "* Does the video duration matter for views and interaction (likes/ comments)?\n",
        "* To Analyze the video metrics such as views, duration, upload schedule, likes, comments, tags, and upload frequency for popular music channels ('Aditya Music', 'SonyMusicSouthVEVO', 'T-Series', 'Saregama Music', and 'Zee Music Company') to determine their impact on video performance.\n",
        "* To visualized and compared best/worst and shortest/longest performing videos and examined weekly/yearly upload schedules to identify how these metrics affect views.\n",
        "\n"
      ],
      "metadata": {
        "id": "fuqrImPIcvbK"
      }
    },
    {
      "cell_type": "markdown",
      "source": [
        "# Steps:\n",
        "1. Data Extraction using Youtube API\n",
        "2. Data Preprocessing\n",
        "3. Feature Selection and Adding additional features\n",
        "4. Exploratory Data Analysis\n",
        "5. Observations & Conclusions"
      ],
      "metadata": {
        "id": "wV_NSdlmdlV7"
      }
    },
    {
      "cell_type": "markdown",
      "source": [
        "# Dataset"
      ],
      "metadata": {
        "id": "-Q_eMJ4FeYPf"
      }
    },
    {
      "cell_type": "markdown",
      "source": [
        "In regards to music channels, I discovered that there are not many available datasets online that are suitable for this project.\n",
        "\n",
        "* collected data from the following music channels: 'Aditya Music', 'SonyMusicSouthVEVO', 'T-Series', 'Saregama Music', and 'Zee Music Company'. The parameters that I included in my data collection were 'channelTitle', 'title', 'tags', 'publishedAt', 'viewCount', 'likeCount', 'commentCount', 'duration', 'tagcount', 'publishDayName', 'durationSecs', and 'publishYear'.\n",
        "* I created my own dataset using the [Google Youtube Data API version 3.0](https://developers.google.com/youtube/v3)"
      ],
      "metadata": {
        "id": "xSxy2NwWe1gB"
      }
    },
    {
      "cell_type": "markdown",
      "source": [
        "#Code"
      ],
      "metadata": {
        "id": "e0b11KMWhEsn"
      }
    },
    {
      "cell_type": "code",
      "source": [
        "from googleapiclient.discovery import build\n",
        "import pandas as pd\n",
        "from IPython.display import JSON\n",
        "\n",
        "import seaborn as sns"
      ],
      "metadata": {
        "id": "cf-6bfXQbPUj"
      },
      "execution_count": null,
      "outputs": []
    },
    {
      "cell_type": "code",
      "source": [
        "api_key='My Youtube API key'"
      ],
      "metadata": {
        "id": "P12DBWqo31-M"
      },
      "execution_count": null,
      "outputs": []
    },
    {
      "cell_type": "code",
      "source": [
        "channel_id= ['UC_A7K2dXFsTMAciGmnNxy-Q', #Saregama Music\n",
        "             'UCq-Fj5jknLsUf-MWSy4_brA', #T-series\n",
        "             'UCTNtRdBAiZtHP9w7JinzfUg', #SonyMusicSouth\n",
        "             'UCNApqoVYJbYSrni4YsbXzyQ', #Aditya Music\n",
        "             'UCFFbwnve3yF62-tVXkTyHqg'  #Zee Music\n",
        "             ] "
      ],
      "metadata": {
        "id": "skV3zmFpV9S6"
      },
      "execution_count": null,
      "outputs": []
    },
    {
      "cell_type": "code",
      "source": [
        "api_service_name = \"youtube\"\n",
        "api_version = \"v3\"\n",
        "\n",
        "\n",
        "# Get credentials and create an API client\n",
        "youtube = build(\n",
        "    api_service_name, api_version, developerKey=api_key)"
      ],
      "metadata": {
        "id": "NSqOUUoubBLW"
      },
      "execution_count": null,
      "outputs": []
    },
    {
      "cell_type": "code",
      "source": [
        "request= youtube.channels().list(\n",
        "      part=\"snippet,contentDetails,statistics\",\n",
        "      id=','.join(channel_id)\n",
        "  )\n",
        "response= request.execute()\n",
        "\n",
        "JSON(response)"
      ],
      "metadata": {
        "colab": {
          "base_uri": "https://localhost:8080/",
          "height": 35
        },
        "id": "CcKz76WEbNqX",
        "outputId": "c747de74-a8df-4463-d0b1-1a220ae9cf4a"
      },
      "execution_count": null,
      "outputs": [
        {
          "output_type": "execute_result",
          "data": {
            "text/plain": [
              "<IPython.core.display.JSON object>"
            ],
            "application/json": {
              "kind": "youtube#channelListResponse",
              "etag": "fhTj9VOFGRDOveJi4MLGVixX3yU",
              "pageInfo": {
                "totalResults": 5,
                "resultsPerPage": 5
              },
              "items": [
                {
                  "kind": "youtube#channel",
                  "etag": "CHhO8gituHe_NS89N79bHHZemp0",
                  "id": "UCq-Fj5jknLsUf-MWSy4_brA",
                  "snippet": {
                    "title": "T-Series",
                    "description": "\"Music can change the world\". T-Series is India's largest Music Label & Movie Studio, believes in bringing world close together through its music.\nT-Series is associated with music industry from past three decades, having ample catalogue of music comprising plenty of languages that covers the length & breadth of India. We believe after silence, nearest to expressing the inexpressible is Music. So, all the music lovers who believe in magic of music come join us and live the magic of music with T-Series.",
                    "customUrl": "@tseries",
                    "publishedAt": "2006-03-13T14:27:05Z",
                    "thumbnails": {
                      "default": {
                        "url": "https://yt3.ggpht.com/v_PwNTRdcmpaEU6zh9wytm0ERtq2BOAmBQvr1QyZstphlpcPUqjbX3wqIvSRR9bWIgSjmRUJcwE=s88-c-k-c0x00ffffff-no-rj",
                        "width": 88,
                        "height": 88
                      },
                      "medium": {
                        "url": "https://yt3.ggpht.com/v_PwNTRdcmpaEU6zh9wytm0ERtq2BOAmBQvr1QyZstphlpcPUqjbX3wqIvSRR9bWIgSjmRUJcwE=s240-c-k-c0x00ffffff-no-rj",
                        "width": 240,
                        "height": 240
                      },
                      "high": {
                        "url": "https://yt3.ggpht.com/v_PwNTRdcmpaEU6zh9wytm0ERtq2BOAmBQvr1QyZstphlpcPUqjbX3wqIvSRR9bWIgSjmRUJcwE=s800-c-k-c0x00ffffff-no-rj",
                        "width": 800,
                        "height": 800
                      }
                    },
                    "localized": {
                      "title": "T-Series",
                      "description": "\"Music can change the world\". T-Series is India's largest Music Label & Movie Studio, believes in bringing world close together through its music.\nT-Series is associated with music industry from past three decades, having ample catalogue of music comprising plenty of languages that covers the length & breadth of India. We believe after silence, nearest to expressing the inexpressible is Music. So, all the music lovers who believe in magic of music come join us and live the magic of music with T-Series."
                    },
                    "country": "IN"
                  },
                  "contentDetails": {
                    "relatedPlaylists": {
                      "likes": "",
                      "uploads": "UUq-Fj5jknLsUf-MWSy4_brA"
                    }
                  },
                  "statistics": {
                    "viewCount": "216384586962",
                    "subscriberCount": "236000000",
                    "hiddenSubscriberCount": false,
                    "videoCount": "18820"
                  }
                },
                {
                  "kind": "youtube#channel",
                  "etag": "GT91c7u467oW4tDP9isbQDSKoVo",
                  "id": "UCTNtRdBAiZtHP9w7JinzfUg",
                  "snippet": {
                    "title": "SonyMusicSouthVEVO",
                    "description": "The official VEVO channel of Sony Music Entertainment India for all the music videos released in Tamil, Telugu , Malayalam & Kannada. SonyMusicSouthVEVO is the biggest and the best destination for all the popular and latest music videos - From Love to Kuthu, the best of music is right here at your fingertips! ",
                    "customUrl": "@sonymusicsouthvevo",
                    "publishedAt": "2014-07-14T18:07:20Z",
                    "thumbnails": {
                      "default": {
                        "url": "https://yt3.ggpht.com/ytc/AL5GRJXSOfxa2Lht5TBKHH5ouvtMV_CM9YSrfX4-qE8New=s88-c-k-c0x00ffffff-no-rj",
                        "width": 88,
                        "height": 88
                      },
                      "medium": {
                        "url": "https://yt3.ggpht.com/ytc/AL5GRJXSOfxa2Lht5TBKHH5ouvtMV_CM9YSrfX4-qE8New=s240-c-k-c0x00ffffff-no-rj",
                        "width": 240,
                        "height": 240
                      },
                      "high": {
                        "url": "https://yt3.ggpht.com/ytc/AL5GRJXSOfxa2Lht5TBKHH5ouvtMV_CM9YSrfX4-qE8New=s800-c-k-c0x00ffffff-no-rj",
                        "width": 800,
                        "height": 800
                      }
                    },
                    "defaultLanguage": "en",
                    "localized": {
                      "title": "SonyMusicSouthVEVO",
                      "description": "The official VEVO channel of Sony Music Entertainment India for all the music videos released in Tamil, Telugu , Malayalam & Kannada. SonyMusicSouthVEVO is the biggest and the best destination for all the popular and latest music videos - From Love to Kuthu, the best of music is right here at your fingertips! "
                    }
                  },
                  "contentDetails": {
                    "relatedPlaylists": {
                      "likes": "",
                      "uploads": "UUTNtRdBAiZtHP9w7JinzfUg"
                    }
                  },
                  "statistics": {
                    "viewCount": "16758221652",
                    "subscriberCount": "17400000",
                    "hiddenSubscriberCount": false,
                    "videoCount": "5452"
                  }
                },
                {
                  "kind": "youtube#channel",
                  "etag": "vl6QNsq5XC2AS2UD3TEo_R7PrVs",
                  "id": "UC_A7K2dXFsTMAciGmnNxy-Q",
                  "snippet": {
                    "title": "Saregama Music",
                    "description": "The proud history of Saregama (an RPSG group company) stretches back over a century to 1901. Formerly known as The Gramophone Company of India Ltd. and more popularly as HMV (His Master's Voice), Saregama was established as the first overseas Indian Branch of Electrical & Musical Industries Limited (EMI), London. From producing the first song recorded in India in 1902 by the star of yesteryears, Gauhar Jan, to creating strong inroads into the production of cinema and television content, digital retailing, aggregation, radio programming and events, Saregama has evolved into one of India's premier entertainment content companies.\n\nसारेगामा भारत की पहली संगीत कंपनी है, और हमारे कोष में इस देश के सबसे प्रतिष्ठित संगीत का भण्डार है. फिल्मों की शुरुआत से लेकर आज तक के सबसे मशहूर गानों का संग्रह यहीें पर पेश है. यहां पर मिलेंगी आपको सबसे मधुर और गेय गानों का खज़ाना. लता मंगेशकर, मोहम्मद रफ़ी, सैगल साब, किशोर कुमार, इनके सबसे बेहतरीन गाने यहीं पर पेश हैं.",
                    "customUrl": "@saregamamusic",
                    "publishedAt": "2013-01-04T10:53:12Z",
                    "thumbnails": {
                      "default": {
                        "url": "https://yt3.ggpht.com/dxED1O-r5cRS73JBlUk4VS3pZHDfiHcuRjRbFMcf6KgYhxP4NUlD7x0h4TR1XTXkl-JGjTPTYQ=s88-c-k-c0x00ffffff-no-rj",
                        "width": 88,
                        "height": 88
                      },
                      "medium": {
                        "url": "https://yt3.ggpht.com/dxED1O-r5cRS73JBlUk4VS3pZHDfiHcuRjRbFMcf6KgYhxP4NUlD7x0h4TR1XTXkl-JGjTPTYQ=s240-c-k-c0x00ffffff-no-rj",
                        "width": 240,
                        "height": 240
                      },
                      "high": {
                        "url": "https://yt3.ggpht.com/dxED1O-r5cRS73JBlUk4VS3pZHDfiHcuRjRbFMcf6KgYhxP4NUlD7x0h4TR1XTXkl-JGjTPTYQ=s800-c-k-c0x00ffffff-no-rj",
                        "width": 800,
                        "height": 800
                      }
                    },
                    "localized": {
                      "title": "Saregama Music",
                      "description": "The proud history of Saregama (an RPSG group company) stretches back over a century to 1901. Formerly known as The Gramophone Company of India Ltd. and more popularly as HMV (His Master's Voice), Saregama was established as the first overseas Indian Branch of Electrical & Musical Industries Limited (EMI), London. From producing the first song recorded in India in 1902 by the star of yesteryears, Gauhar Jan, to creating strong inroads into the production of cinema and television content, digital retailing, aggregation, radio programming and events, Saregama has evolved into one of India's premier entertainment content companies.\n\nसारेगामा भारत की पहली संगीत कंपनी है, और हमारे कोष में इस देश के सबसे प्रतिष्ठित संगीत का भण्डार है. फिल्मों की शुरुआत से लेकर आज तक के सबसे मशहूर गानों का संग्रह यहीें पर पेश है. यहां पर मिलेंगी आपको सबसे मधुर और गेय गानों का खज़ाना. लता मंगेशकर, मोहम्मद रफ़ी, सैगल साब, किशोर कुमार, इनके सबसे बेहतरीन गाने यहीं पर पेश हैं."
                    },
                    "country": "IN"
                  },
                  "contentDetails": {
                    "relatedPlaylists": {
                      "likes": "",
                      "uploads": "UU_A7K2dXFsTMAciGmnNxy-Q"
                    }
                  },
                  "statistics": {
                    "viewCount": "13891908009",
                    "subscriberCount": "32500000",
                    "hiddenSubscriberCount": false,
                    "videoCount": "6787"
                  }
                },
                {
                  "kind": "youtube#channel",
                  "etag": "20VzFeq6mowl03_IKtzXCVUmtuQ",
                  "id": "UCFFbwnve3yF62-tVXkTyHqg",
                  "snippet": {
                    "title": "Zee Music Company",
                    "description": "Zee Music Company is part of India's leading television media and entertainment companies. It is amongst the largest producers and aggregators of Hindi programming in the world, with an extensive library housing over 222,000 hours of television content along with a strong presence in over 171 countries and a total viewership of 1 Billion plus people around the globe. Our Library has rights to more than 3,818 movie titles from premiere studios featuring iconic film stars, ZEEL houses the world’s largest Hindi film library.\n\nZee Music Company\nFacebook - https://www.facebook.com/zeemusiccompany\nTwitter - https://twitter.com/ZeeMusicCompany",
                    "customUrl": "@zeemusiccompany",
                    "publishedAt": "2014-03-12T11:59:25Z",
                    "thumbnails": {
                      "default": {
                        "url": "https://yt3.ggpht.com/EEGERwlaKJd27zSEPQF3d__-tPyppIgFfKvNfBkWa7ssMKBWqQUbuCTLe-kAnTB1r6kJQVxyxwY=s88-c-k-c0x00ffffff-no-rj",
                        "width": 88,
                        "height": 88
                      },
                      "medium": {
                        "url": "https://yt3.ggpht.com/EEGERwlaKJd27zSEPQF3d__-tPyppIgFfKvNfBkWa7ssMKBWqQUbuCTLe-kAnTB1r6kJQVxyxwY=s240-c-k-c0x00ffffff-no-rj",
                        "width": 240,
                        "height": 240
                      },
                      "high": {
                        "url": "https://yt3.ggpht.com/EEGERwlaKJd27zSEPQF3d__-tPyppIgFfKvNfBkWa7ssMKBWqQUbuCTLe-kAnTB1r6kJQVxyxwY=s800-c-k-c0x00ffffff-no-rj",
                        "width": 800,
                        "height": 800
                      }
                    },
                    "localized": {
                      "title": "Zee Music Company",
                      "description": "Zee Music Company is part of India's leading television media and entertainment companies. It is amongst the largest producers and aggregators of Hindi programming in the world, with an extensive library housing over 222,000 hours of television content along with a strong presence in over 171 countries and a total viewership of 1 Billion plus people around the globe. Our Library has rights to more than 3,818 movie titles from premiere studios featuring iconic film stars, ZEEL houses the world’s largest Hindi film library.\n\nZee Music Company\nFacebook - https://www.facebook.com/zeemusiccompany\nTwitter - https://twitter.com/ZeeMusicCompany"
                    },
                    "country": "IN"
                  },
                  "contentDetails": {
                    "relatedPlaylists": {
                      "likes": "",
                      "uploads": "UUFFbwnve3yF62-tVXkTyHqg"
                    }
                  },
                  "statistics": {
                    "viewCount": "54244222583",
                    "subscriberCount": "92700000",
                    "hiddenSubscriberCount": false,
                    "videoCount": "7766"
                  }
                },
                {
                  "kind": "youtube#channel",
                  "etag": "DXjYXN5A2BDwsVuKj36_57O2RlA",
                  "id": "UCNApqoVYJbYSrni4YsbXzyQ",
                  "snippet": {
                    "title": "Aditya Music",
                    "description": "The official YouTube channel of Aditya Music India Pvt. Ltd.\nAditya Music captivates music fans with its extensive superhit catalog.\nAll of the best Telugu Musical Hits in one channel.\n",
                    "customUrl": "@adityamusic",
                    "publishedAt": "2008-05-01T05:03:30Z",
                    "thumbnails": {
                      "default": {
                        "url": "https://yt3.ggpht.com/nR7RGgWbWxbx87MHhwN1DzEd-5SDD3aqjLpwpBdjFzEV4nrwH6AhhtePn41JiGBSOK823yFq=s88-c-k-c0x00ffffff-no-rj",
                        "width": 88,
                        "height": 88
                      },
                      "medium": {
                        "url": "https://yt3.ggpht.com/nR7RGgWbWxbx87MHhwN1DzEd-5SDD3aqjLpwpBdjFzEV4nrwH6AhhtePn41JiGBSOK823yFq=s240-c-k-c0x00ffffff-no-rj",
                        "width": 240,
                        "height": 240
                      },
                      "high": {
                        "url": "https://yt3.ggpht.com/nR7RGgWbWxbx87MHhwN1DzEd-5SDD3aqjLpwpBdjFzEV4nrwH6AhhtePn41JiGBSOK823yFq=s800-c-k-c0x00ffffff-no-rj",
                        "width": 800,
                        "height": 800
                      }
                    },
                    "localized": {
                      "title": "Aditya Music",
                      "description": "The official YouTube channel of Aditya Music India Pvt. Ltd.\nAditya Music captivates music fans with its extensive superhit catalog.\nAll of the best Telugu Musical Hits in one channel.\n"
                    },
                    "country": "IN"
                  },
                  "contentDetails": {
                    "relatedPlaylists": {
                      "likes": "",
                      "uploads": "UUNApqoVYJbYSrni4YsbXzyQ"
                    }
                  },
                  "statistics": {
                    "viewCount": "24556038781",
                    "subscriberCount": "27600000",
                    "hiddenSubscriberCount": false,
                    "videoCount": "21010"
                  }
                }
              ]
            }
          },
          "metadata": {
            "application/json": {
              "expanded": false,
              "root": "root"
            }
          },
          "execution_count": 7
        }
      ]
    },
    {
      "cell_type": "code",
      "source": [
        "\n",
        "def get_channel_stats(youtube, channel_id):\n",
        "  all_data=[]\n",
        "\n",
        "  request= youtube.channels().list(\n",
        "      part=\"snippet,contentDetails,statistics\",\n",
        "      id=','.join(channel_id)\n",
        "  )\n",
        "  response= request.execute()\n",
        "\n",
        "  for item in response['items']:\n",
        "    data= {'channelName':item['snippet']['title'],\n",
        "           'subscribers': item['statistics']['subscriberCount'],\n",
        "           'views':item['statistics']['viewCount'],\n",
        "           'totalViews': item['statistics']['videoCount'],\n",
        "           'playlistId': item['contentDetails']['relatedPlaylists']['uploads']\n",
        "    }\n",
        "\n",
        "    all_data.append(data)\n",
        "\n",
        "  return(pd.DataFrame(all_data))"
      ],
      "metadata": {
        "id": "1kDW6hLCbZgm"
      },
      "execution_count": null,
      "outputs": []
    },
    {
      "cell_type": "code",
      "source": [
        "channel_stats= get_channel_stats(youtube, channel_id)"
      ],
      "metadata": {
        "id": "HgJ78byzbcSb"
      },
      "execution_count": null,
      "outputs": []
    },
    {
      "cell_type": "code",
      "source": [
        "channel_stats"
      ],
      "metadata": {
        "colab": {
          "base_uri": "https://localhost:8080/",
          "height": 206
        },
        "id": "qvrGPq8xbe3o",
        "outputId": "7ad44881-4831-4ceb-9bc0-2cffc57a6510"
      },
      "execution_count": null,
      "outputs": [
        {
          "output_type": "execute_result",
          "data": {
            "text/plain": [
              "          channelName subscribers         views totalViews  \\\n",
              "0            T-Series   236000000  216384586962      18820   \n",
              "1      Saregama Music    32500000   13891908009       6787   \n",
              "2        Aditya Music    27600000   24556038781      21010   \n",
              "3   Zee Music Company    92700000   54244222583       7766   \n",
              "4  SonyMusicSouthVEVO    17400000   16758221652       5452   \n",
              "\n",
              "                 playlistId  \n",
              "0  UUq-Fj5jknLsUf-MWSy4_brA  \n",
              "1  UU_A7K2dXFsTMAciGmnNxy-Q  \n",
              "2  UUNApqoVYJbYSrni4YsbXzyQ  \n",
              "3  UUFFbwnve3yF62-tVXkTyHqg  \n",
              "4  UUTNtRdBAiZtHP9w7JinzfUg  "
            ],
            "text/html": [
              "\n",
              "  <div id=\"df-54711cf2-4810-4b29-a327-82f3a2e3cdb0\">\n",
              "    <div class=\"colab-df-container\">\n",
              "      <div>\n",
              "<style scoped>\n",
              "    .dataframe tbody tr th:only-of-type {\n",
              "        vertical-align: middle;\n",
              "    }\n",
              "\n",
              "    .dataframe tbody tr th {\n",
              "        vertical-align: top;\n",
              "    }\n",
              "\n",
              "    .dataframe thead th {\n",
              "        text-align: right;\n",
              "    }\n",
              "</style>\n",
              "<table border=\"1\" class=\"dataframe\">\n",
              "  <thead>\n",
              "    <tr style=\"text-align: right;\">\n",
              "      <th></th>\n",
              "      <th>channelName</th>\n",
              "      <th>subscribers</th>\n",
              "      <th>views</th>\n",
              "      <th>totalViews</th>\n",
              "      <th>playlistId</th>\n",
              "    </tr>\n",
              "  </thead>\n",
              "  <tbody>\n",
              "    <tr>\n",
              "      <th>0</th>\n",
              "      <td>T-Series</td>\n",
              "      <td>236000000</td>\n",
              "      <td>216384586962</td>\n",
              "      <td>18820</td>\n",
              "      <td>UUq-Fj5jknLsUf-MWSy4_brA</td>\n",
              "    </tr>\n",
              "    <tr>\n",
              "      <th>1</th>\n",
              "      <td>Saregama Music</td>\n",
              "      <td>32500000</td>\n",
              "      <td>13891908009</td>\n",
              "      <td>6787</td>\n",
              "      <td>UU_A7K2dXFsTMAciGmnNxy-Q</td>\n",
              "    </tr>\n",
              "    <tr>\n",
              "      <th>2</th>\n",
              "      <td>Aditya Music</td>\n",
              "      <td>27600000</td>\n",
              "      <td>24556038781</td>\n",
              "      <td>21010</td>\n",
              "      <td>UUNApqoVYJbYSrni4YsbXzyQ</td>\n",
              "    </tr>\n",
              "    <tr>\n",
              "      <th>3</th>\n",
              "      <td>Zee Music Company</td>\n",
              "      <td>92700000</td>\n",
              "      <td>54244222583</td>\n",
              "      <td>7766</td>\n",
              "      <td>UUFFbwnve3yF62-tVXkTyHqg</td>\n",
              "    </tr>\n",
              "    <tr>\n",
              "      <th>4</th>\n",
              "      <td>SonyMusicSouthVEVO</td>\n",
              "      <td>17400000</td>\n",
              "      <td>16758221652</td>\n",
              "      <td>5452</td>\n",
              "      <td>UUTNtRdBAiZtHP9w7JinzfUg</td>\n",
              "    </tr>\n",
              "  </tbody>\n",
              "</table>\n",
              "</div>\n",
              "      <button class=\"colab-df-convert\" onclick=\"convertToInteractive('df-54711cf2-4810-4b29-a327-82f3a2e3cdb0')\"\n",
              "              title=\"Convert this dataframe to an interactive table.\"\n",
              "              style=\"display:none;\">\n",
              "        \n",
              "  <svg xmlns=\"http://www.w3.org/2000/svg\" height=\"24px\"viewBox=\"0 0 24 24\"\n",
              "       width=\"24px\">\n",
              "    <path d=\"M0 0h24v24H0V0z\" fill=\"none\"/>\n",
              "    <path d=\"M18.56 5.44l.94 2.06.94-2.06 2.06-.94-2.06-.94-.94-2.06-.94 2.06-2.06.94zm-11 1L8.5 8.5l.94-2.06 2.06-.94-2.06-.94L8.5 2.5l-.94 2.06-2.06.94zm10 10l.94 2.06.94-2.06 2.06-.94-2.06-.94-.94-2.06-.94 2.06-2.06.94z\"/><path d=\"M17.41 7.96l-1.37-1.37c-.4-.4-.92-.59-1.43-.59-.52 0-1.04.2-1.43.59L10.3 9.45l-7.72 7.72c-.78.78-.78 2.05 0 2.83L4 21.41c.39.39.9.59 1.41.59.51 0 1.02-.2 1.41-.59l7.78-7.78 2.81-2.81c.8-.78.8-2.07 0-2.86zM5.41 20L4 18.59l7.72-7.72 1.47 1.35L5.41 20z\"/>\n",
              "  </svg>\n",
              "      </button>\n",
              "      \n",
              "  <style>\n",
              "    .colab-df-container {\n",
              "      display:flex;\n",
              "      flex-wrap:wrap;\n",
              "      gap: 12px;\n",
              "    }\n",
              "\n",
              "    .colab-df-convert {\n",
              "      background-color: #E8F0FE;\n",
              "      border: none;\n",
              "      border-radius: 50%;\n",
              "      cursor: pointer;\n",
              "      display: none;\n",
              "      fill: #1967D2;\n",
              "      height: 32px;\n",
              "      padding: 0 0 0 0;\n",
              "      width: 32px;\n",
              "    }\n",
              "\n",
              "    .colab-df-convert:hover {\n",
              "      background-color: #E2EBFA;\n",
              "      box-shadow: 0px 1px 2px rgba(60, 64, 67, 0.3), 0px 1px 3px 1px rgba(60, 64, 67, 0.15);\n",
              "      fill: #174EA6;\n",
              "    }\n",
              "\n",
              "    [theme=dark] .colab-df-convert {\n",
              "      background-color: #3B4455;\n",
              "      fill: #D2E3FC;\n",
              "    }\n",
              "\n",
              "    [theme=dark] .colab-df-convert:hover {\n",
              "      background-color: #434B5C;\n",
              "      box-shadow: 0px 1px 3px 1px rgba(0, 0, 0, 0.15);\n",
              "      filter: drop-shadow(0px 1px 2px rgba(0, 0, 0, 0.3));\n",
              "      fill: #FFFFFF;\n",
              "    }\n",
              "  </style>\n",
              "\n",
              "      <script>\n",
              "        const buttonEl =\n",
              "          document.querySelector('#df-54711cf2-4810-4b29-a327-82f3a2e3cdb0 button.colab-df-convert');\n",
              "        buttonEl.style.display =\n",
              "          google.colab.kernel.accessAllowed ? 'block' : 'none';\n",
              "\n",
              "        async function convertToInteractive(key) {\n",
              "          const element = document.querySelector('#df-54711cf2-4810-4b29-a327-82f3a2e3cdb0');\n",
              "          const dataTable =\n",
              "            await google.colab.kernel.invokeFunction('convertToInteractive',\n",
              "                                                     [key], {});\n",
              "          if (!dataTable) return;\n",
              "\n",
              "          const docLinkHtml = 'Like what you see? Visit the ' +\n",
              "            '<a target=\"_blank\" href=https://colab.research.google.com/notebooks/data_table.ipynb>data table notebook</a>'\n",
              "            + ' to learn more about interactive tables.';\n",
              "          element.innerHTML = '';\n",
              "          dataTable['output_type'] = 'display_data';\n",
              "          await google.colab.output.renderOutput(dataTable, element);\n",
              "          const docLink = document.createElement('div');\n",
              "          docLink.innerHTML = docLinkHtml;\n",
              "          element.appendChild(docLink);\n",
              "        }\n",
              "      </script>\n",
              "    </div>\n",
              "  </div>\n",
              "  "
            ]
          },
          "metadata": {},
          "execution_count": 10
        }
      ]
    },
    {
      "cell_type": "code",
      "source": [
        "def get_video_ids_for_playlists(youtube, playlist_ids):\n",
        "    video_ids = []\n",
        "    for playlist_id in playlist_ids:\n",
        "        request = youtube.playlistItems().list(\n",
        "            part=\"contentDetails\",\n",
        "            playlistId=playlist_id,\n",
        "            maxResults=50\n",
        "        )\n",
        "        response = request.execute()\n",
        "        for item in response[\"items\"]:\n",
        "            video_ids.append(item[\"contentDetails\"][\"videoId\"])\n",
        "        while \"nextPageToken\" in response:\n",
        "            page_token = response[\"nextPageToken\"]\n",
        "            response = youtube.playlistItems().list(\n",
        "                part=\"contentDetails\",\n",
        "                playlistId=playlist_id,\n",
        "                maxResults=50,\n",
        "                pageToken=page_token\n",
        "            ).execute()\n",
        "            for item in response[\"items\"]:\n",
        "                video_ids.append(item[\"contentDetails\"][\"videoId\"])\n",
        "    return video_ids"
      ],
      "metadata": {
        "id": "856hfvQDcXXp"
      },
      "execution_count": null,
      "outputs": []
    },
    {
      "cell_type": "code",
      "source": [
        "playlist_ids = ['UUNApqoVYJbYSrni4YsbXzyQ', 'UUTNtRdBAiZtHP9w7JinzfUg', 'UUq-Fj5jknLsUf-MWSy4_brA', 'UU_A7K2dXFsTMAciGmnNxy-Q', 'UUFFbwnve3yF62-tVXkTyHqg']\n",
        "\n",
        "# Call the function to get the video IDs for all videos in the playlists\n",
        "video_ids = get_video_ids_for_playlists(youtube, playlist_ids)\n"
      ],
      "metadata": {
        "id": "uPEHqSCLcj0r"
      },
      "execution_count": null,
      "outputs": []
    },
    {
      "cell_type": "code",
      "source": [
        "len(video_ids)"
      ],
      "metadata": {
        "id": "kzSZChMUee-T",
        "colab": {
          "base_uri": "https://localhost:8080/"
        },
        "outputId": "6b2c699f-cb76-4355-bbe5-ffb14447652c"
      },
      "execution_count": null,
      "outputs": [
        {
          "data": {
            "text/plain": [
              "58242"
            ]
          },
          "execution_count": 13,
          "metadata": {},
          "output_type": "execute_result"
        }
      ]
    },
    {
      "cell_type": "code",
      "source": [
        "def get_video_details(youtube, video_ids):\n",
        "        \n",
        "    all_video_info = []\n",
        "    \n",
        "    for i in range(0, len(video_ids), 50):\n",
        "        request = youtube.videos().list(\n",
        "            part=\"snippet,contentDetails,statistics\",\n",
        "            id=','.join(video_ids[i:i+50])\n",
        "        )\n",
        "        response = request.execute() \n",
        "\n",
        "        for video in response['items']:\n",
        "            stats_to_keep = {'snippet': ['channelTitle', 'title', 'description', 'tags', 'publishedAt'],\n",
        "                             'statistics': ['viewCount', 'likeCount', 'favouriteCount', 'commentCount'],\n",
        "                             'contentDetails': ['duration', 'definition', 'caption']\n",
        "                            }\n",
        "            video_info = {}\n",
        "            video_info['video_id'] = video['id']\n",
        "\n",
        "            for k in stats_to_keep.keys():\n",
        "                for v in stats_to_keep[k]:\n",
        "                    try:\n",
        "                        video_info[v] = video[k][v]\n",
        "                    except:\n",
        "                        video_info[v] = None\n",
        "\n",
        "            all_video_info.append(video_info)\n",
        "\n",
        "    return pd.DataFrame(all_video_info)"
      ],
      "metadata": {
        "id": "Rm-3Uue5egdv"
      },
      "execution_count": null,
      "outputs": []
    },
    {
      "cell_type": "code",
      "source": [
        "video_df= get_video_details(youtube, video_ids)\n",
        "len(video_df)"
      ],
      "metadata": {
        "id": "-Etca6JlnSKP",
        "colab": {
          "base_uri": "https://localhost:8080/"
        },
        "outputId": "25fae32b-02fa-4c26-b9c3-fa7a8d5ac325"
      },
      "execution_count": null,
      "outputs": [
        {
          "output_type": "execute_result",
          "data": {
            "text/plain": [
              "58242"
            ]
          },
          "metadata": {},
          "execution_count": 15
        }
      ]
    },
    {
      "cell_type": "code",
      "source": [
        "video_df.head()"
      ],
      "metadata": {
        "id": "VLsWGoh2njmh",
        "colab": {
          "base_uri": "https://localhost:8080/",
          "height": 686
        },
        "outputId": "11619b4c-a7e6-4374-954f-0cd83a487f0c"
      },
      "execution_count": null,
      "outputs": [
        {
          "output_type": "execute_result",
          "data": {
            "text/plain": [
              "      video_id  channelTitle  \\\n",
              "0  X-hywjtKK8k  Aditya Music   \n",
              "1  tPqYiT6Elps  Aditya Music   \n",
              "2  nW3-i0jhhTo  Aditya Music   \n",
              "3  8QVolL7qUzg  Aditya Music   \n",
              "4  TsAJFnjt2Wo  Aditya Music   \n",
              "\n",
              "                                               title  \\\n",
              "0  Hello Alludu Full Songs Jukebox | Suman, Rambh...   \n",
              "1  Ammayi Kosam Full Songs Jukebox | Vineeth, Mee...   \n",
              "2  Ammo Okato Thareeku Full Songs Jukebox | Srika...   \n",
              "3  Interview With Priya Hegde And Kiran Raj | Nuv...   \n",
              "4  Manusutho Preminchi Full Video Song | Samudram...   \n",
              "\n",
              "                                         description  tags  \\\n",
              "0  Listen & Enjoy #HelloAlludu Full Songs Jukebox...  None   \n",
              "1  Listen & Enjoy Ammayi Kosam Full Songs Jukebox...  None   \n",
              "2  Listen & Enjoy Ammo Okato Thareeku Full Songs ...  None   \n",
              "3  Watch & Enjoy Interview With Priya Hegde And K...  None   \n",
              "4  Watch & Enjoy Manusutho Preminchi Full Video S...  None   \n",
              "\n",
              "            publishedAt viewCount likeCount favouriteCount commentCount  \\\n",
              "0  2023-02-21T17:30:05Z       139         1           None            0   \n",
              "1  2023-02-21T17:00:38Z       458         2           None            0   \n",
              "2  2023-02-21T16:30:13Z       534         3           None            0   \n",
              "3  2023-02-21T13:30:08Z      1364        14           None            0   \n",
              "4  2023-02-21T13:00:16Z      1930        32           None            6   \n",
              "\n",
              "   duration definition caption  \n",
              "0  PT20M55S         hd   false  \n",
              "1  PT26M56S         hd   false  \n",
              "2  PT26M58S         hd   false  \n",
              "3  PT26M52S         hd   false  \n",
              "4   PT3M32S         hd   false  "
            ],
            "text/html": [
              "\n",
              "  <div id=\"df-1d06d483-265c-406b-ad56-8e956f54b48f\">\n",
              "    <div class=\"colab-df-container\">\n",
              "      <div>\n",
              "<style scoped>\n",
              "    .dataframe tbody tr th:only-of-type {\n",
              "        vertical-align: middle;\n",
              "    }\n",
              "\n",
              "    .dataframe tbody tr th {\n",
              "        vertical-align: top;\n",
              "    }\n",
              "\n",
              "    .dataframe thead th {\n",
              "        text-align: right;\n",
              "    }\n",
              "</style>\n",
              "<table border=\"1\" class=\"dataframe\">\n",
              "  <thead>\n",
              "    <tr style=\"text-align: right;\">\n",
              "      <th></th>\n",
              "      <th>video_id</th>\n",
              "      <th>channelTitle</th>\n",
              "      <th>title</th>\n",
              "      <th>description</th>\n",
              "      <th>tags</th>\n",
              "      <th>publishedAt</th>\n",
              "      <th>viewCount</th>\n",
              "      <th>likeCount</th>\n",
              "      <th>favouriteCount</th>\n",
              "      <th>commentCount</th>\n",
              "      <th>duration</th>\n",
              "      <th>definition</th>\n",
              "      <th>caption</th>\n",
              "    </tr>\n",
              "  </thead>\n",
              "  <tbody>\n",
              "    <tr>\n",
              "      <th>0</th>\n",
              "      <td>X-hywjtKK8k</td>\n",
              "      <td>Aditya Music</td>\n",
              "      <td>Hello Alludu Full Songs Jukebox | Suman, Rambh...</td>\n",
              "      <td>Listen &amp; Enjoy #HelloAlludu Full Songs Jukebox...</td>\n",
              "      <td>None</td>\n",
              "      <td>2023-02-21T17:30:05Z</td>\n",
              "      <td>139</td>\n",
              "      <td>1</td>\n",
              "      <td>None</td>\n",
              "      <td>0</td>\n",
              "      <td>PT20M55S</td>\n",
              "      <td>hd</td>\n",
              "      <td>false</td>\n",
              "    </tr>\n",
              "    <tr>\n",
              "      <th>1</th>\n",
              "      <td>tPqYiT6Elps</td>\n",
              "      <td>Aditya Music</td>\n",
              "      <td>Ammayi Kosam Full Songs Jukebox | Vineeth, Mee...</td>\n",
              "      <td>Listen &amp; Enjoy Ammayi Kosam Full Songs Jukebox...</td>\n",
              "      <td>None</td>\n",
              "      <td>2023-02-21T17:00:38Z</td>\n",
              "      <td>458</td>\n",
              "      <td>2</td>\n",
              "      <td>None</td>\n",
              "      <td>0</td>\n",
              "      <td>PT26M56S</td>\n",
              "      <td>hd</td>\n",
              "      <td>false</td>\n",
              "    </tr>\n",
              "    <tr>\n",
              "      <th>2</th>\n",
              "      <td>nW3-i0jhhTo</td>\n",
              "      <td>Aditya Music</td>\n",
              "      <td>Ammo Okato Thareeku Full Songs Jukebox | Srika...</td>\n",
              "      <td>Listen &amp; Enjoy Ammo Okato Thareeku Full Songs ...</td>\n",
              "      <td>None</td>\n",
              "      <td>2023-02-21T16:30:13Z</td>\n",
              "      <td>534</td>\n",
              "      <td>3</td>\n",
              "      <td>None</td>\n",
              "      <td>0</td>\n",
              "      <td>PT26M58S</td>\n",
              "      <td>hd</td>\n",
              "      <td>false</td>\n",
              "    </tr>\n",
              "    <tr>\n",
              "      <th>3</th>\n",
              "      <td>8QVolL7qUzg</td>\n",
              "      <td>Aditya Music</td>\n",
              "      <td>Interview With Priya Hegde And Kiran Raj | Nuv...</td>\n",
              "      <td>Watch &amp; Enjoy Interview With Priya Hegde And K...</td>\n",
              "      <td>None</td>\n",
              "      <td>2023-02-21T13:30:08Z</td>\n",
              "      <td>1364</td>\n",
              "      <td>14</td>\n",
              "      <td>None</td>\n",
              "      <td>0</td>\n",
              "      <td>PT26M52S</td>\n",
              "      <td>hd</td>\n",
              "      <td>false</td>\n",
              "    </tr>\n",
              "    <tr>\n",
              "      <th>4</th>\n",
              "      <td>TsAJFnjt2Wo</td>\n",
              "      <td>Aditya Music</td>\n",
              "      <td>Manusutho Preminchi Full Video Song | Samudram...</td>\n",
              "      <td>Watch &amp; Enjoy Manusutho Preminchi Full Video S...</td>\n",
              "      <td>None</td>\n",
              "      <td>2023-02-21T13:00:16Z</td>\n",
              "      <td>1930</td>\n",
              "      <td>32</td>\n",
              "      <td>None</td>\n",
              "      <td>6</td>\n",
              "      <td>PT3M32S</td>\n",
              "      <td>hd</td>\n",
              "      <td>false</td>\n",
              "    </tr>\n",
              "  </tbody>\n",
              "</table>\n",
              "</div>\n",
              "      <button class=\"colab-df-convert\" onclick=\"convertToInteractive('df-1d06d483-265c-406b-ad56-8e956f54b48f')\"\n",
              "              title=\"Convert this dataframe to an interactive table.\"\n",
              "              style=\"display:none;\">\n",
              "        \n",
              "  <svg xmlns=\"http://www.w3.org/2000/svg\" height=\"24px\"viewBox=\"0 0 24 24\"\n",
              "       width=\"24px\">\n",
              "    <path d=\"M0 0h24v24H0V0z\" fill=\"none\"/>\n",
              "    <path d=\"M18.56 5.44l.94 2.06.94-2.06 2.06-.94-2.06-.94-.94-2.06-.94 2.06-2.06.94zm-11 1L8.5 8.5l.94-2.06 2.06-.94-2.06-.94L8.5 2.5l-.94 2.06-2.06.94zm10 10l.94 2.06.94-2.06 2.06-.94-2.06-.94-.94-2.06-.94 2.06-2.06.94z\"/><path d=\"M17.41 7.96l-1.37-1.37c-.4-.4-.92-.59-1.43-.59-.52 0-1.04.2-1.43.59L10.3 9.45l-7.72 7.72c-.78.78-.78 2.05 0 2.83L4 21.41c.39.39.9.59 1.41.59.51 0 1.02-.2 1.41-.59l7.78-7.78 2.81-2.81c.8-.78.8-2.07 0-2.86zM5.41 20L4 18.59l7.72-7.72 1.47 1.35L5.41 20z\"/>\n",
              "  </svg>\n",
              "      </button>\n",
              "      \n",
              "  <style>\n",
              "    .colab-df-container {\n",
              "      display:flex;\n",
              "      flex-wrap:wrap;\n",
              "      gap: 12px;\n",
              "    }\n",
              "\n",
              "    .colab-df-convert {\n",
              "      background-color: #E8F0FE;\n",
              "      border: none;\n",
              "      border-radius: 50%;\n",
              "      cursor: pointer;\n",
              "      display: none;\n",
              "      fill: #1967D2;\n",
              "      height: 32px;\n",
              "      padding: 0 0 0 0;\n",
              "      width: 32px;\n",
              "    }\n",
              "\n",
              "    .colab-df-convert:hover {\n",
              "      background-color: #E2EBFA;\n",
              "      box-shadow: 0px 1px 2px rgba(60, 64, 67, 0.3), 0px 1px 3px 1px rgba(60, 64, 67, 0.15);\n",
              "      fill: #174EA6;\n",
              "    }\n",
              "\n",
              "    [theme=dark] .colab-df-convert {\n",
              "      background-color: #3B4455;\n",
              "      fill: #D2E3FC;\n",
              "    }\n",
              "\n",
              "    [theme=dark] .colab-df-convert:hover {\n",
              "      background-color: #434B5C;\n",
              "      box-shadow: 0px 1px 3px 1px rgba(0, 0, 0, 0.15);\n",
              "      filter: drop-shadow(0px 1px 2px rgba(0, 0, 0, 0.3));\n",
              "      fill: #FFFFFF;\n",
              "    }\n",
              "  </style>\n",
              "\n",
              "      <script>\n",
              "        const buttonEl =\n",
              "          document.querySelector('#df-1d06d483-265c-406b-ad56-8e956f54b48f button.colab-df-convert');\n",
              "        buttonEl.style.display =\n",
              "          google.colab.kernel.accessAllowed ? 'block' : 'none';\n",
              "\n",
              "        async function convertToInteractive(key) {\n",
              "          const element = document.querySelector('#df-1d06d483-265c-406b-ad56-8e956f54b48f');\n",
              "          const dataTable =\n",
              "            await google.colab.kernel.invokeFunction('convertToInteractive',\n",
              "                                                     [key], {});\n",
              "          if (!dataTable) return;\n",
              "\n",
              "          const docLinkHtml = 'Like what you see? Visit the ' +\n",
              "            '<a target=\"_blank\" href=https://colab.research.google.com/notebooks/data_table.ipynb>data table notebook</a>'\n",
              "            + ' to learn more about interactive tables.';\n",
              "          element.innerHTML = '';\n",
              "          dataTable['output_type'] = 'display_data';\n",
              "          await google.colab.output.renderOutput(dataTable, element);\n",
              "          const docLink = document.createElement('div');\n",
              "          docLink.innerHTML = docLinkHtml;\n",
              "          element.appendChild(docLink);\n",
              "        }\n",
              "      </script>\n",
              "    </div>\n",
              "  </div>\n",
              "  "
            ]
          },
          "metadata": {},
          "execution_count": 22
        }
      ]
    },
    {
      "cell_type": "code",
      "source": [
        "video_df.isnull().sum()"
      ],
      "metadata": {
        "colab": {
          "base_uri": "https://localhost:8080/"
        },
        "id": "q1NsWxTvHCFp",
        "outputId": "433ab330-48b7-4505-8159-278f12cb4f17"
      },
      "execution_count": null,
      "outputs": [
        {
          "output_type": "execute_result",
          "data": {
            "text/plain": [
              "video_id              0\n",
              "channelTitle          0\n",
              "title                 0\n",
              "description           0\n",
              "tags               1200\n",
              "publishedAt           0\n",
              "viewCount             0\n",
              "likeCount           100\n",
              "favouriteCount    58242\n",
              "commentCount         53\n",
              "duration              0\n",
              "definition            0\n",
              "caption               0\n",
              "dtype: int64"
            ]
          },
          "metadata": {},
          "execution_count": 24
        }
      ]
    },
    {
      "cell_type": "code",
      "source": [
        "video_df.columns"
      ],
      "metadata": {
        "colab": {
          "base_uri": "https://localhost:8080/"
        },
        "id": "RAQ7wn0LMLWU",
        "outputId": "0350e5ae-3f64-4aee-e6ff-71e81e0987d4"
      },
      "execution_count": null,
      "outputs": [
        {
          "output_type": "execute_result",
          "data": {
            "text/plain": [
              "Index(['video_id', 'channelTitle', 'title', 'description', 'tags',\n",
              "       'publishedAt', 'viewCount', 'likeCount', 'favouriteCount',\n",
              "       'commentCount', 'duration', 'definition', 'caption'],\n",
              "      dtype='object')"
            ]
          },
          "metadata": {},
          "execution_count": 25
        }
      ]
    },
    {
      "cell_type": "code",
      "source": [
        "final_df= video_df.drop(['video_id','description','caption','favouriteCount','definition'],axis=1)"
      ],
      "metadata": {
        "id": "GWxlyWp4L7Ov"
      },
      "execution_count": null,
      "outputs": []
    },
    {
      "cell_type": "code",
      "source": [],
      "metadata": {
        "colab": {
          "base_uri": "https://localhost:8080/",
          "height": 206
        },
        "id": "K3je9z9zL_DV",
        "outputId": "275bb7d1-db13-432d-a770-7627e601aeba"
      },
      "execution_count": null,
      "outputs": [
        {
          "output_type": "execute_result",
          "data": {
            "text/plain": [
              "   channelTitle                                              title  tags  \\\n",
              "0  Aditya Music  Hello Alludu Full Songs Jukebox | Suman, Rambh...  None   \n",
              "1  Aditya Music  Ammayi Kosam Full Songs Jukebox | Vineeth, Mee...  None   \n",
              "2  Aditya Music  Ammo Okato Thareeku Full Songs Jukebox | Srika...  None   \n",
              "3  Aditya Music  Interview With Priya Hegde And Kiran Raj | Nuv...  None   \n",
              "4  Aditya Music  Manusutho Preminchi Full Video Song | Samudram...  None   \n",
              "\n",
              "            publishedAt viewCount likeCount commentCount  duration  \n",
              "0  2023-02-21T17:30:05Z       139         1            0  PT20M55S  \n",
              "1  2023-02-21T17:00:38Z       458         2            0  PT26M56S  \n",
              "2  2023-02-21T16:30:13Z       534         3            0  PT26M58S  \n",
              "3  2023-02-21T13:30:08Z      1364        14            0  PT26M52S  \n",
              "4  2023-02-21T13:00:16Z      1930        32            6   PT3M32S  "
            ],
            "text/html": [
              "\n",
              "  <div id=\"df-bda5457d-6b07-45e3-8f94-60b9435072f2\">\n",
              "    <div class=\"colab-df-container\">\n",
              "      <div>\n",
              "<style scoped>\n",
              "    .dataframe tbody tr th:only-of-type {\n",
              "        vertical-align: middle;\n",
              "    }\n",
              "\n",
              "    .dataframe tbody tr th {\n",
              "        vertical-align: top;\n",
              "    }\n",
              "\n",
              "    .dataframe thead th {\n",
              "        text-align: right;\n",
              "    }\n",
              "</style>\n",
              "<table border=\"1\" class=\"dataframe\">\n",
              "  <thead>\n",
              "    <tr style=\"text-align: right;\">\n",
              "      <th></th>\n",
              "      <th>channelTitle</th>\n",
              "      <th>title</th>\n",
              "      <th>tags</th>\n",
              "      <th>publishedAt</th>\n",
              "      <th>viewCount</th>\n",
              "      <th>likeCount</th>\n",
              "      <th>commentCount</th>\n",
              "      <th>duration</th>\n",
              "    </tr>\n",
              "  </thead>\n",
              "  <tbody>\n",
              "    <tr>\n",
              "      <th>0</th>\n",
              "      <td>Aditya Music</td>\n",
              "      <td>Hello Alludu Full Songs Jukebox | Suman, Rambh...</td>\n",
              "      <td>None</td>\n",
              "      <td>2023-02-21T17:30:05Z</td>\n",
              "      <td>139</td>\n",
              "      <td>1</td>\n",
              "      <td>0</td>\n",
              "      <td>PT20M55S</td>\n",
              "    </tr>\n",
              "    <tr>\n",
              "      <th>1</th>\n",
              "      <td>Aditya Music</td>\n",
              "      <td>Ammayi Kosam Full Songs Jukebox | Vineeth, Mee...</td>\n",
              "      <td>None</td>\n",
              "      <td>2023-02-21T17:00:38Z</td>\n",
              "      <td>458</td>\n",
              "      <td>2</td>\n",
              "      <td>0</td>\n",
              "      <td>PT26M56S</td>\n",
              "    </tr>\n",
              "    <tr>\n",
              "      <th>2</th>\n",
              "      <td>Aditya Music</td>\n",
              "      <td>Ammo Okato Thareeku Full Songs Jukebox | Srika...</td>\n",
              "      <td>None</td>\n",
              "      <td>2023-02-21T16:30:13Z</td>\n",
              "      <td>534</td>\n",
              "      <td>3</td>\n",
              "      <td>0</td>\n",
              "      <td>PT26M58S</td>\n",
              "    </tr>\n",
              "    <tr>\n",
              "      <th>3</th>\n",
              "      <td>Aditya Music</td>\n",
              "      <td>Interview With Priya Hegde And Kiran Raj | Nuv...</td>\n",
              "      <td>None</td>\n",
              "      <td>2023-02-21T13:30:08Z</td>\n",
              "      <td>1364</td>\n",
              "      <td>14</td>\n",
              "      <td>0</td>\n",
              "      <td>PT26M52S</td>\n",
              "    </tr>\n",
              "    <tr>\n",
              "      <th>4</th>\n",
              "      <td>Aditya Music</td>\n",
              "      <td>Manusutho Preminchi Full Video Song | Samudram...</td>\n",
              "      <td>None</td>\n",
              "      <td>2023-02-21T13:00:16Z</td>\n",
              "      <td>1930</td>\n",
              "      <td>32</td>\n",
              "      <td>6</td>\n",
              "      <td>PT3M32S</td>\n",
              "    </tr>\n",
              "  </tbody>\n",
              "</table>\n",
              "</div>\n",
              "      <button class=\"colab-df-convert\" onclick=\"convertToInteractive('df-bda5457d-6b07-45e3-8f94-60b9435072f2')\"\n",
              "              title=\"Convert this dataframe to an interactive table.\"\n",
              "              style=\"display:none;\">\n",
              "        \n",
              "  <svg xmlns=\"http://www.w3.org/2000/svg\" height=\"24px\"viewBox=\"0 0 24 24\"\n",
              "       width=\"24px\">\n",
              "    <path d=\"M0 0h24v24H0V0z\" fill=\"none\"/>\n",
              "    <path d=\"M18.56 5.44l.94 2.06.94-2.06 2.06-.94-2.06-.94-.94-2.06-.94 2.06-2.06.94zm-11 1L8.5 8.5l.94-2.06 2.06-.94-2.06-.94L8.5 2.5l-.94 2.06-2.06.94zm10 10l.94 2.06.94-2.06 2.06-.94-2.06-.94-.94-2.06-.94 2.06-2.06.94z\"/><path d=\"M17.41 7.96l-1.37-1.37c-.4-.4-.92-.59-1.43-.59-.52 0-1.04.2-1.43.59L10.3 9.45l-7.72 7.72c-.78.78-.78 2.05 0 2.83L4 21.41c.39.39.9.59 1.41.59.51 0 1.02-.2 1.41-.59l7.78-7.78 2.81-2.81c.8-.78.8-2.07 0-2.86zM5.41 20L4 18.59l7.72-7.72 1.47 1.35L5.41 20z\"/>\n",
              "  </svg>\n",
              "      </button>\n",
              "      \n",
              "  <style>\n",
              "    .colab-df-container {\n",
              "      display:flex;\n",
              "      flex-wrap:wrap;\n",
              "      gap: 12px;\n",
              "    }\n",
              "\n",
              "    .colab-df-convert {\n",
              "      background-color: #E8F0FE;\n",
              "      border: none;\n",
              "      border-radius: 50%;\n",
              "      cursor: pointer;\n",
              "      display: none;\n",
              "      fill: #1967D2;\n",
              "      height: 32px;\n",
              "      padding: 0 0 0 0;\n",
              "      width: 32px;\n",
              "    }\n",
              "\n",
              "    .colab-df-convert:hover {\n",
              "      background-color: #E2EBFA;\n",
              "      box-shadow: 0px 1px 2px rgba(60, 64, 67, 0.3), 0px 1px 3px 1px rgba(60, 64, 67, 0.15);\n",
              "      fill: #174EA6;\n",
              "    }\n",
              "\n",
              "    [theme=dark] .colab-df-convert {\n",
              "      background-color: #3B4455;\n",
              "      fill: #D2E3FC;\n",
              "    }\n",
              "\n",
              "    [theme=dark] .colab-df-convert:hover {\n",
              "      background-color: #434B5C;\n",
              "      box-shadow: 0px 1px 3px 1px rgba(0, 0, 0, 0.15);\n",
              "      filter: drop-shadow(0px 1px 2px rgba(0, 0, 0, 0.3));\n",
              "      fill: #FFFFFF;\n",
              "    }\n",
              "  </style>\n",
              "\n",
              "      <script>\n",
              "        const buttonEl =\n",
              "          document.querySelector('#df-bda5457d-6b07-45e3-8f94-60b9435072f2 button.colab-df-convert');\n",
              "        buttonEl.style.display =\n",
              "          google.colab.kernel.accessAllowed ? 'block' : 'none';\n",
              "\n",
              "        async function convertToInteractive(key) {\n",
              "          const element = document.querySelector('#df-bda5457d-6b07-45e3-8f94-60b9435072f2');\n",
              "          const dataTable =\n",
              "            await google.colab.kernel.invokeFunction('convertToInteractive',\n",
              "                                                     [key], {});\n",
              "          if (!dataTable) return;\n",
              "\n",
              "          const docLinkHtml = 'Like what you see? Visit the ' +\n",
              "            '<a target=\"_blank\" href=https://colab.research.google.com/notebooks/data_table.ipynb>data table notebook</a>'\n",
              "            + ' to learn more about interactive tables.';\n",
              "          element.innerHTML = '';\n",
              "          dataTable['output_type'] = 'display_data';\n",
              "          await google.colab.output.renderOutput(dataTable, element);\n",
              "          const docLink = document.createElement('div');\n",
              "          docLink.innerHTML = docLinkHtml;\n",
              "          element.appendChild(docLink);\n",
              "        }\n",
              "      </script>\n",
              "    </div>\n",
              "  </div>\n",
              "  "
            ]
          },
          "metadata": {},
          "execution_count": 28
        }
      ]
    },
    {
      "cell_type": "code",
      "source": [
        "final_df.to_csv('final_df.csv', index=False, header=True)"
      ],
      "metadata": {
        "id": "_1zA4sm_NArO"
      },
      "execution_count": null,
      "outputs": []
    },
    {
      "cell_type": "code",
      "source": [
        "final_df.shape"
      ],
      "metadata": {
        "colab": {
          "base_uri": "https://localhost:8080/"
        },
        "id": "2MO_Ni08Npqu",
        "outputId": "2f677b0b-f40c-4f16-f23f-8fd2f3f8e5cb"
      },
      "execution_count": null,
      "outputs": [
        {
          "output_type": "execute_result",
          "data": {
            "text/plain": [
              "(58242, 8)"
            ]
          },
          "metadata": {},
          "execution_count": 30
        }
      ]
    },
    {
      "cell_type": "code",
      "source": [
        "final_df.isnull().sum()"
      ],
      "metadata": {
        "colab": {
          "base_uri": "https://localhost:8080/"
        },
        "id": "njKpBr2zOLPH",
        "outputId": "782655c6-0b27-4d67-aff3-9680903d98a0"
      },
      "execution_count": null,
      "outputs": [
        {
          "output_type": "execute_result",
          "data": {
            "text/plain": [
              "channelTitle       0\n",
              "title              0\n",
              "tags            1200\n",
              "publishedAt        0\n",
              "viewCount          0\n",
              "likeCount        100\n",
              "commentCount      53\n",
              "duration           0\n",
              "dtype: int64"
            ]
          },
          "metadata": {},
          "execution_count": 32
        }
      ]
    },
    {
      "cell_type": "code",
      "source": [
        "final_df[final_df['title'].isnull()]"
      ],
      "metadata": {
        "colab": {
          "base_uri": "https://localhost:8080/",
          "height": 49
        },
        "id": "JVdNXtB1TTth",
        "outputId": "125aa459-c9c7-4006-97df-c321ae788dba"
      },
      "execution_count": null,
      "outputs": [
        {
          "output_type": "execute_result",
          "data": {
            "text/plain": [
              "Empty DataFrame\n",
              "Columns: [channelTitle, title, tags, publishedAt, viewCount, likeCount, commentCount, duration]\n",
              "Index: []"
            ],
            "text/html": [
              "\n",
              "  <div id=\"df-45fab3c3-efa6-4956-8642-dfeccf9a4a02\">\n",
              "    <div class=\"colab-df-container\">\n",
              "      <div>\n",
              "<style scoped>\n",
              "    .dataframe tbody tr th:only-of-type {\n",
              "        vertical-align: middle;\n",
              "    }\n",
              "\n",
              "    .dataframe tbody tr th {\n",
              "        vertical-align: top;\n",
              "    }\n",
              "\n",
              "    .dataframe thead th {\n",
              "        text-align: right;\n",
              "    }\n",
              "</style>\n",
              "<table border=\"1\" class=\"dataframe\">\n",
              "  <thead>\n",
              "    <tr style=\"text-align: right;\">\n",
              "      <th></th>\n",
              "      <th>channelTitle</th>\n",
              "      <th>title</th>\n",
              "      <th>tags</th>\n",
              "      <th>publishedAt</th>\n",
              "      <th>viewCount</th>\n",
              "      <th>likeCount</th>\n",
              "      <th>commentCount</th>\n",
              "      <th>duration</th>\n",
              "    </tr>\n",
              "  </thead>\n",
              "  <tbody>\n",
              "  </tbody>\n",
              "</table>\n",
              "</div>\n",
              "      <button class=\"colab-df-convert\" onclick=\"convertToInteractive('df-45fab3c3-efa6-4956-8642-dfeccf9a4a02')\"\n",
              "              title=\"Convert this dataframe to an interactive table.\"\n",
              "              style=\"display:none;\">\n",
              "        \n",
              "  <svg xmlns=\"http://www.w3.org/2000/svg\" height=\"24px\"viewBox=\"0 0 24 24\"\n",
              "       width=\"24px\">\n",
              "    <path d=\"M0 0h24v24H0V0z\" fill=\"none\"/>\n",
              "    <path d=\"M18.56 5.44l.94 2.06.94-2.06 2.06-.94-2.06-.94-.94-2.06-.94 2.06-2.06.94zm-11 1L8.5 8.5l.94-2.06 2.06-.94-2.06-.94L8.5 2.5l-.94 2.06-2.06.94zm10 10l.94 2.06.94-2.06 2.06-.94-2.06-.94-.94-2.06-.94 2.06-2.06.94z\"/><path d=\"M17.41 7.96l-1.37-1.37c-.4-.4-.92-.59-1.43-.59-.52 0-1.04.2-1.43.59L10.3 9.45l-7.72 7.72c-.78.78-.78 2.05 0 2.83L4 21.41c.39.39.9.59 1.41.59.51 0 1.02-.2 1.41-.59l7.78-7.78 2.81-2.81c.8-.78.8-2.07 0-2.86zM5.41 20L4 18.59l7.72-7.72 1.47 1.35L5.41 20z\"/>\n",
              "  </svg>\n",
              "      </button>\n",
              "      \n",
              "  <style>\n",
              "    .colab-df-container {\n",
              "      display:flex;\n",
              "      flex-wrap:wrap;\n",
              "      gap: 12px;\n",
              "    }\n",
              "\n",
              "    .colab-df-convert {\n",
              "      background-color: #E8F0FE;\n",
              "      border: none;\n",
              "      border-radius: 50%;\n",
              "      cursor: pointer;\n",
              "      display: none;\n",
              "      fill: #1967D2;\n",
              "      height: 32px;\n",
              "      padding: 0 0 0 0;\n",
              "      width: 32px;\n",
              "    }\n",
              "\n",
              "    .colab-df-convert:hover {\n",
              "      background-color: #E2EBFA;\n",
              "      box-shadow: 0px 1px 2px rgba(60, 64, 67, 0.3), 0px 1px 3px 1px rgba(60, 64, 67, 0.15);\n",
              "      fill: #174EA6;\n",
              "    }\n",
              "\n",
              "    [theme=dark] .colab-df-convert {\n",
              "      background-color: #3B4455;\n",
              "      fill: #D2E3FC;\n",
              "    }\n",
              "\n",
              "    [theme=dark] .colab-df-convert:hover {\n",
              "      background-color: #434B5C;\n",
              "      box-shadow: 0px 1px 3px 1px rgba(0, 0, 0, 0.15);\n",
              "      filter: drop-shadow(0px 1px 2px rgba(0, 0, 0, 0.3));\n",
              "      fill: #FFFFFF;\n",
              "    }\n",
              "  </style>\n",
              "\n",
              "      <script>\n",
              "        const buttonEl =\n",
              "          document.querySelector('#df-45fab3c3-efa6-4956-8642-dfeccf9a4a02 button.colab-df-convert');\n",
              "        buttonEl.style.display =\n",
              "          google.colab.kernel.accessAllowed ? 'block' : 'none';\n",
              "\n",
              "        async function convertToInteractive(key) {\n",
              "          const element = document.querySelector('#df-45fab3c3-efa6-4956-8642-dfeccf9a4a02');\n",
              "          const dataTable =\n",
              "            await google.colab.kernel.invokeFunction('convertToInteractive',\n",
              "                                                     [key], {});\n",
              "          if (!dataTable) return;\n",
              "\n",
              "          const docLinkHtml = 'Like what you see? Visit the ' +\n",
              "            '<a target=\"_blank\" href=https://colab.research.google.com/notebooks/data_table.ipynb>data table notebook</a>'\n",
              "            + ' to learn more about interactive tables.';\n",
              "          element.innerHTML = '';\n",
              "          dataTable['output_type'] = 'display_data';\n",
              "          await google.colab.output.renderOutput(dataTable, element);\n",
              "          const docLink = document.createElement('div');\n",
              "          docLink.innerHTML = docLinkHtml;\n",
              "          element.appendChild(docLink);\n",
              "        }\n",
              "      </script>\n",
              "    </div>\n",
              "  </div>\n",
              "  "
            ]
          },
          "metadata": {},
          "execution_count": 33
        }
      ]
    },
    {
      "cell_type": "code",
      "source": [
        "final_df.tail()"
      ],
      "metadata": {
        "colab": {
          "base_uri": "https://localhost:8080/",
          "height": 337
        },
        "id": "Yq6eVkEbUA9p",
        "outputId": "866acd45-348c-47bd-ca0d-d809d1bf3cc8"
      },
      "execution_count": null,
      "outputs": [
        {
          "output_type": "execute_result",
          "data": {
            "text/plain": [
              "            channelTitle                                              title  \\\n",
              "58237  Zee Music Company  Sar Utha Ke - Hawaa Hawaai - Full Audio Song -...   \n",
              "58238  Zee Music Company  Hawaa Hawaai (Title Track) - Hawaa Hawaai -  F...   \n",
              "58239  Zee Music Company  Sapnon Ko Ginte Ginte - Hawaa Hawaai -  Full A...   \n",
              "58240  Zee Music Company  Tu Hi Toh Hai - Full Audio Song | Holiday | Ak...   \n",
              "58241  Zee Music Company  Sar Utha Ke | Hawaa Hawaai Official HD Video f...   \n",
              "\n",
              "                                                    tags  \\\n",
              "58237  [Hawaa Hawaai, Saqib Saleem (Film Actor), Part...   \n",
              "58238  [Hawaa Hawaai, Saqib Saleem (Film Actor), Part...   \n",
              "58239  [Hawaa Hawaai, Saqib Saleem (Film Actor), Part...   \n",
              "58240  [Akshay Kumar (TV Personality), Sonakshi Sinha...   \n",
              "58241  [Hawaa Hawaai, Saqib Saleem (Film Actor), Part...   \n",
              "\n",
              "                publishedAt viewCount likeCount commentCount duration  \n",
              "58237  2014-04-19T07:35:00Z     23382       143            3  PT3M30S  \n",
              "58238  2014-04-19T07:34:27Z     17703        91           12  PT4M20S  \n",
              "58239  2014-04-19T07:33:41Z     17835        91            6  PT5M33S  \n",
              "58240  2014-04-18T12:13:21Z    186138      1173           57  PT4M15S  \n",
              "58241  2014-04-11T14:23:18Z    492630      3097          114  PT2M18S  "
            ],
            "text/html": [
              "\n",
              "  <div id=\"df-7bd6a574-6774-4481-a7c6-bd87e7414967\">\n",
              "    <div class=\"colab-df-container\">\n",
              "      <div>\n",
              "<style scoped>\n",
              "    .dataframe tbody tr th:only-of-type {\n",
              "        vertical-align: middle;\n",
              "    }\n",
              "\n",
              "    .dataframe tbody tr th {\n",
              "        vertical-align: top;\n",
              "    }\n",
              "\n",
              "    .dataframe thead th {\n",
              "        text-align: right;\n",
              "    }\n",
              "</style>\n",
              "<table border=\"1\" class=\"dataframe\">\n",
              "  <thead>\n",
              "    <tr style=\"text-align: right;\">\n",
              "      <th></th>\n",
              "      <th>channelTitle</th>\n",
              "      <th>title</th>\n",
              "      <th>tags</th>\n",
              "      <th>publishedAt</th>\n",
              "      <th>viewCount</th>\n",
              "      <th>likeCount</th>\n",
              "      <th>commentCount</th>\n",
              "      <th>duration</th>\n",
              "    </tr>\n",
              "  </thead>\n",
              "  <tbody>\n",
              "    <tr>\n",
              "      <th>58237</th>\n",
              "      <td>Zee Music Company</td>\n",
              "      <td>Sar Utha Ke - Hawaa Hawaai - Full Audio Song -...</td>\n",
              "      <td>[Hawaa Hawaai, Saqib Saleem (Film Actor), Part...</td>\n",
              "      <td>2014-04-19T07:35:00Z</td>\n",
              "      <td>23382</td>\n",
              "      <td>143</td>\n",
              "      <td>3</td>\n",
              "      <td>PT3M30S</td>\n",
              "    </tr>\n",
              "    <tr>\n",
              "      <th>58238</th>\n",
              "      <td>Zee Music Company</td>\n",
              "      <td>Hawaa Hawaai (Title Track) - Hawaa Hawaai -  F...</td>\n",
              "      <td>[Hawaa Hawaai, Saqib Saleem (Film Actor), Part...</td>\n",
              "      <td>2014-04-19T07:34:27Z</td>\n",
              "      <td>17703</td>\n",
              "      <td>91</td>\n",
              "      <td>12</td>\n",
              "      <td>PT4M20S</td>\n",
              "    </tr>\n",
              "    <tr>\n",
              "      <th>58239</th>\n",
              "      <td>Zee Music Company</td>\n",
              "      <td>Sapnon Ko Ginte Ginte - Hawaa Hawaai -  Full A...</td>\n",
              "      <td>[Hawaa Hawaai, Saqib Saleem (Film Actor), Part...</td>\n",
              "      <td>2014-04-19T07:33:41Z</td>\n",
              "      <td>17835</td>\n",
              "      <td>91</td>\n",
              "      <td>6</td>\n",
              "      <td>PT5M33S</td>\n",
              "    </tr>\n",
              "    <tr>\n",
              "      <th>58240</th>\n",
              "      <td>Zee Music Company</td>\n",
              "      <td>Tu Hi Toh Hai - Full Audio Song | Holiday | Ak...</td>\n",
              "      <td>[Akshay Kumar (TV Personality), Sonakshi Sinha...</td>\n",
              "      <td>2014-04-18T12:13:21Z</td>\n",
              "      <td>186138</td>\n",
              "      <td>1173</td>\n",
              "      <td>57</td>\n",
              "      <td>PT4M15S</td>\n",
              "    </tr>\n",
              "    <tr>\n",
              "      <th>58241</th>\n",
              "      <td>Zee Music Company</td>\n",
              "      <td>Sar Utha Ke | Hawaa Hawaai Official HD Video f...</td>\n",
              "      <td>[Hawaa Hawaai, Saqib Saleem (Film Actor), Part...</td>\n",
              "      <td>2014-04-11T14:23:18Z</td>\n",
              "      <td>492630</td>\n",
              "      <td>3097</td>\n",
              "      <td>114</td>\n",
              "      <td>PT2M18S</td>\n",
              "    </tr>\n",
              "  </tbody>\n",
              "</table>\n",
              "</div>\n",
              "      <button class=\"colab-df-convert\" onclick=\"convertToInteractive('df-7bd6a574-6774-4481-a7c6-bd87e7414967')\"\n",
              "              title=\"Convert this dataframe to an interactive table.\"\n",
              "              style=\"display:none;\">\n",
              "        \n",
              "  <svg xmlns=\"http://www.w3.org/2000/svg\" height=\"24px\"viewBox=\"0 0 24 24\"\n",
              "       width=\"24px\">\n",
              "    <path d=\"M0 0h24v24H0V0z\" fill=\"none\"/>\n",
              "    <path d=\"M18.56 5.44l.94 2.06.94-2.06 2.06-.94-2.06-.94-.94-2.06-.94 2.06-2.06.94zm-11 1L8.5 8.5l.94-2.06 2.06-.94-2.06-.94L8.5 2.5l-.94 2.06-2.06.94zm10 10l.94 2.06.94-2.06 2.06-.94-2.06-.94-.94-2.06-.94 2.06-2.06.94z\"/><path d=\"M17.41 7.96l-1.37-1.37c-.4-.4-.92-.59-1.43-.59-.52 0-1.04.2-1.43.59L10.3 9.45l-7.72 7.72c-.78.78-.78 2.05 0 2.83L4 21.41c.39.39.9.59 1.41.59.51 0 1.02-.2 1.41-.59l7.78-7.78 2.81-2.81c.8-.78.8-2.07 0-2.86zM5.41 20L4 18.59l7.72-7.72 1.47 1.35L5.41 20z\"/>\n",
              "  </svg>\n",
              "      </button>\n",
              "      \n",
              "  <style>\n",
              "    .colab-df-container {\n",
              "      display:flex;\n",
              "      flex-wrap:wrap;\n",
              "      gap: 12px;\n",
              "    }\n",
              "\n",
              "    .colab-df-convert {\n",
              "      background-color: #E8F0FE;\n",
              "      border: none;\n",
              "      border-radius: 50%;\n",
              "      cursor: pointer;\n",
              "      display: none;\n",
              "      fill: #1967D2;\n",
              "      height: 32px;\n",
              "      padding: 0 0 0 0;\n",
              "      width: 32px;\n",
              "    }\n",
              "\n",
              "    .colab-df-convert:hover {\n",
              "      background-color: #E2EBFA;\n",
              "      box-shadow: 0px 1px 2px rgba(60, 64, 67, 0.3), 0px 1px 3px 1px rgba(60, 64, 67, 0.15);\n",
              "      fill: #174EA6;\n",
              "    }\n",
              "\n",
              "    [theme=dark] .colab-df-convert {\n",
              "      background-color: #3B4455;\n",
              "      fill: #D2E3FC;\n",
              "    }\n",
              "\n",
              "    [theme=dark] .colab-df-convert:hover {\n",
              "      background-color: #434B5C;\n",
              "      box-shadow: 0px 1px 3px 1px rgba(0, 0, 0, 0.15);\n",
              "      filter: drop-shadow(0px 1px 2px rgba(0, 0, 0, 0.3));\n",
              "      fill: #FFFFFF;\n",
              "    }\n",
              "  </style>\n",
              "\n",
              "      <script>\n",
              "        const buttonEl =\n",
              "          document.querySelector('#df-7bd6a574-6774-4481-a7c6-bd87e7414967 button.colab-df-convert');\n",
              "        buttonEl.style.display =\n",
              "          google.colab.kernel.accessAllowed ? 'block' : 'none';\n",
              "\n",
              "        async function convertToInteractive(key) {\n",
              "          const element = document.querySelector('#df-7bd6a574-6774-4481-a7c6-bd87e7414967');\n",
              "          const dataTable =\n",
              "            await google.colab.kernel.invokeFunction('convertToInteractive',\n",
              "                                                     [key], {});\n",
              "          if (!dataTable) return;\n",
              "\n",
              "          const docLinkHtml = 'Like what you see? Visit the ' +\n",
              "            '<a target=\"_blank\" href=https://colab.research.google.com/notebooks/data_table.ipynb>data table notebook</a>'\n",
              "            + ' to learn more about interactive tables.';\n",
              "          element.innerHTML = '';\n",
              "          dataTable['output_type'] = 'display_data';\n",
              "          await google.colab.output.renderOutput(dataTable, element);\n",
              "          const docLink = document.createElement('div');\n",
              "          docLink.innerHTML = docLinkHtml;\n",
              "          element.appendChild(docLink);\n",
              "        }\n",
              "      </script>\n",
              "    </div>\n",
              "  </div>\n",
              "  "
            ]
          },
          "metadata": {},
          "execution_count": 35
        }
      ]
    }
  ]
}