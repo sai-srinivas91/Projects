{
  "nbformat": 4,
  "nbformat_minor": 0,
  "metadata": {
    "colab": {
      "provenance": []
    },
    "kernelspec": {
      "name": "python3",
      "display_name": "Python 3"
    },
    "language_info": {
      "name": "python"
    }
  },
  "cells": [
    {
      "cell_type": "markdown",
      "source": [
        "# **Preprocessing** involves removing duplicates, converting necessary values to numerical from object datatype, finding Null values and dealing with them."
      ],
      "metadata": {
        "id": "XgAQZFVlhgUx"
      }
    },
    {
      "cell_type": "code",
      "source": [
        "import pandas as pd"
      ],
      "metadata": {
        "id": "QZQZiaZBQvHX"
      },
      "execution_count": null,
      "outputs": []
    },
    {
      "cell_type": "code",
      "source": [
        "video_df= pd.read_csv('/content/final_df.csv')"
      ],
      "metadata": {
        "colab": {
          "base_uri": "https://localhost:8080/"
        },
        "id": "65c5DZHFQxfo",
        "outputId": "fbc63e71-209d-4389-c730-96b32637b6fe"
      },
      "execution_count": null,
      "outputs": [
        {
          "output_type": "stream",
          "name": "stderr",
          "text": [
            "/usr/local/lib/python3.8/dist-packages/IPython/core/interactiveshell.py:3326: DtypeWarning: Columns (1,2,3,6,7) have mixed types.Specify dtype option on import or set low_memory=False.\n",
            "  exec(code_obj, self.user_global_ns, self.user_ns)\n"
          ]
        }
      ]
    },
    {
      "cell_type": "code",
      "source": [
        "# Drop duplicate rows\n",
        "video_df = video_df.drop_duplicates()"
      ],
      "metadata": {
        "id": "fwkXA5fcSLqe"
      },
      "execution_count": null,
      "outputs": []
    },
    {
      "cell_type": "code",
      "source": [
        "video_df.head()"
      ],
      "metadata": {
        "colab": {
          "base_uri": "https://localhost:8080/",
          "height": 206
        },
        "id": "Ae_8DYDKSojq",
        "outputId": "42e198c5-2334-48f2-bb0a-354fa8fea043"
      },
      "execution_count": null,
      "outputs": [
        {
          "output_type": "execute_result",
          "data": {
            "text/plain": [
              "   channelTitle                                              title tags  \\\n",
              "0  Aditya Music  Hello Alludu Full Songs Jukebox | Suman, Rambh...  NaN   \n",
              "1  Aditya Music  Ammayi Kosam Full Songs Jukebox | Vineeth, Mee...  NaN   \n",
              "2  Aditya Music  Ammo Okato Thareeku Full Songs Jukebox | Srika...  NaN   \n",
              "3  Aditya Music  Interview With Priya Hegde And Kiran Raj | Nuv...  NaN   \n",
              "4  Aditya Music  Manusutho Preminchi Full Video Song | Samudram...  NaN   \n",
              "\n",
              "            publishedAt  viewCount  likeCount commentCount  duration  \n",
              "0  2023-02-21T17:30:05Z      139.0        1.0          0.0  PT20M55S  \n",
              "1  2023-02-21T17:00:38Z      458.0        2.0          0.0  PT26M56S  \n",
              "2  2023-02-21T16:30:13Z      534.0        3.0          0.0  PT26M58S  \n",
              "3  2023-02-21T13:30:08Z     1364.0       14.0          0.0  PT26M52S  \n",
              "4  2023-02-21T13:00:16Z     1930.0       32.0          6.0   PT3M32S  "
            ],
            "text/html": [
              "\n",
              "  <div id=\"df-9bcfc0f2-602e-47cb-9c21-f00b9e8a0cd5\">\n",
              "    <div class=\"colab-df-container\">\n",
              "      <div>\n",
              "<style scoped>\n",
              "    .dataframe tbody tr th:only-of-type {\n",
              "        vertical-align: middle;\n",
              "    }\n",
              "\n",
              "    .dataframe tbody tr th {\n",
              "        vertical-align: top;\n",
              "    }\n",
              "\n",
              "    .dataframe thead th {\n",
              "        text-align: right;\n",
              "    }\n",
              "</style>\n",
              "<table border=\"1\" class=\"dataframe\">\n",
              "  <thead>\n",
              "    <tr style=\"text-align: right;\">\n",
              "      <th></th>\n",
              "      <th>channelTitle</th>\n",
              "      <th>title</th>\n",
              "      <th>tags</th>\n",
              "      <th>publishedAt</th>\n",
              "      <th>viewCount</th>\n",
              "      <th>likeCount</th>\n",
              "      <th>commentCount</th>\n",
              "      <th>duration</th>\n",
              "    </tr>\n",
              "  </thead>\n",
              "  <tbody>\n",
              "    <tr>\n",
              "      <th>0</th>\n",
              "      <td>Aditya Music</td>\n",
              "      <td>Hello Alludu Full Songs Jukebox | Suman, Rambh...</td>\n",
              "      <td>NaN</td>\n",
              "      <td>2023-02-21T17:30:05Z</td>\n",
              "      <td>139.0</td>\n",
              "      <td>1.0</td>\n",
              "      <td>0.0</td>\n",
              "      <td>PT20M55S</td>\n",
              "    </tr>\n",
              "    <tr>\n",
              "      <th>1</th>\n",
              "      <td>Aditya Music</td>\n",
              "      <td>Ammayi Kosam Full Songs Jukebox | Vineeth, Mee...</td>\n",
              "      <td>NaN</td>\n",
              "      <td>2023-02-21T17:00:38Z</td>\n",
              "      <td>458.0</td>\n",
              "      <td>2.0</td>\n",
              "      <td>0.0</td>\n",
              "      <td>PT26M56S</td>\n",
              "    </tr>\n",
              "    <tr>\n",
              "      <th>2</th>\n",
              "      <td>Aditya Music</td>\n",
              "      <td>Ammo Okato Thareeku Full Songs Jukebox | Srika...</td>\n",
              "      <td>NaN</td>\n",
              "      <td>2023-02-21T16:30:13Z</td>\n",
              "      <td>534.0</td>\n",
              "      <td>3.0</td>\n",
              "      <td>0.0</td>\n",
              "      <td>PT26M58S</td>\n",
              "    </tr>\n",
              "    <tr>\n",
              "      <th>3</th>\n",
              "      <td>Aditya Music</td>\n",
              "      <td>Interview With Priya Hegde And Kiran Raj | Nuv...</td>\n",
              "      <td>NaN</td>\n",
              "      <td>2023-02-21T13:30:08Z</td>\n",
              "      <td>1364.0</td>\n",
              "      <td>14.0</td>\n",
              "      <td>0.0</td>\n",
              "      <td>PT26M52S</td>\n",
              "    </tr>\n",
              "    <tr>\n",
              "      <th>4</th>\n",
              "      <td>Aditya Music</td>\n",
              "      <td>Manusutho Preminchi Full Video Song | Samudram...</td>\n",
              "      <td>NaN</td>\n",
              "      <td>2023-02-21T13:00:16Z</td>\n",
              "      <td>1930.0</td>\n",
              "      <td>32.0</td>\n",
              "      <td>6.0</td>\n",
              "      <td>PT3M32S</td>\n",
              "    </tr>\n",
              "  </tbody>\n",
              "</table>\n",
              "</div>\n",
              "      <button class=\"colab-df-convert\" onclick=\"convertToInteractive('df-9bcfc0f2-602e-47cb-9c21-f00b9e8a0cd5')\"\n",
              "              title=\"Convert this dataframe to an interactive table.\"\n",
              "              style=\"display:none;\">\n",
              "        \n",
              "  <svg xmlns=\"http://www.w3.org/2000/svg\" height=\"24px\"viewBox=\"0 0 24 24\"\n",
              "       width=\"24px\">\n",
              "    <path d=\"M0 0h24v24H0V0z\" fill=\"none\"/>\n",
              "    <path d=\"M18.56 5.44l.94 2.06.94-2.06 2.06-.94-2.06-.94-.94-2.06-.94 2.06-2.06.94zm-11 1L8.5 8.5l.94-2.06 2.06-.94-2.06-.94L8.5 2.5l-.94 2.06-2.06.94zm10 10l.94 2.06.94-2.06 2.06-.94-2.06-.94-.94-2.06-.94 2.06-2.06.94z\"/><path d=\"M17.41 7.96l-1.37-1.37c-.4-.4-.92-.59-1.43-.59-.52 0-1.04.2-1.43.59L10.3 9.45l-7.72 7.72c-.78.78-.78 2.05 0 2.83L4 21.41c.39.39.9.59 1.41.59.51 0 1.02-.2 1.41-.59l7.78-7.78 2.81-2.81c.8-.78.8-2.07 0-2.86zM5.41 20L4 18.59l7.72-7.72 1.47 1.35L5.41 20z\"/>\n",
              "  </svg>\n",
              "      </button>\n",
              "      \n",
              "  <style>\n",
              "    .colab-df-container {\n",
              "      display:flex;\n",
              "      flex-wrap:wrap;\n",
              "      gap: 12px;\n",
              "    }\n",
              "\n",
              "    .colab-df-convert {\n",
              "      background-color: #E8F0FE;\n",
              "      border: none;\n",
              "      border-radius: 50%;\n",
              "      cursor: pointer;\n",
              "      display: none;\n",
              "      fill: #1967D2;\n",
              "      height: 32px;\n",
              "      padding: 0 0 0 0;\n",
              "      width: 32px;\n",
              "    }\n",
              "\n",
              "    .colab-df-convert:hover {\n",
              "      background-color: #E2EBFA;\n",
              "      box-shadow: 0px 1px 2px rgba(60, 64, 67, 0.3), 0px 1px 3px 1px rgba(60, 64, 67, 0.15);\n",
              "      fill: #174EA6;\n",
              "    }\n",
              "\n",
              "    [theme=dark] .colab-df-convert {\n",
              "      background-color: #3B4455;\n",
              "      fill: #D2E3FC;\n",
              "    }\n",
              "\n",
              "    [theme=dark] .colab-df-convert:hover {\n",
              "      background-color: #434B5C;\n",
              "      box-shadow: 0px 1px 3px 1px rgba(0, 0, 0, 0.15);\n",
              "      filter: drop-shadow(0px 1px 2px rgba(0, 0, 0, 0.3));\n",
              "      fill: #FFFFFF;\n",
              "    }\n",
              "  </style>\n",
              "\n",
              "      <script>\n",
              "        const buttonEl =\n",
              "          document.querySelector('#df-9bcfc0f2-602e-47cb-9c21-f00b9e8a0cd5 button.colab-df-convert');\n",
              "        buttonEl.style.display =\n",
              "          google.colab.kernel.accessAllowed ? 'block' : 'none';\n",
              "\n",
              "        async function convertToInteractive(key) {\n",
              "          const element = document.querySelector('#df-9bcfc0f2-602e-47cb-9c21-f00b9e8a0cd5');\n",
              "          const dataTable =\n",
              "            await google.colab.kernel.invokeFunction('convertToInteractive',\n",
              "                                                     [key], {});\n",
              "          if (!dataTable) return;\n",
              "\n",
              "          const docLinkHtml = 'Like what you see? Visit the ' +\n",
              "            '<a target=\"_blank\" href=https://colab.research.google.com/notebooks/data_table.ipynb>data table notebook</a>'\n",
              "            + ' to learn more about interactive tables.';\n",
              "          element.innerHTML = '';\n",
              "          dataTable['output_type'] = 'display_data';\n",
              "          await google.colab.output.renderOutput(dataTable, element);\n",
              "          const docLink = document.createElement('div');\n",
              "          docLink.innerHTML = docLinkHtml;\n",
              "          element.appendChild(docLink);\n",
              "        }\n",
              "      </script>\n",
              "    </div>\n",
              "  </div>\n",
              "  "
            ]
          },
          "metadata": {},
          "execution_count": 84
        }
      ]
    },
    {
      "cell_type": "code",
      "source": [
        "video_df.shape"
      ],
      "metadata": {
        "colab": {
          "base_uri": "https://localhost:8080/"
        },
        "id": "vDH0OFU1Q6zZ",
        "outputId": "d084a829-3be2-4c95-b14b-5e56d4dc2e6f"
      },
      "execution_count": null,
      "outputs": [
        {
          "output_type": "execute_result",
          "data": {
            "text/plain": [
              "(58246, 8)"
            ]
          },
          "metadata": {},
          "execution_count": 85
        }
      ]
    },
    {
      "cell_type": "code",
      "source": [
        "video_df[video_df['title'].isnull()]"
      ],
      "metadata": {
        "colab": {
          "base_uri": "https://localhost:8080/",
          "height": 81
        },
        "id": "cqcAjIFpTymM",
        "outputId": "76e43901-d971-48c4-a375-c4812425de59"
      },
      "execution_count": null,
      "outputs": [
        {
          "output_type": "execute_result",
          "data": {
            "text/plain": [
              "                                  channelTitle title tags publishedAt  \\\n",
              "131072    Ep- 9 | Harshdeep Kaur & Ranjit Bawa   NaN  NaN         NaN   \n",
              "\n",
              "        viewCount  likeCount commentCount duration  \n",
              "131072        NaN        NaN          NaN      NaN  "
            ],
            "text/html": [
              "\n",
              "  <div id=\"df-1d10b07c-c6a8-4af3-879b-2eed33016820\">\n",
              "    <div class=\"colab-df-container\">\n",
              "      <div>\n",
              "<style scoped>\n",
              "    .dataframe tbody tr th:only-of-type {\n",
              "        vertical-align: middle;\n",
              "    }\n",
              "\n",
              "    .dataframe tbody tr th {\n",
              "        vertical-align: top;\n",
              "    }\n",
              "\n",
              "    .dataframe thead th {\n",
              "        text-align: right;\n",
              "    }\n",
              "</style>\n",
              "<table border=\"1\" class=\"dataframe\">\n",
              "  <thead>\n",
              "    <tr style=\"text-align: right;\">\n",
              "      <th></th>\n",
              "      <th>channelTitle</th>\n",
              "      <th>title</th>\n",
              "      <th>tags</th>\n",
              "      <th>publishedAt</th>\n",
              "      <th>viewCount</th>\n",
              "      <th>likeCount</th>\n",
              "      <th>commentCount</th>\n",
              "      <th>duration</th>\n",
              "    </tr>\n",
              "  </thead>\n",
              "  <tbody>\n",
              "    <tr>\n",
              "      <th>131072</th>\n",
              "      <td>Ep- 9 | Harshdeep Kaur &amp; Ranjit Bawa</td>\n",
              "      <td>NaN</td>\n",
              "      <td>NaN</td>\n",
              "      <td>NaN</td>\n",
              "      <td>NaN</td>\n",
              "      <td>NaN</td>\n",
              "      <td>NaN</td>\n",
              "      <td>NaN</td>\n",
              "    </tr>\n",
              "  </tbody>\n",
              "</table>\n",
              "</div>\n",
              "      <button class=\"colab-df-convert\" onclick=\"convertToInteractive('df-1d10b07c-c6a8-4af3-879b-2eed33016820')\"\n",
              "              title=\"Convert this dataframe to an interactive table.\"\n",
              "              style=\"display:none;\">\n",
              "        \n",
              "  <svg xmlns=\"http://www.w3.org/2000/svg\" height=\"24px\"viewBox=\"0 0 24 24\"\n",
              "       width=\"24px\">\n",
              "    <path d=\"M0 0h24v24H0V0z\" fill=\"none\"/>\n",
              "    <path d=\"M18.56 5.44l.94 2.06.94-2.06 2.06-.94-2.06-.94-.94-2.06-.94 2.06-2.06.94zm-11 1L8.5 8.5l.94-2.06 2.06-.94-2.06-.94L8.5 2.5l-.94 2.06-2.06.94zm10 10l.94 2.06.94-2.06 2.06-.94-2.06-.94-.94-2.06-.94 2.06-2.06.94z\"/><path d=\"M17.41 7.96l-1.37-1.37c-.4-.4-.92-.59-1.43-.59-.52 0-1.04.2-1.43.59L10.3 9.45l-7.72 7.72c-.78.78-.78 2.05 0 2.83L4 21.41c.39.39.9.59 1.41.59.51 0 1.02-.2 1.41-.59l7.78-7.78 2.81-2.81c.8-.78.8-2.07 0-2.86zM5.41 20L4 18.59l7.72-7.72 1.47 1.35L5.41 20z\"/>\n",
              "  </svg>\n",
              "      </button>\n",
              "      \n",
              "  <style>\n",
              "    .colab-df-container {\n",
              "      display:flex;\n",
              "      flex-wrap:wrap;\n",
              "      gap: 12px;\n",
              "    }\n",
              "\n",
              "    .colab-df-convert {\n",
              "      background-color: #E8F0FE;\n",
              "      border: none;\n",
              "      border-radius: 50%;\n",
              "      cursor: pointer;\n",
              "      display: none;\n",
              "      fill: #1967D2;\n",
              "      height: 32px;\n",
              "      padding: 0 0 0 0;\n",
              "      width: 32px;\n",
              "    }\n",
              "\n",
              "    .colab-df-convert:hover {\n",
              "      background-color: #E2EBFA;\n",
              "      box-shadow: 0px 1px 2px rgba(60, 64, 67, 0.3), 0px 1px 3px 1px rgba(60, 64, 67, 0.15);\n",
              "      fill: #174EA6;\n",
              "    }\n",
              "\n",
              "    [theme=dark] .colab-df-convert {\n",
              "      background-color: #3B4455;\n",
              "      fill: #D2E3FC;\n",
              "    }\n",
              "\n",
              "    [theme=dark] .colab-df-convert:hover {\n",
              "      background-color: #434B5C;\n",
              "      box-shadow: 0px 1px 3px 1px rgba(0, 0, 0, 0.15);\n",
              "      filter: drop-shadow(0px 1px 2px rgba(0, 0, 0, 0.3));\n",
              "      fill: #FFFFFF;\n",
              "    }\n",
              "  </style>\n",
              "\n",
              "      <script>\n",
              "        const buttonEl =\n",
              "          document.querySelector('#df-1d10b07c-c6a8-4af3-879b-2eed33016820 button.colab-df-convert');\n",
              "        buttonEl.style.display =\n",
              "          google.colab.kernel.accessAllowed ? 'block' : 'none';\n",
              "\n",
              "        async function convertToInteractive(key) {\n",
              "          const element = document.querySelector('#df-1d10b07c-c6a8-4af3-879b-2eed33016820');\n",
              "          const dataTable =\n",
              "            await google.colab.kernel.invokeFunction('convertToInteractive',\n",
              "                                                     [key], {});\n",
              "          if (!dataTable) return;\n",
              "\n",
              "          const docLinkHtml = 'Like what you see? Visit the ' +\n",
              "            '<a target=\"_blank\" href=https://colab.research.google.com/notebooks/data_table.ipynb>data table notebook</a>'\n",
              "            + ' to learn more about interactive tables.';\n",
              "          element.innerHTML = '';\n",
              "          dataTable['output_type'] = 'display_data';\n",
              "          await google.colab.output.renderOutput(dataTable, element);\n",
              "          const docLink = document.createElement('div');\n",
              "          docLink.innerHTML = docLinkHtml;\n",
              "          element.appendChild(docLink);\n",
              "        }\n",
              "      </script>\n",
              "    </div>\n",
              "  </div>\n",
              "  "
            ]
          },
          "metadata": {},
          "execution_count": 86
        }
      ]
    },
    {
      "cell_type": "code",
      "source": [
        "video_df['channelTitle'].unique()"
      ],
      "metadata": {
        "colab": {
          "base_uri": "https://localhost:8080/"
        },
        "id": "dE5HRANJWWhK",
        "outputId": "341c203a-4655-46f1-cad6-0272cf05648c"
      },
      "execution_count": null,
      "outputs": [
        {
          "output_type": "execute_result",
          "data": {
            "text/plain": [
              "array(['Aditya Music', 'SonyMusicSouthVEVO', 'T-Series',\n",
              "       ' | T-Series Mixtape Punjabi Season 2 Radhika&Vinay',\n",
              "       '  Ep- 9 | Harshdeep Kaur & Ranjit Bawa',\n",
              "       ' | Mixtape Punjabi Season 2', ' | T-Series', 'Saregama Music',\n",
              "       'Zee Music Company'], dtype=object)"
            ]
          },
          "metadata": {},
          "execution_count": 87
        }
      ]
    },
    {
      "cell_type": "code",
      "source": [
        "video_df = video_df[video_df['channelTitle'].map(video_df['channelTitle'].value_counts()) > 1]"
      ],
      "metadata": {
        "id": "ESnT-NhtWoYK"
      },
      "execution_count": null,
      "outputs": []
    },
    {
      "cell_type": "code",
      "source": [
        "video_df['channelTitle'].unique()"
      ],
      "metadata": {
        "colab": {
          "base_uri": "https://localhost:8080/"
        },
        "id": "ycRhuoErYiEW",
        "outputId": "6f979c06-4670-49a8-a666-3cd4777b8f99"
      },
      "execution_count": null,
      "outputs": [
        {
          "output_type": "execute_result",
          "data": {
            "text/plain": [
              "array(['Aditya Music', 'SonyMusicSouthVEVO', 'T-Series', 'Saregama Music',\n",
              "       'Zee Music Company'], dtype=object)"
            ]
          },
          "metadata": {},
          "execution_count": 89
        }
      ]
    },
    {
      "cell_type": "code",
      "source": [
        "video_df.reset_index(inplace = True, drop = True)"
      ],
      "metadata": {
        "id": "u6xrNBWSYsFs"
      },
      "execution_count": null,
      "outputs": []
    },
    {
      "cell_type": "code",
      "source": [
        "video_df.tail()"
      ],
      "metadata": {
        "colab": {
          "base_uri": "https://localhost:8080/",
          "height": 337
        },
        "id": "YlX0DqimVaYU",
        "outputId": "5ffef9f6-0d62-470b-baff-2c2a2e8aaf66"
      },
      "execution_count": null,
      "outputs": [
        {
          "output_type": "execute_result",
          "data": {
            "text/plain": [
              "            channelTitle                                              title  \\\n",
              "58237  Zee Music Company  Sar Utha Ke - Hawaa Hawaai - Full Audio Song -...   \n",
              "58238  Zee Music Company  Hawaa Hawaai (Title Track) - Hawaa Hawaai -  F...   \n",
              "58239  Zee Music Company  Sapnon Ko Ginte Ginte - Hawaa Hawaai -  Full A...   \n",
              "58240  Zee Music Company  Tu Hi Toh Hai - Full Audio Song | Holiday | Ak...   \n",
              "58241  Zee Music Company  Sar Utha Ke | Hawaa Hawaai Official HD Video f...   \n",
              "\n",
              "                                                    tags  \\\n",
              "58237  ['Hawaa Hawaai', 'Saqib Saleem (Film Actor)', ...   \n",
              "58238  ['Hawaa Hawaai', 'Saqib Saleem (Film Actor)', ...   \n",
              "58239  ['Hawaa Hawaai', 'Saqib Saleem (Film Actor)', ...   \n",
              "58240  ['Akshay Kumar (TV Personality)', 'Sonakshi Si...   \n",
              "58241  ['Hawaa Hawaai', 'Saqib Saleem (Film Actor)', ...   \n",
              "\n",
              "                publishedAt  viewCount  likeCount commentCount duration  \n",
              "58237  2014-04-19T07:35:00Z    23382.0      143.0            3  PT3M30S  \n",
              "58238  2014-04-19T07:34:27Z    17703.0       91.0           12  PT4M20S  \n",
              "58239  2014-04-19T07:33:41Z    17835.0       91.0            6  PT5M33S  \n",
              "58240  2014-04-18T12:13:21Z   186138.0     1173.0           57  PT4M15S  \n",
              "58241  2014-04-11T14:23:18Z   492630.0     3097.0          114  PT2M18S  "
            ],
            "text/html": [
              "\n",
              "  <div id=\"df-6d03d32f-81b7-4ac2-a89f-10e13240f8cc\">\n",
              "    <div class=\"colab-df-container\">\n",
              "      <div>\n",
              "<style scoped>\n",
              "    .dataframe tbody tr th:only-of-type {\n",
              "        vertical-align: middle;\n",
              "    }\n",
              "\n",
              "    .dataframe tbody tr th {\n",
              "        vertical-align: top;\n",
              "    }\n",
              "\n",
              "    .dataframe thead th {\n",
              "        text-align: right;\n",
              "    }\n",
              "</style>\n",
              "<table border=\"1\" class=\"dataframe\">\n",
              "  <thead>\n",
              "    <tr style=\"text-align: right;\">\n",
              "      <th></th>\n",
              "      <th>channelTitle</th>\n",
              "      <th>title</th>\n",
              "      <th>tags</th>\n",
              "      <th>publishedAt</th>\n",
              "      <th>viewCount</th>\n",
              "      <th>likeCount</th>\n",
              "      <th>commentCount</th>\n",
              "      <th>duration</th>\n",
              "    </tr>\n",
              "  </thead>\n",
              "  <tbody>\n",
              "    <tr>\n",
              "      <th>58237</th>\n",
              "      <td>Zee Music Company</td>\n",
              "      <td>Sar Utha Ke - Hawaa Hawaai - Full Audio Song -...</td>\n",
              "      <td>['Hawaa Hawaai', 'Saqib Saleem (Film Actor)', ...</td>\n",
              "      <td>2014-04-19T07:35:00Z</td>\n",
              "      <td>23382.0</td>\n",
              "      <td>143.0</td>\n",
              "      <td>3</td>\n",
              "      <td>PT3M30S</td>\n",
              "    </tr>\n",
              "    <tr>\n",
              "      <th>58238</th>\n",
              "      <td>Zee Music Company</td>\n",
              "      <td>Hawaa Hawaai (Title Track) - Hawaa Hawaai -  F...</td>\n",
              "      <td>['Hawaa Hawaai', 'Saqib Saleem (Film Actor)', ...</td>\n",
              "      <td>2014-04-19T07:34:27Z</td>\n",
              "      <td>17703.0</td>\n",
              "      <td>91.0</td>\n",
              "      <td>12</td>\n",
              "      <td>PT4M20S</td>\n",
              "    </tr>\n",
              "    <tr>\n",
              "      <th>58239</th>\n",
              "      <td>Zee Music Company</td>\n",
              "      <td>Sapnon Ko Ginte Ginte - Hawaa Hawaai -  Full A...</td>\n",
              "      <td>['Hawaa Hawaai', 'Saqib Saleem (Film Actor)', ...</td>\n",
              "      <td>2014-04-19T07:33:41Z</td>\n",
              "      <td>17835.0</td>\n",
              "      <td>91.0</td>\n",
              "      <td>6</td>\n",
              "      <td>PT5M33S</td>\n",
              "    </tr>\n",
              "    <tr>\n",
              "      <th>58240</th>\n",
              "      <td>Zee Music Company</td>\n",
              "      <td>Tu Hi Toh Hai - Full Audio Song | Holiday | Ak...</td>\n",
              "      <td>['Akshay Kumar (TV Personality)', 'Sonakshi Si...</td>\n",
              "      <td>2014-04-18T12:13:21Z</td>\n",
              "      <td>186138.0</td>\n",
              "      <td>1173.0</td>\n",
              "      <td>57</td>\n",
              "      <td>PT4M15S</td>\n",
              "    </tr>\n",
              "    <tr>\n",
              "      <th>58241</th>\n",
              "      <td>Zee Music Company</td>\n",
              "      <td>Sar Utha Ke | Hawaa Hawaai Official HD Video f...</td>\n",
              "      <td>['Hawaa Hawaai', 'Saqib Saleem (Film Actor)', ...</td>\n",
              "      <td>2014-04-11T14:23:18Z</td>\n",
              "      <td>492630.0</td>\n",
              "      <td>3097.0</td>\n",
              "      <td>114</td>\n",
              "      <td>PT2M18S</td>\n",
              "    </tr>\n",
              "  </tbody>\n",
              "</table>\n",
              "</div>\n",
              "      <button class=\"colab-df-convert\" onclick=\"convertToInteractive('df-6d03d32f-81b7-4ac2-a89f-10e13240f8cc')\"\n",
              "              title=\"Convert this dataframe to an interactive table.\"\n",
              "              style=\"display:none;\">\n",
              "        \n",
              "  <svg xmlns=\"http://www.w3.org/2000/svg\" height=\"24px\"viewBox=\"0 0 24 24\"\n",
              "       width=\"24px\">\n",
              "    <path d=\"M0 0h24v24H0V0z\" fill=\"none\"/>\n",
              "    <path d=\"M18.56 5.44l.94 2.06.94-2.06 2.06-.94-2.06-.94-.94-2.06-.94 2.06-2.06.94zm-11 1L8.5 8.5l.94-2.06 2.06-.94-2.06-.94L8.5 2.5l-.94 2.06-2.06.94zm10 10l.94 2.06.94-2.06 2.06-.94-2.06-.94-.94-2.06-.94 2.06-2.06.94z\"/><path d=\"M17.41 7.96l-1.37-1.37c-.4-.4-.92-.59-1.43-.59-.52 0-1.04.2-1.43.59L10.3 9.45l-7.72 7.72c-.78.78-.78 2.05 0 2.83L4 21.41c.39.39.9.59 1.41.59.51 0 1.02-.2 1.41-.59l7.78-7.78 2.81-2.81c.8-.78.8-2.07 0-2.86zM5.41 20L4 18.59l7.72-7.72 1.47 1.35L5.41 20z\"/>\n",
              "  </svg>\n",
              "      </button>\n",
              "      \n",
              "  <style>\n",
              "    .colab-df-container {\n",
              "      display:flex;\n",
              "      flex-wrap:wrap;\n",
              "      gap: 12px;\n",
              "    }\n",
              "\n",
              "    .colab-df-convert {\n",
              "      background-color: #E8F0FE;\n",
              "      border: none;\n",
              "      border-radius: 50%;\n",
              "      cursor: pointer;\n",
              "      display: none;\n",
              "      fill: #1967D2;\n",
              "      height: 32px;\n",
              "      padding: 0 0 0 0;\n",
              "      width: 32px;\n",
              "    }\n",
              "\n",
              "    .colab-df-convert:hover {\n",
              "      background-color: #E2EBFA;\n",
              "      box-shadow: 0px 1px 2px rgba(60, 64, 67, 0.3), 0px 1px 3px 1px rgba(60, 64, 67, 0.15);\n",
              "      fill: #174EA6;\n",
              "    }\n",
              "\n",
              "    [theme=dark] .colab-df-convert {\n",
              "      background-color: #3B4455;\n",
              "      fill: #D2E3FC;\n",
              "    }\n",
              "\n",
              "    [theme=dark] .colab-df-convert:hover {\n",
              "      background-color: #434B5C;\n",
              "      box-shadow: 0px 1px 3px 1px rgba(0, 0, 0, 0.15);\n",
              "      filter: drop-shadow(0px 1px 2px rgba(0, 0, 0, 0.3));\n",
              "      fill: #FFFFFF;\n",
              "    }\n",
              "  </style>\n",
              "\n",
              "      <script>\n",
              "        const buttonEl =\n",
              "          document.querySelector('#df-6d03d32f-81b7-4ac2-a89f-10e13240f8cc button.colab-df-convert');\n",
              "        buttonEl.style.display =\n",
              "          google.colab.kernel.accessAllowed ? 'block' : 'none';\n",
              "\n",
              "        async function convertToInteractive(key) {\n",
              "          const element = document.querySelector('#df-6d03d32f-81b7-4ac2-a89f-10e13240f8cc');\n",
              "          const dataTable =\n",
              "            await google.colab.kernel.invokeFunction('convertToInteractive',\n",
              "                                                     [key], {});\n",
              "          if (!dataTable) return;\n",
              "\n",
              "          const docLinkHtml = 'Like what you see? Visit the ' +\n",
              "            '<a target=\"_blank\" href=https://colab.research.google.com/notebooks/data_table.ipynb>data table notebook</a>'\n",
              "            + ' to learn more about interactive tables.';\n",
              "          element.innerHTML = '';\n",
              "          dataTable['output_type'] = 'display_data';\n",
              "          await google.colab.output.renderOutput(dataTable, element);\n",
              "          const docLink = document.createElement('div');\n",
              "          docLink.innerHTML = docLinkHtml;\n",
              "          element.appendChild(docLink);\n",
              "        }\n",
              "      </script>\n",
              "    </div>\n",
              "  </div>\n",
              "  "
            ]
          },
          "metadata": {},
          "execution_count": 91
        }
      ]
    },
    {
      "cell_type": "code",
      "source": [
        "len(video_df)"
      ],
      "metadata": {
        "colab": {
          "base_uri": "https://localhost:8080/"
        },
        "id": "ViYFcX7iVJyp",
        "outputId": "e4b7cdc2-02de-4687-863c-c09e6d96f6f6"
      },
      "execution_count": null,
      "outputs": [
        {
          "output_type": "execute_result",
          "data": {
            "text/plain": [
              "58242"
            ]
          },
          "metadata": {},
          "execution_count": 92
        }
      ]
    },
    {
      "cell_type": "code",
      "source": [
        "video_df.isnull().sum()"
      ],
      "metadata": {
        "id": "TpFpJc0Tpb1g",
        "colab": {
          "base_uri": "https://localhost:8080/"
        },
        "outputId": "08496430-5166-45d6-9fc3-d644dac8ee26"
      },
      "execution_count": null,
      "outputs": [
        {
          "output_type": "execute_result",
          "data": {
            "text/plain": [
              "channelTitle       0\n",
              "title              0\n",
              "tags            1203\n",
              "publishedAt        3\n",
              "viewCount          3\n",
              "likeCount        103\n",
              "commentCount      56\n",
              "duration           3\n",
              "dtype: int64"
            ]
          },
          "metadata": {},
          "execution_count": 93
        }
      ]
    },
    {
      "cell_type": "code",
      "source": [
        "video_df.dtypes"
      ],
      "metadata": {
        "id": "anC-j9FHpsOZ",
        "colab": {
          "base_uri": "https://localhost:8080/"
        },
        "outputId": "efd60459-ac25-4a00-b20b-35f5ffe40e02"
      },
      "execution_count": null,
      "outputs": [
        {
          "output_type": "execute_result",
          "data": {
            "text/plain": [
              "channelTitle     object\n",
              "title            object\n",
              "tags             object\n",
              "publishedAt      object\n",
              "viewCount       float64\n",
              "likeCount       float64\n",
              "commentCount     object\n",
              "duration         object\n",
              "dtype: object"
            ]
          },
          "metadata": {},
          "execution_count": 94
        }
      ]
    },
    {
      "cell_type": "code",
      "source": [
        "#Changing 'viewCount', 'likeCount','commentCount' into Numeric Format\n",
        "numeric_cols= ['commentCount']\n",
        "video_df[numeric_cols]=video_df[numeric_cols].apply(pd.to_numeric,errors='coerce',axis=1)"
      ],
      "metadata": {
        "id": "k6R_kzlFqMIE"
      },
      "execution_count": null,
      "outputs": []
    },
    {
      "cell_type": "code",
      "source": [
        "video_df.dtypes"
      ],
      "metadata": {
        "id": "NGoJNgtGG9d3",
        "colab": {
          "base_uri": "https://localhost:8080/"
        },
        "outputId": "bd23cbbe-8c22-4f4c-aee5-eaedd306434b"
      },
      "execution_count": null,
      "outputs": [
        {
          "output_type": "execute_result",
          "data": {
            "text/plain": [
              "channelTitle     object\n",
              "title            object\n",
              "tags             object\n",
              "publishedAt      object\n",
              "viewCount       float64\n",
              "likeCount       float64\n",
              "commentCount    float64\n",
              "duration         object\n",
              "dtype: object"
            ]
          },
          "metadata": {},
          "execution_count": 96
        }
      ]
    },
    {
      "cell_type": "code",
      "source": [
        "video_df['likeCount'].isnull().sum(), video_df['commentCount'].isnull().sum()"
      ],
      "metadata": {
        "id": "FEArSP2PqxP7",
        "colab": {
          "base_uri": "https://localhost:8080/"
        },
        "outputId": "9e065ea5-8cad-45e3-8c17-f7ac63c001a5"
      },
      "execution_count": null,
      "outputs": [
        {
          "output_type": "execute_result",
          "data": {
            "text/plain": [
              "(103, 56)"
            ]
          },
          "metadata": {},
          "execution_count": 97
        }
      ]
    },
    {
      "cell_type": "code",
      "source": [
        "# select rows where both likecount and commentcount are NULL\n",
        "null_rows = video_df[(video_df['likeCount'].isnull()) & (video_df['commentCount'].isnull())]\n",
        "\n",
        "# print the selected rows\n",
        "pd.DataFrame(null_rows)"
      ],
      "metadata": {
        "id": "CtYZVQ_-rK85",
        "colab": {
          "base_uri": "https://localhost:8080/",
          "height": 806
        },
        "outputId": "53e0d8d6-5357-469c-d538-97ce286baea5"
      },
      "execution_count": null,
      "outputs": [
        {
          "output_type": "execute_result",
          "data": {
            "text/plain": [
              "            channelTitle                                              title  \\\n",
              "4431        Aditya Music  Kalavathi Kalavathi Full Video Song || Palasa ...   \n",
              "4622        Aditya Music  Ningilona Jaabilamma Song Promo || Chinni Gund...   \n",
              "7820        Aditya Music  Lover Also Fighter Also Cover By Shanmukh Jasw...   \n",
              "29941           T-Series  Laung Laachi/Sheesha Ep 9★ Harshdeep K & Ranjit B   \n",
              "29951           T-Series                       Teaser: Laung Laachi/Sheesha   \n",
              "29967           T-Series  Khudkhushi Video Song | Priyank Sharma & Rashm...   \n",
              "38850           T-Series      khurafati Nitin Presents \"What The Luck Yaar\"   \n",
              "55253  Zee Music Company  Heels Meri High Hein - Official Music Video | ...   \n",
              "56841  Zee Music Company  Vande Mataram - Yeh Hai Judgement Hanged Till ...   \n",
              "56995  Zee Music Company  Resham Ka Rumaal - Full Audio | Great Grand Ma...   \n",
              "56996  Zee Music Company  Teri Kamar Ko - LYRICAL | Great Grand Masti | ...   \n",
              "57008  Zee Music Company  Teri Kamar Ko - FULL SONG | Great Grand Masti ...   \n",
              "57013  Zee Music Company  Teri Kamar Ko - Great Grand Masti | Riteish D,...   \n",
              "57322  Zee Music Company  Kutta Kaat Gaya - Charlie Kay Chakkar Mein | S...   \n",
              "57624  Zee Music Company  Ring Diamond Di | Madhuri | Akriti Kakkar & Sa...   \n",
              "\n",
              "                                                    tags  \\\n",
              "4431   ['Palasa 1978', 'Palasa Movie', 'Palasa 1978 T...   \n",
              "4622                                                 NaN   \n",
              "7820   ['LoverAlsoFighterAlso Cover By Shanmukh Jaswa...   \n",
              "29941                                                NaN   \n",
              "29951                                                NaN   \n",
              "29967                                                NaN   \n",
              "38850  ['what the luck yaar', 'latest songs', 'khuraf...   \n",
              "55253  ['Heels Meri High Hein', 'Heels Meri High Hein...   \n",
              "56841  ['Vande Mataram', 'vande mataram original', 'v...   \n",
              "56995  ['resham ka rumaal', 'resham da', 'resham da r...   \n",
              "56996  ['Teri Kamar Ko', 'great grand masti trailer',...   \n",
              "57008  ['Teri Kamar Ko', 'great grand masti trailer',...   \n",
              "57013  ['Teri Kamar Ko', 'great grand masti trailer',...   \n",
              "57322  ['Charlie Kay Chakkar Mein', 'Charlie Kay Chak...   \n",
              "57624  ['ZMC', 'Zee Music Company', 'Hindi Latest Son...   \n",
              "\n",
              "                publishedAt  viewCount  likeCount  commentCount    duration  \n",
              "4431   2020-11-28T10:31:33Z  1740147.0        NaN           NaN     PT3M19S  \n",
              "4622   2020-08-14T09:49:49Z    32749.0        NaN           NaN       PT38S  \n",
              "7820   2018-02-28T15:38:08Z  6124442.0        NaN           NaN    PT10M49S  \n",
              "29941                   NaN        NaN        NaN           NaN         NaN  \n",
              "29951                   NaN        NaN        NaN           NaN         NaN  \n",
              "29967                   NaN        NaN        NaN           NaN         NaN  \n",
              "38850  2012-11-05T09:47:46Z     7418.0        NaN           NaN  PT1H11M41S  \n",
              "55253  2018-08-08T07:25:27Z   500407.0        NaN           NaN     PT3M30S  \n",
              "56841  2016-08-29T09:42:20Z    17139.0        NaN           NaN      PT2M5S  \n",
              "56995  2016-07-01T12:33:12Z   641721.0        NaN           NaN     PT3M40S  \n",
              "56996  2016-07-01T09:04:32Z   783663.0        NaN           NaN     PT2M38S  \n",
              "57008  2016-06-24T05:18:14Z   682514.0        NaN           NaN     PT3M46S  \n",
              "57013  2016-06-22T04:31:30Z  8132125.0        NaN           NaN     PT2M16S  \n",
              "57322  2015-10-29T05:41:01Z    83791.0        NaN           NaN     PT2M26S  \n",
              "57624  2015-06-05T05:30:00Z   991534.0        NaN           NaN     PT3M16S  "
            ],
            "text/html": [
              "\n",
              "  <div id=\"df-e512b05c-4179-4cac-b7e9-2afa32e4c575\">\n",
              "    <div class=\"colab-df-container\">\n",
              "      <div>\n",
              "<style scoped>\n",
              "    .dataframe tbody tr th:only-of-type {\n",
              "        vertical-align: middle;\n",
              "    }\n",
              "\n",
              "    .dataframe tbody tr th {\n",
              "        vertical-align: top;\n",
              "    }\n",
              "\n",
              "    .dataframe thead th {\n",
              "        text-align: right;\n",
              "    }\n",
              "</style>\n",
              "<table border=\"1\" class=\"dataframe\">\n",
              "  <thead>\n",
              "    <tr style=\"text-align: right;\">\n",
              "      <th></th>\n",
              "      <th>channelTitle</th>\n",
              "      <th>title</th>\n",
              "      <th>tags</th>\n",
              "      <th>publishedAt</th>\n",
              "      <th>viewCount</th>\n",
              "      <th>likeCount</th>\n",
              "      <th>commentCount</th>\n",
              "      <th>duration</th>\n",
              "    </tr>\n",
              "  </thead>\n",
              "  <tbody>\n",
              "    <tr>\n",
              "      <th>4431</th>\n",
              "      <td>Aditya Music</td>\n",
              "      <td>Kalavathi Kalavathi Full Video Song || Palasa ...</td>\n",
              "      <td>['Palasa 1978', 'Palasa Movie', 'Palasa 1978 T...</td>\n",
              "      <td>2020-11-28T10:31:33Z</td>\n",
              "      <td>1740147.0</td>\n",
              "      <td>NaN</td>\n",
              "      <td>NaN</td>\n",
              "      <td>PT3M19S</td>\n",
              "    </tr>\n",
              "    <tr>\n",
              "      <th>4622</th>\n",
              "      <td>Aditya Music</td>\n",
              "      <td>Ningilona Jaabilamma Song Promo || Chinni Gund...</td>\n",
              "      <td>NaN</td>\n",
              "      <td>2020-08-14T09:49:49Z</td>\n",
              "      <td>32749.0</td>\n",
              "      <td>NaN</td>\n",
              "      <td>NaN</td>\n",
              "      <td>PT38S</td>\n",
              "    </tr>\n",
              "    <tr>\n",
              "      <th>7820</th>\n",
              "      <td>Aditya Music</td>\n",
              "      <td>Lover Also Fighter Also Cover By Shanmukh Jasw...</td>\n",
              "      <td>['LoverAlsoFighterAlso Cover By Shanmukh Jaswa...</td>\n",
              "      <td>2018-02-28T15:38:08Z</td>\n",
              "      <td>6124442.0</td>\n",
              "      <td>NaN</td>\n",
              "      <td>NaN</td>\n",
              "      <td>PT10M49S</td>\n",
              "    </tr>\n",
              "    <tr>\n",
              "      <th>29941</th>\n",
              "      <td>T-Series</td>\n",
              "      <td>Laung Laachi/Sheesha Ep 9★ Harshdeep K &amp; Ranjit B</td>\n",
              "      <td>NaN</td>\n",
              "      <td>NaN</td>\n",
              "      <td>NaN</td>\n",
              "      <td>NaN</td>\n",
              "      <td>NaN</td>\n",
              "      <td>NaN</td>\n",
              "    </tr>\n",
              "    <tr>\n",
              "      <th>29951</th>\n",
              "      <td>T-Series</td>\n",
              "      <td>Teaser: Laung Laachi/Sheesha</td>\n",
              "      <td>NaN</td>\n",
              "      <td>NaN</td>\n",
              "      <td>NaN</td>\n",
              "      <td>NaN</td>\n",
              "      <td>NaN</td>\n",
              "      <td>NaN</td>\n",
              "    </tr>\n",
              "    <tr>\n",
              "      <th>29967</th>\n",
              "      <td>T-Series</td>\n",
              "      <td>Khudkhushi Video Song | Priyank Sharma &amp; Rashm...</td>\n",
              "      <td>NaN</td>\n",
              "      <td>NaN</td>\n",
              "      <td>NaN</td>\n",
              "      <td>NaN</td>\n",
              "      <td>NaN</td>\n",
              "      <td>NaN</td>\n",
              "    </tr>\n",
              "    <tr>\n",
              "      <th>38850</th>\n",
              "      <td>T-Series</td>\n",
              "      <td>khurafati Nitin Presents \"What The Luck Yaar\"</td>\n",
              "      <td>['what the luck yaar', 'latest songs', 'khuraf...</td>\n",
              "      <td>2012-11-05T09:47:46Z</td>\n",
              "      <td>7418.0</td>\n",
              "      <td>NaN</td>\n",
              "      <td>NaN</td>\n",
              "      <td>PT1H11M41S</td>\n",
              "    </tr>\n",
              "    <tr>\n",
              "      <th>55253</th>\n",
              "      <td>Zee Music Company</td>\n",
              "      <td>Heels Meri High Hein - Official Music Video | ...</td>\n",
              "      <td>['Heels Meri High Hein', 'Heels Meri High Hein...</td>\n",
              "      <td>2018-08-08T07:25:27Z</td>\n",
              "      <td>500407.0</td>\n",
              "      <td>NaN</td>\n",
              "      <td>NaN</td>\n",
              "      <td>PT3M30S</td>\n",
              "    </tr>\n",
              "    <tr>\n",
              "      <th>56841</th>\n",
              "      <td>Zee Music Company</td>\n",
              "      <td>Vande Mataram - Yeh Hai Judgement Hanged Till ...</td>\n",
              "      <td>['Vande Mataram', 'vande mataram original', 'v...</td>\n",
              "      <td>2016-08-29T09:42:20Z</td>\n",
              "      <td>17139.0</td>\n",
              "      <td>NaN</td>\n",
              "      <td>NaN</td>\n",
              "      <td>PT2M5S</td>\n",
              "    </tr>\n",
              "    <tr>\n",
              "      <th>56995</th>\n",
              "      <td>Zee Music Company</td>\n",
              "      <td>Resham Ka Rumaal - Full Audio | Great Grand Ma...</td>\n",
              "      <td>['resham ka rumaal', 'resham da', 'resham da r...</td>\n",
              "      <td>2016-07-01T12:33:12Z</td>\n",
              "      <td>641721.0</td>\n",
              "      <td>NaN</td>\n",
              "      <td>NaN</td>\n",
              "      <td>PT3M40S</td>\n",
              "    </tr>\n",
              "    <tr>\n",
              "      <th>56996</th>\n",
              "      <td>Zee Music Company</td>\n",
              "      <td>Teri Kamar Ko - LYRICAL | Great Grand Masti | ...</td>\n",
              "      <td>['Teri Kamar Ko', 'great grand masti trailer',...</td>\n",
              "      <td>2016-07-01T09:04:32Z</td>\n",
              "      <td>783663.0</td>\n",
              "      <td>NaN</td>\n",
              "      <td>NaN</td>\n",
              "      <td>PT2M38S</td>\n",
              "    </tr>\n",
              "    <tr>\n",
              "      <th>57008</th>\n",
              "      <td>Zee Music Company</td>\n",
              "      <td>Teri Kamar Ko - FULL SONG | Great Grand Masti ...</td>\n",
              "      <td>['Teri Kamar Ko', 'great grand masti trailer',...</td>\n",
              "      <td>2016-06-24T05:18:14Z</td>\n",
              "      <td>682514.0</td>\n",
              "      <td>NaN</td>\n",
              "      <td>NaN</td>\n",
              "      <td>PT3M46S</td>\n",
              "    </tr>\n",
              "    <tr>\n",
              "      <th>57013</th>\n",
              "      <td>Zee Music Company</td>\n",
              "      <td>Teri Kamar Ko - Great Grand Masti | Riteish D,...</td>\n",
              "      <td>['Teri Kamar Ko', 'great grand masti trailer',...</td>\n",
              "      <td>2016-06-22T04:31:30Z</td>\n",
              "      <td>8132125.0</td>\n",
              "      <td>NaN</td>\n",
              "      <td>NaN</td>\n",
              "      <td>PT2M16S</td>\n",
              "    </tr>\n",
              "    <tr>\n",
              "      <th>57322</th>\n",
              "      <td>Zee Music Company</td>\n",
              "      <td>Kutta Kaat Gaya - Charlie Kay Chakkar Mein | S...</td>\n",
              "      <td>['Charlie Kay Chakkar Mein', 'Charlie Kay Chak...</td>\n",
              "      <td>2015-10-29T05:41:01Z</td>\n",
              "      <td>83791.0</td>\n",
              "      <td>NaN</td>\n",
              "      <td>NaN</td>\n",
              "      <td>PT2M26S</td>\n",
              "    </tr>\n",
              "    <tr>\n",
              "      <th>57624</th>\n",
              "      <td>Zee Music Company</td>\n",
              "      <td>Ring Diamond Di | Madhuri | Akriti Kakkar &amp; Sa...</td>\n",
              "      <td>['ZMC', 'Zee Music Company', 'Hindi Latest Son...</td>\n",
              "      <td>2015-06-05T05:30:00Z</td>\n",
              "      <td>991534.0</td>\n",
              "      <td>NaN</td>\n",
              "      <td>NaN</td>\n",
              "      <td>PT3M16S</td>\n",
              "    </tr>\n",
              "  </tbody>\n",
              "</table>\n",
              "</div>\n",
              "      <button class=\"colab-df-convert\" onclick=\"convertToInteractive('df-e512b05c-4179-4cac-b7e9-2afa32e4c575')\"\n",
              "              title=\"Convert this dataframe to an interactive table.\"\n",
              "              style=\"display:none;\">\n",
              "        \n",
              "  <svg xmlns=\"http://www.w3.org/2000/svg\" height=\"24px\"viewBox=\"0 0 24 24\"\n",
              "       width=\"24px\">\n",
              "    <path d=\"M0 0h24v24H0V0z\" fill=\"none\"/>\n",
              "    <path d=\"M18.56 5.44l.94 2.06.94-2.06 2.06-.94-2.06-.94-.94-2.06-.94 2.06-2.06.94zm-11 1L8.5 8.5l.94-2.06 2.06-.94-2.06-.94L8.5 2.5l-.94 2.06-2.06.94zm10 10l.94 2.06.94-2.06 2.06-.94-2.06-.94-.94-2.06-.94 2.06-2.06.94z\"/><path d=\"M17.41 7.96l-1.37-1.37c-.4-.4-.92-.59-1.43-.59-.52 0-1.04.2-1.43.59L10.3 9.45l-7.72 7.72c-.78.78-.78 2.05 0 2.83L4 21.41c.39.39.9.59 1.41.59.51 0 1.02-.2 1.41-.59l7.78-7.78 2.81-2.81c.8-.78.8-2.07 0-2.86zM5.41 20L4 18.59l7.72-7.72 1.47 1.35L5.41 20z\"/>\n",
              "  </svg>\n",
              "      </button>\n",
              "      \n",
              "  <style>\n",
              "    .colab-df-container {\n",
              "      display:flex;\n",
              "      flex-wrap:wrap;\n",
              "      gap: 12px;\n",
              "    }\n",
              "\n",
              "    .colab-df-convert {\n",
              "      background-color: #E8F0FE;\n",
              "      border: none;\n",
              "      border-radius: 50%;\n",
              "      cursor: pointer;\n",
              "      display: none;\n",
              "      fill: #1967D2;\n",
              "      height: 32px;\n",
              "      padding: 0 0 0 0;\n",
              "      width: 32px;\n",
              "    }\n",
              "\n",
              "    .colab-df-convert:hover {\n",
              "      background-color: #E2EBFA;\n",
              "      box-shadow: 0px 1px 2px rgba(60, 64, 67, 0.3), 0px 1px 3px 1px rgba(60, 64, 67, 0.15);\n",
              "      fill: #174EA6;\n",
              "    }\n",
              "\n",
              "    [theme=dark] .colab-df-convert {\n",
              "      background-color: #3B4455;\n",
              "      fill: #D2E3FC;\n",
              "    }\n",
              "\n",
              "    [theme=dark] .colab-df-convert:hover {\n",
              "      background-color: #434B5C;\n",
              "      box-shadow: 0px 1px 3px 1px rgba(0, 0, 0, 0.15);\n",
              "      filter: drop-shadow(0px 1px 2px rgba(0, 0, 0, 0.3));\n",
              "      fill: #FFFFFF;\n",
              "    }\n",
              "  </style>\n",
              "\n",
              "      <script>\n",
              "        const buttonEl =\n",
              "          document.querySelector('#df-e512b05c-4179-4cac-b7e9-2afa32e4c575 button.colab-df-convert');\n",
              "        buttonEl.style.display =\n",
              "          google.colab.kernel.accessAllowed ? 'block' : 'none';\n",
              "\n",
              "        async function convertToInteractive(key) {\n",
              "          const element = document.querySelector('#df-e512b05c-4179-4cac-b7e9-2afa32e4c575');\n",
              "          const dataTable =\n",
              "            await google.colab.kernel.invokeFunction('convertToInteractive',\n",
              "                                                     [key], {});\n",
              "          if (!dataTable) return;\n",
              "\n",
              "          const docLinkHtml = 'Like what you see? Visit the ' +\n",
              "            '<a target=\"_blank\" href=https://colab.research.google.com/notebooks/data_table.ipynb>data table notebook</a>'\n",
              "            + ' to learn more about interactive tables.';\n",
              "          element.innerHTML = '';\n",
              "          dataTable['output_type'] = 'display_data';\n",
              "          await google.colab.output.renderOutput(dataTable, element);\n",
              "          const docLink = document.createElement('div');\n",
              "          docLink.innerHTML = docLinkHtml;\n",
              "          element.appendChild(docLink);\n",
              "        }\n",
              "      </script>\n",
              "    </div>\n",
              "  </div>\n",
              "  "
            ]
          },
          "metadata": {},
          "execution_count": 98
        }
      ]
    },
    {
      "cell_type": "code",
      "source": [
        "len(video_df),len(null_rows)"
      ],
      "metadata": {
        "id": "xvlAOKfdtC2W",
        "colab": {
          "base_uri": "https://localhost:8080/"
        },
        "outputId": "241d7522-4d12-4af3-b113-83384f3fd6dd"
      },
      "execution_count": null,
      "outputs": [
        {
          "output_type": "execute_result",
          "data": {
            "text/plain": [
              "(58242, 15)"
            ]
          },
          "metadata": {},
          "execution_count": 99
        }
      ]
    },
    {
      "cell_type": "code",
      "source": [
        "#Deleting this 15 rows as they can't impact much on dataset\n",
        "video_df= video_df.drop(null_rows.index)\n",
        "len(video_df)"
      ],
      "metadata": {
        "id": "IGmDfab8tJVV",
        "colab": {
          "base_uri": "https://localhost:8080/"
        },
        "outputId": "23bf8cc4-3010-4efc-c648-a77488d59205"
      },
      "execution_count": null,
      "outputs": [
        {
          "output_type": "execute_result",
          "data": {
            "text/plain": [
              "58227"
            ]
          },
          "metadata": {},
          "execution_count": 100
        }
      ]
    },
    {
      "cell_type": "code",
      "source": [
        "video_df.head()"
      ],
      "metadata": {
        "colab": {
          "base_uri": "https://localhost:8080/",
          "height": 206
        },
        "id": "LrxMngUcajZM",
        "outputId": "84a91558-58b8-45b6-a52f-e0a23d43da58"
      },
      "execution_count": null,
      "outputs": [
        {
          "output_type": "execute_result",
          "data": {
            "text/plain": [
              "   channelTitle                                              title tags  \\\n",
              "0  Aditya Music  Hello Alludu Full Songs Jukebox | Suman, Rambh...  NaN   \n",
              "1  Aditya Music  Ammayi Kosam Full Songs Jukebox | Vineeth, Mee...  NaN   \n",
              "2  Aditya Music  Ammo Okato Thareeku Full Songs Jukebox | Srika...  NaN   \n",
              "3  Aditya Music  Interview With Priya Hegde And Kiran Raj | Nuv...  NaN   \n",
              "4  Aditya Music  Manusutho Preminchi Full Video Song | Samudram...  NaN   \n",
              "\n",
              "            publishedAt  viewCount  likeCount  commentCount  duration  \n",
              "0  2023-02-21T17:30:05Z      139.0        1.0           0.0  PT20M55S  \n",
              "1  2023-02-21T17:00:38Z      458.0        2.0           0.0  PT26M56S  \n",
              "2  2023-02-21T16:30:13Z      534.0        3.0           0.0  PT26M58S  \n",
              "3  2023-02-21T13:30:08Z     1364.0       14.0           0.0  PT26M52S  \n",
              "4  2023-02-21T13:00:16Z     1930.0       32.0           6.0   PT3M32S  "
            ],
            "text/html": [
              "\n",
              "  <div id=\"df-89fd2bbe-d7f3-4e56-b8aa-4f1c7a76849e\">\n",
              "    <div class=\"colab-df-container\">\n",
              "      <div>\n",
              "<style scoped>\n",
              "    .dataframe tbody tr th:only-of-type {\n",
              "        vertical-align: middle;\n",
              "    }\n",
              "\n",
              "    .dataframe tbody tr th {\n",
              "        vertical-align: top;\n",
              "    }\n",
              "\n",
              "    .dataframe thead th {\n",
              "        text-align: right;\n",
              "    }\n",
              "</style>\n",
              "<table border=\"1\" class=\"dataframe\">\n",
              "  <thead>\n",
              "    <tr style=\"text-align: right;\">\n",
              "      <th></th>\n",
              "      <th>channelTitle</th>\n",
              "      <th>title</th>\n",
              "      <th>tags</th>\n",
              "      <th>publishedAt</th>\n",
              "      <th>viewCount</th>\n",
              "      <th>likeCount</th>\n",
              "      <th>commentCount</th>\n",
              "      <th>duration</th>\n",
              "    </tr>\n",
              "  </thead>\n",
              "  <tbody>\n",
              "    <tr>\n",
              "      <th>0</th>\n",
              "      <td>Aditya Music</td>\n",
              "      <td>Hello Alludu Full Songs Jukebox | Suman, Rambh...</td>\n",
              "      <td>NaN</td>\n",
              "      <td>2023-02-21T17:30:05Z</td>\n",
              "      <td>139.0</td>\n",
              "      <td>1.0</td>\n",
              "      <td>0.0</td>\n",
              "      <td>PT20M55S</td>\n",
              "    </tr>\n",
              "    <tr>\n",
              "      <th>1</th>\n",
              "      <td>Aditya Music</td>\n",
              "      <td>Ammayi Kosam Full Songs Jukebox | Vineeth, Mee...</td>\n",
              "      <td>NaN</td>\n",
              "      <td>2023-02-21T17:00:38Z</td>\n",
              "      <td>458.0</td>\n",
              "      <td>2.0</td>\n",
              "      <td>0.0</td>\n",
              "      <td>PT26M56S</td>\n",
              "    </tr>\n",
              "    <tr>\n",
              "      <th>2</th>\n",
              "      <td>Aditya Music</td>\n",
              "      <td>Ammo Okato Thareeku Full Songs Jukebox | Srika...</td>\n",
              "      <td>NaN</td>\n",
              "      <td>2023-02-21T16:30:13Z</td>\n",
              "      <td>534.0</td>\n",
              "      <td>3.0</td>\n",
              "      <td>0.0</td>\n",
              "      <td>PT26M58S</td>\n",
              "    </tr>\n",
              "    <tr>\n",
              "      <th>3</th>\n",
              "      <td>Aditya Music</td>\n",
              "      <td>Interview With Priya Hegde And Kiran Raj | Nuv...</td>\n",
              "      <td>NaN</td>\n",
              "      <td>2023-02-21T13:30:08Z</td>\n",
              "      <td>1364.0</td>\n",
              "      <td>14.0</td>\n",
              "      <td>0.0</td>\n",
              "      <td>PT26M52S</td>\n",
              "    </tr>\n",
              "    <tr>\n",
              "      <th>4</th>\n",
              "      <td>Aditya Music</td>\n",
              "      <td>Manusutho Preminchi Full Video Song | Samudram...</td>\n",
              "      <td>NaN</td>\n",
              "      <td>2023-02-21T13:00:16Z</td>\n",
              "      <td>1930.0</td>\n",
              "      <td>32.0</td>\n",
              "      <td>6.0</td>\n",
              "      <td>PT3M32S</td>\n",
              "    </tr>\n",
              "  </tbody>\n",
              "</table>\n",
              "</div>\n",
              "      <button class=\"colab-df-convert\" onclick=\"convertToInteractive('df-89fd2bbe-d7f3-4e56-b8aa-4f1c7a76849e')\"\n",
              "              title=\"Convert this dataframe to an interactive table.\"\n",
              "              style=\"display:none;\">\n",
              "        \n",
              "  <svg xmlns=\"http://www.w3.org/2000/svg\" height=\"24px\"viewBox=\"0 0 24 24\"\n",
              "       width=\"24px\">\n",
              "    <path d=\"M0 0h24v24H0V0z\" fill=\"none\"/>\n",
              "    <path d=\"M18.56 5.44l.94 2.06.94-2.06 2.06-.94-2.06-.94-.94-2.06-.94 2.06-2.06.94zm-11 1L8.5 8.5l.94-2.06 2.06-.94-2.06-.94L8.5 2.5l-.94 2.06-2.06.94zm10 10l.94 2.06.94-2.06 2.06-.94-2.06-.94-.94-2.06-.94 2.06-2.06.94z\"/><path d=\"M17.41 7.96l-1.37-1.37c-.4-.4-.92-.59-1.43-.59-.52 0-1.04.2-1.43.59L10.3 9.45l-7.72 7.72c-.78.78-.78 2.05 0 2.83L4 21.41c.39.39.9.59 1.41.59.51 0 1.02-.2 1.41-.59l7.78-7.78 2.81-2.81c.8-.78.8-2.07 0-2.86zM5.41 20L4 18.59l7.72-7.72 1.47 1.35L5.41 20z\"/>\n",
              "  </svg>\n",
              "      </button>\n",
              "      \n",
              "  <style>\n",
              "    .colab-df-container {\n",
              "      display:flex;\n",
              "      flex-wrap:wrap;\n",
              "      gap: 12px;\n",
              "    }\n",
              "\n",
              "    .colab-df-convert {\n",
              "      background-color: #E8F0FE;\n",
              "      border: none;\n",
              "      border-radius: 50%;\n",
              "      cursor: pointer;\n",
              "      display: none;\n",
              "      fill: #1967D2;\n",
              "      height: 32px;\n",
              "      padding: 0 0 0 0;\n",
              "      width: 32px;\n",
              "    }\n",
              "\n",
              "    .colab-df-convert:hover {\n",
              "      background-color: #E2EBFA;\n",
              "      box-shadow: 0px 1px 2px rgba(60, 64, 67, 0.3), 0px 1px 3px 1px rgba(60, 64, 67, 0.15);\n",
              "      fill: #174EA6;\n",
              "    }\n",
              "\n",
              "    [theme=dark] .colab-df-convert {\n",
              "      background-color: #3B4455;\n",
              "      fill: #D2E3FC;\n",
              "    }\n",
              "\n",
              "    [theme=dark] .colab-df-convert:hover {\n",
              "      background-color: #434B5C;\n",
              "      box-shadow: 0px 1px 3px 1px rgba(0, 0, 0, 0.15);\n",
              "      filter: drop-shadow(0px 1px 2px rgba(0, 0, 0, 0.3));\n",
              "      fill: #FFFFFF;\n",
              "    }\n",
              "  </style>\n",
              "\n",
              "      <script>\n",
              "        const buttonEl =\n",
              "          document.querySelector('#df-89fd2bbe-d7f3-4e56-b8aa-4f1c7a76849e button.colab-df-convert');\n",
              "        buttonEl.style.display =\n",
              "          google.colab.kernel.accessAllowed ? 'block' : 'none';\n",
              "\n",
              "        async function convertToInteractive(key) {\n",
              "          const element = document.querySelector('#df-89fd2bbe-d7f3-4e56-b8aa-4f1c7a76849e');\n",
              "          const dataTable =\n",
              "            await google.colab.kernel.invokeFunction('convertToInteractive',\n",
              "                                                     [key], {});\n",
              "          if (!dataTable) return;\n",
              "\n",
              "          const docLinkHtml = 'Like what you see? Visit the ' +\n",
              "            '<a target=\"_blank\" href=https://colab.research.google.com/notebooks/data_table.ipynb>data table notebook</a>'\n",
              "            + ' to learn more about interactive tables.';\n",
              "          element.innerHTML = '';\n",
              "          dataTable['output_type'] = 'display_data';\n",
              "          await google.colab.output.renderOutput(dataTable, element);\n",
              "          const docLink = document.createElement('div');\n",
              "          docLink.innerHTML = docLinkHtml;\n",
              "          element.appendChild(docLink);\n",
              "        }\n",
              "      </script>\n",
              "    </div>\n",
              "  </div>\n",
              "  "
            ]
          },
          "metadata": {},
          "execution_count": 101
        }
      ]
    },
    {
      "cell_type": "code",
      "source": [
        "cmnt_null=video_df[video_df['commentCount'].isnull()]\n",
        "video_df=video_df.drop(cmnt_null.index)\n",
        "len(video_df)"
      ],
      "metadata": {
        "id": "nsMF5UItuR8W",
        "colab": {
          "base_uri": "https://localhost:8080/"
        },
        "outputId": "281600c7-d536-49b6-b6f1-397938288666"
      },
      "execution_count": null,
      "outputs": [
        {
          "output_type": "execute_result",
          "data": {
            "text/plain": [
              "58186"
            ]
          },
          "metadata": {},
          "execution_count": 102
        }
      ]
    },
    {
      "cell_type": "code",
      "source": [
        "video_df['likeCount'].describe()"
      ],
      "metadata": {
        "id": "WqXAkuprBB-Y",
        "colab": {
          "base_uri": "https://localhost:8080/"
        },
        "outputId": "8ab789b9-1fa8-475b-a8d0-f68c1cf359b2"
      },
      "execution_count": null,
      "outputs": [
        {
          "output_type": "execute_result",
          "data": {
            "text/plain": [
              "count    5.809800e+04\n",
              "mean     4.111393e+04\n",
              "std      2.296413e+05\n",
              "min      0.000000e+00\n",
              "25%      1.740000e+02\n",
              "50%      1.226500e+03\n",
              "75%      8.474750e+03\n",
              "max      1.252263e+07\n",
              "Name: likeCount, dtype: float64"
            ]
          },
          "metadata": {},
          "execution_count": 103
        }
      ]
    },
    {
      "cell_type": "code",
      "source": [
        "video_df.head()"
      ],
      "metadata": {
        "colab": {
          "base_uri": "https://localhost:8080/",
          "height": 206
        },
        "id": "UPsjo90watLB",
        "outputId": "fdb0a18e-7c04-4d80-c9ae-19c9599503b9"
      },
      "execution_count": null,
      "outputs": [
        {
          "output_type": "execute_result",
          "data": {
            "text/plain": [
              "   channelTitle                                              title tags  \\\n",
              "0  Aditya Music  Hello Alludu Full Songs Jukebox | Suman, Rambh...  NaN   \n",
              "1  Aditya Music  Ammayi Kosam Full Songs Jukebox | Vineeth, Mee...  NaN   \n",
              "2  Aditya Music  Ammo Okato Thareeku Full Songs Jukebox | Srika...  NaN   \n",
              "3  Aditya Music  Interview With Priya Hegde And Kiran Raj | Nuv...  NaN   \n",
              "4  Aditya Music  Manusutho Preminchi Full Video Song | Samudram...  NaN   \n",
              "\n",
              "            publishedAt  viewCount  likeCount  commentCount  duration  \n",
              "0  2023-02-21T17:30:05Z      139.0        1.0           0.0  PT20M55S  \n",
              "1  2023-02-21T17:00:38Z      458.0        2.0           0.0  PT26M56S  \n",
              "2  2023-02-21T16:30:13Z      534.0        3.0           0.0  PT26M58S  \n",
              "3  2023-02-21T13:30:08Z     1364.0       14.0           0.0  PT26M52S  \n",
              "4  2023-02-21T13:00:16Z     1930.0       32.0           6.0   PT3M32S  "
            ],
            "text/html": [
              "\n",
              "  <div id=\"df-6d53e296-3697-4a1c-84d6-5d5930c61612\">\n",
              "    <div class=\"colab-df-container\">\n",
              "      <div>\n",
              "<style scoped>\n",
              "    .dataframe tbody tr th:only-of-type {\n",
              "        vertical-align: middle;\n",
              "    }\n",
              "\n",
              "    .dataframe tbody tr th {\n",
              "        vertical-align: top;\n",
              "    }\n",
              "\n",
              "    .dataframe thead th {\n",
              "        text-align: right;\n",
              "    }\n",
              "</style>\n",
              "<table border=\"1\" class=\"dataframe\">\n",
              "  <thead>\n",
              "    <tr style=\"text-align: right;\">\n",
              "      <th></th>\n",
              "      <th>channelTitle</th>\n",
              "      <th>title</th>\n",
              "      <th>tags</th>\n",
              "      <th>publishedAt</th>\n",
              "      <th>viewCount</th>\n",
              "      <th>likeCount</th>\n",
              "      <th>commentCount</th>\n",
              "      <th>duration</th>\n",
              "    </tr>\n",
              "  </thead>\n",
              "  <tbody>\n",
              "    <tr>\n",
              "      <th>0</th>\n",
              "      <td>Aditya Music</td>\n",
              "      <td>Hello Alludu Full Songs Jukebox | Suman, Rambh...</td>\n",
              "      <td>NaN</td>\n",
              "      <td>2023-02-21T17:30:05Z</td>\n",
              "      <td>139.0</td>\n",
              "      <td>1.0</td>\n",
              "      <td>0.0</td>\n",
              "      <td>PT20M55S</td>\n",
              "    </tr>\n",
              "    <tr>\n",
              "      <th>1</th>\n",
              "      <td>Aditya Music</td>\n",
              "      <td>Ammayi Kosam Full Songs Jukebox | Vineeth, Mee...</td>\n",
              "      <td>NaN</td>\n",
              "      <td>2023-02-21T17:00:38Z</td>\n",
              "      <td>458.0</td>\n",
              "      <td>2.0</td>\n",
              "      <td>0.0</td>\n",
              "      <td>PT26M56S</td>\n",
              "    </tr>\n",
              "    <tr>\n",
              "      <th>2</th>\n",
              "      <td>Aditya Music</td>\n",
              "      <td>Ammo Okato Thareeku Full Songs Jukebox | Srika...</td>\n",
              "      <td>NaN</td>\n",
              "      <td>2023-02-21T16:30:13Z</td>\n",
              "      <td>534.0</td>\n",
              "      <td>3.0</td>\n",
              "      <td>0.0</td>\n",
              "      <td>PT26M58S</td>\n",
              "    </tr>\n",
              "    <tr>\n",
              "      <th>3</th>\n",
              "      <td>Aditya Music</td>\n",
              "      <td>Interview With Priya Hegde And Kiran Raj | Nuv...</td>\n",
              "      <td>NaN</td>\n",
              "      <td>2023-02-21T13:30:08Z</td>\n",
              "      <td>1364.0</td>\n",
              "      <td>14.0</td>\n",
              "      <td>0.0</td>\n",
              "      <td>PT26M52S</td>\n",
              "    </tr>\n",
              "    <tr>\n",
              "      <th>4</th>\n",
              "      <td>Aditya Music</td>\n",
              "      <td>Manusutho Preminchi Full Video Song | Samudram...</td>\n",
              "      <td>NaN</td>\n",
              "      <td>2023-02-21T13:00:16Z</td>\n",
              "      <td>1930.0</td>\n",
              "      <td>32.0</td>\n",
              "      <td>6.0</td>\n",
              "      <td>PT3M32S</td>\n",
              "    </tr>\n",
              "  </tbody>\n",
              "</table>\n",
              "</div>\n",
              "      <button class=\"colab-df-convert\" onclick=\"convertToInteractive('df-6d53e296-3697-4a1c-84d6-5d5930c61612')\"\n",
              "              title=\"Convert this dataframe to an interactive table.\"\n",
              "              style=\"display:none;\">\n",
              "        \n",
              "  <svg xmlns=\"http://www.w3.org/2000/svg\" height=\"24px\"viewBox=\"0 0 24 24\"\n",
              "       width=\"24px\">\n",
              "    <path d=\"M0 0h24v24H0V0z\" fill=\"none\"/>\n",
              "    <path d=\"M18.56 5.44l.94 2.06.94-2.06 2.06-.94-2.06-.94-.94-2.06-.94 2.06-2.06.94zm-11 1L8.5 8.5l.94-2.06 2.06-.94-2.06-.94L8.5 2.5l-.94 2.06-2.06.94zm10 10l.94 2.06.94-2.06 2.06-.94-2.06-.94-.94-2.06-.94 2.06-2.06.94z\"/><path d=\"M17.41 7.96l-1.37-1.37c-.4-.4-.92-.59-1.43-.59-.52 0-1.04.2-1.43.59L10.3 9.45l-7.72 7.72c-.78.78-.78 2.05 0 2.83L4 21.41c.39.39.9.59 1.41.59.51 0 1.02-.2 1.41-.59l7.78-7.78 2.81-2.81c.8-.78.8-2.07 0-2.86zM5.41 20L4 18.59l7.72-7.72 1.47 1.35L5.41 20z\"/>\n",
              "  </svg>\n",
              "      </button>\n",
              "      \n",
              "  <style>\n",
              "    .colab-df-container {\n",
              "      display:flex;\n",
              "      flex-wrap:wrap;\n",
              "      gap: 12px;\n",
              "    }\n",
              "\n",
              "    .colab-df-convert {\n",
              "      background-color: #E8F0FE;\n",
              "      border: none;\n",
              "      border-radius: 50%;\n",
              "      cursor: pointer;\n",
              "      display: none;\n",
              "      fill: #1967D2;\n",
              "      height: 32px;\n",
              "      padding: 0 0 0 0;\n",
              "      width: 32px;\n",
              "    }\n",
              "\n",
              "    .colab-df-convert:hover {\n",
              "      background-color: #E2EBFA;\n",
              "      box-shadow: 0px 1px 2px rgba(60, 64, 67, 0.3), 0px 1px 3px 1px rgba(60, 64, 67, 0.15);\n",
              "      fill: #174EA6;\n",
              "    }\n",
              "\n",
              "    [theme=dark] .colab-df-convert {\n",
              "      background-color: #3B4455;\n",
              "      fill: #D2E3FC;\n",
              "    }\n",
              "\n",
              "    [theme=dark] .colab-df-convert:hover {\n",
              "      background-color: #434B5C;\n",
              "      box-shadow: 0px 1px 3px 1px rgba(0, 0, 0, 0.15);\n",
              "      filter: drop-shadow(0px 1px 2px rgba(0, 0, 0, 0.3));\n",
              "      fill: #FFFFFF;\n",
              "    }\n",
              "  </style>\n",
              "\n",
              "      <script>\n",
              "        const buttonEl =\n",
              "          document.querySelector('#df-6d53e296-3697-4a1c-84d6-5d5930c61612 button.colab-df-convert');\n",
              "        buttonEl.style.display =\n",
              "          google.colab.kernel.accessAllowed ? 'block' : 'none';\n",
              "\n",
              "        async function convertToInteractive(key) {\n",
              "          const element = document.querySelector('#df-6d53e296-3697-4a1c-84d6-5d5930c61612');\n",
              "          const dataTable =\n",
              "            await google.colab.kernel.invokeFunction('convertToInteractive',\n",
              "                                                     [key], {});\n",
              "          if (!dataTable) return;\n",
              "\n",
              "          const docLinkHtml = 'Like what you see? Visit the ' +\n",
              "            '<a target=\"_blank\" href=https://colab.research.google.com/notebooks/data_table.ipynb>data table notebook</a>'\n",
              "            + ' to learn more about interactive tables.';\n",
              "          element.innerHTML = '';\n",
              "          dataTable['output_type'] = 'display_data';\n",
              "          await google.colab.output.renderOutput(dataTable, element);\n",
              "          const docLink = document.createElement('div');\n",
              "          docLink.innerHTML = docLinkHtml;\n",
              "          element.appendChild(docLink);\n",
              "        }\n",
              "      </script>\n",
              "    </div>\n",
              "  </div>\n",
              "  "
            ]
          },
          "metadata": {},
          "execution_count": 104
        }
      ]
    },
    {
      "cell_type": "code",
      "source": [
        "video_df.isnull().sum()"
      ],
      "metadata": {
        "colab": {
          "base_uri": "https://localhost:8080/"
        },
        "id": "JvJu0YzqayHO",
        "outputId": "4518ee02-bf6a-429e-9046-2c5b38359f01"
      },
      "execution_count": null,
      "outputs": [
        {
          "output_type": "execute_result",
          "data": {
            "text/plain": [
              "channelTitle       0\n",
              "title              0\n",
              "tags            1198\n",
              "publishedAt        0\n",
              "viewCount          0\n",
              "likeCount         88\n",
              "commentCount       0\n",
              "duration           0\n",
              "dtype: int64"
            ]
          },
          "metadata": {},
          "execution_count": 105
        }
      ]
    },
    {
      "cell_type": "code",
      "source": [
        "mean_like= video_df['likeCount'].mean()\n",
        "mean_like"
      ],
      "metadata": {
        "colab": {
          "base_uri": "https://localhost:8080/"
        },
        "id": "MM-3yw-oa5mT",
        "outputId": "b540054c-74b5-4578-e591-a87754967311"
      },
      "execution_count": null,
      "outputs": [
        {
          "output_type": "execute_result",
          "data": {
            "text/plain": [
              "41113.92786326552"
            ]
          },
          "metadata": {},
          "execution_count": 106
        }
      ]
    },
    {
      "cell_type": "code",
      "source": [
        "video_df['likeCount'].fillna(mean_like,inplace=True)"
      ],
      "metadata": {
        "id": "zzpbPgEBbFWx"
      },
      "execution_count": null,
      "outputs": []
    },
    {
      "cell_type": "code",
      "source": [
        "video_df.dtypes"
      ],
      "metadata": {
        "colab": {
          "base_uri": "https://localhost:8080/"
        },
        "id": "6Qum10X-bcEk",
        "outputId": "305f317e-a9db-4e93-8a8f-8562259fd384"
      },
      "execution_count": null,
      "outputs": [
        {
          "output_type": "execute_result",
          "data": {
            "text/plain": [
              "channelTitle     object\n",
              "title            object\n",
              "tags             object\n",
              "publishedAt      object\n",
              "viewCount       float64\n",
              "likeCount       float64\n",
              "commentCount    float64\n",
              "duration         object\n",
              "dtype: object"
            ]
          },
          "metadata": {},
          "execution_count": 110
        }
      ]
    },
    {
      "cell_type": "code",
      "source": [
        "video_df.to_csv('video_df.csv', index=False, header=True)"
      ],
      "metadata": {
        "id": "DJ5ti2Umbjgu"
      },
      "execution_count": null,
      "outputs": []
    }
  ]
}